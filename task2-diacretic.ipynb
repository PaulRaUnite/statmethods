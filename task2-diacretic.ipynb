{
 "cells": [
  {
   "cell_type": "markdown",
   "metadata": {
    "collapsed": true,
    "pycharm": {
     "name": "#%% md\n"
    }
   },
   "source": [
    "# Статистичні методи\n",
    "Індивідуальне завдання 2\n",
    "\n",
    "Токарєв Павло, МФ-51"
   ]
  },
  {
   "cell_type": "markdown",
   "source": [
    "## Підготовка даних\n",
    "Текст узятий звідсіля: https://pamiec.pl/pa/biblioteka-cyfrowa/publikacje/53461,Polska-pod-okupacja-19391945-tom-1.html\n",
    "\n",
    "Для початку ми видаляємо усі непотрібні знаки та переноси."
   ],
   "metadata": {
    "collapsed": false,
    "pycharm": {
     "name": "#%% md\n"
    }
   }
  },
  {
   "cell_type": "code",
   "execution_count": 13,
   "outputs": [
    {
     "name": "stdout",
     "text": [
      "ziemie polskie które w drugiej połowie września r dostały się pod okupację so wiecką nie były po prostu połową \npolski która tym tylko różniła się od tej zagarniętej przez niemców że leżała na wschodzie i że zajęli ją rosjanie \nbył to poniekąd inny kraj już przed wojną tereny położone na wschód od wisły i bugu nazywano polską b a \nziemie na zachód od linii obu tych rzek polską a była to zatem gorsza polska polska drugiej jakości skąd brała \nsię ta pogarda dla kresów wschodnich ii rzeczypospolitej otóż ziemie te były gospodarczo i cywilizacyjnie zacofane z dominującym rolnictwem ponad\n"
     ],
     "output_type": "stream"
    }
   ],
   "source": [
    "import math\n",
    "import re\n",
    "from typing import Dict, Iterable, List, Tuple\n",
    "from collections import defaultdict\n",
    "import unidecode as unidecode\n",
    "\n",
    "bad_chars = \"!(),-.0123456789:?[]\\xad„”–\"\n",
    "with open(\"data/polish/1.txt\") as file:\n",
    "    text = file.read()\n",
    "    text = \"\".join(c for c in text if c not in bad_chars).lower()\n",
    "    text = re.sub(r\"\\s+\", \" \", text)\n",
    "# sample\n",
    "print(\" \".join(\"\\n\"+word if i%20==19 else word for i,word in enumerate(text.split()) if i < 99))"
   ],
   "metadata": {
    "collapsed": false,
    "pycharm": {
     "name": "#%%\n",
     "is_executing": false
    }
   }
  },
  {
   "cell_type": "markdown",
   "source": [
    "Усі літери тексту."
   ],
   "metadata": {
    "collapsed": false,
    "pycharm": {
     "name": "#%% md\n"
    }
   }
  },
  {
   "cell_type": "code",
   "execution_count": 14,
   "outputs": [
    {
     "data": {
      "text/plain": "['a',\n 'b',\n 'c',\n 'd',\n 'e',\n 'f',\n 'g',\n 'h',\n 'i',\n 'j',\n 'k',\n 'l',\n 'm',\n 'n',\n 'o',\n 'p',\n 'r',\n 's',\n 't',\n 'u',\n 'v',\n 'w',\n 'y',\n 'z',\n 'ó',\n 'ą',\n 'ć',\n 'ę',\n 'ł',\n 'ń',\n 'ś',\n 'ź',\n 'ż']"
     },
     "metadata": {},
     "output_type": "execute_result",
     "execution_count": 14
    }
   ],
   "source": [
    "chars = sorted(set(text) - set(\" \"))\n",
    "chars"
   ],
   "metadata": {
    "collapsed": false,
    "pycharm": {
     "name": "#%%\n",
     "is_executing": false
    }
   }
  },
  {
   "cell_type": "markdown",
   "source": [
    "Усі слова тексту."
   ],
   "metadata": {
    "collapsed": false,
    "pycharm": {
     "name": "#%% md\n"
    }
   }
  },
  {
   "cell_type": "code",
   "execution_count": 15,
   "outputs": [
    {
     "data": {
      "text/plain": "['ziemie',\n 'polskie',\n 'które',\n 'drugiej',\n 'połowie',\n 'września',\n 'dostały',\n 'się',\n 'pod',\n 'okupację',\n 'so',\n 'wiecką',\n 'nie',\n 'były',\n 'po',\n 'prostu',\n 'połową',\n 'polski',\n 'która',\n 'tym']"
     },
     "metadata": {},
     "output_type": "execute_result",
     "execution_count": 15
    }
   ],
   "source": [
    "words = [word for word in text.split() if len(word) > 1]\n",
    "words[:20]"
   ],
   "metadata": {
    "collapsed": false,
    "pycharm": {
     "name": "#%%\n",
     "is_executing": false
    }
   }
  },
  {
   "cell_type": "markdown",
   "source": [
    "Кількість слів."
   ],
   "metadata": {
    "collapsed": false,
    "pycharm": {
     "name": "#%% md\n",
     "is_executing": false
    }
   }
  },
  {
   "cell_type": "code",
   "execution_count": 16,
   "outputs": [
    {
     "data": {
      "text/plain": "1491"
     },
     "metadata": {},
     "output_type": "execute_result",
     "execution_count": 16
    }
   ],
   "source": [
    "len(words)"
   ],
   "metadata": {
    "collapsed": false,
    "pycharm": {
     "name": "#%%\n",
     "is_executing": false
    }
   }
  },
  {
   "cell_type": "markdown",
   "source": [
    "Функція розбиття на n-грами."
   ],
   "metadata": {
    "collapsed": false,
    "pycharm": {
     "name": "#%% md\n"
    }
   }
  },
  {
   "cell_type": "code",
   "execution_count": 17,
   "outputs": [],
   "source": [
    "def ngrams(words: Iterable[str], n: int) -> Dict[str, int]:\n",
    "    d: Dict[str, int] = defaultdict(int)\n",
    "    for word in words:\n",
    "        if len(word) < n:\n",
    "            continue\n",
    "        for i in range(len(word)-(n-1)):\n",
    "            d[word[i:i+n]] += 1\n",
    "    return d"
   ],
   "metadata": {
    "collapsed": false,
    "pycharm": {
     "name": "#%%\n",
     "is_executing": false
    }
   }
  },
  {
   "cell_type": "markdown",
   "source": [
    "Отримані n-грами."
   ],
   "metadata": {
    "collapsed": false,
    "pycharm": {
     "name": "#%% md\n"
    }
   }
  },
  {
   "cell_type": "code",
   "execution_count": 18,
   "outputs": [
    {
     "data": {
      "text/plain": "[('zi', 44),\n ('ie', 298),\n ('em', 66),\n ('mi', 106),\n ('po', 120),\n ('ol', 53),\n ('ls', 23),\n ('sk', 56),\n ('ki', 79),\n ('kt', 28),\n ('tó', 24),\n ('ór', 22),\n ('re', 45),\n ('dr', 6),\n ('ru', 19),\n ('ug', 6),\n ('gi', 13),\n ('ej', 74),\n ('oł', 9),\n ('ło', 47)]"
     },
     "metadata": {},
     "output_type": "execute_result",
     "execution_count": 18
    }
   ],
   "source": [
    "twograms = ngrams(words, 2)\n",
    "list(twograms.items())[:20]"
   ],
   "metadata": {
    "collapsed": false,
    "pycharm": {
     "name": "#%%\n",
     "is_executing": false
    }
   }
  },
  {
   "cell_type": "code",
   "execution_count": 19,
   "outputs": [
    {
     "data": {
      "text/plain": "[('zie', 31),\n ('iem', 26),\n ('emi', 7),\n ('mie', 30),\n ('pol', 34),\n ('ols', 23),\n ('lsk', 20),\n ('ski', 29),\n ('kie', 36),\n ('któ', 19),\n ('tór', 18),\n ('óre', 8),\n ('dru', 3),\n ('rug', 3),\n ('ugi', 5),\n ('gie', 6),\n ('iej', 27),\n ('poł', 6),\n ('oło', 4),\n ('łow', 9)]"
     },
     "metadata": {},
     "output_type": "execute_result",
     "execution_count": 19
    }
   ],
   "source": [
    "trigrams = ngrams(words, 3)\n",
    "list(trigrams.items())[:20]"
   ],
   "metadata": {
    "collapsed": false,
    "pycharm": {
     "name": "#%%\n",
     "is_executing": false
    }
   }
  },
  {
   "cell_type": "markdown",
   "source": [
    "Функції для обчислення матриці переходу та прогностичної здатності."
   ],
   "metadata": {
    "collapsed": false,
    "pycharm": {
     "name": "#%% md\n"
    }
   }
  },
  {
   "cell_type": "code",
   "execution_count": 20,
   "outputs": [],
   "source": [
    "from collections import OrderedDict\n",
    "from pandas import DataFrame\n",
    "\n",
    "def prognozeability(matrix:List[Tuple[str, List[float]]]):\n",
    "    pm = [\n",
    "        (k, [1+sum(map(lambda p: p*math.log(p,2.0) if p > 0 else 0, l))/math.log(len(l), 2.0)])\n",
    "        for k, l in matrix\n",
    "    ]\n",
    "    return DataFrame.from_dict(OrderedDict(pm), orient=\"index\", columns=[\"prog. ability\"])\n",
    "\n",
    "def matrix(ngrams: Dict[str, int]):\n",
    "    nmgram_amount = defaultdict(int)\n",
    "    for k,v in ngrams.items():\n",
    "        nmgram_amount[k[:-1]]+=v\n",
    "    rev_ind = list(enumerate(sorted({key[:-1] for key in ngrams.keys()})))\n",
    "    indexes = {key:i for i,key in rev_ind}\n",
    "    m = [(rev_ind[i], [0 for _ in range(len(chars))]) for i in range(len(rev_ind))]\n",
    "    for k,v in ngrams.items():\n",
    "        c = k[-1]\n",
    "        k = k[:-1]\n",
    "        i = indexes[k]\n",
    "        a = nmgram_amount[k]\n",
    "        m[i][1][chars.index(c)] = v/a\n",
    "    \n",
    "    return DataFrame.from_dict(OrderedDict(m), orient=\"index\", columns=chars), prognozeability(m)"
   ],
   "metadata": {
    "collapsed": false,
    "pycharm": {
     "name": "#%%\n",
     "is_executing": false
    }
   }
  },
  {
   "cell_type": "markdown",
   "source": [
    "## Результати\n",
    "### 2-грами"
   ],
   "metadata": {
    "collapsed": false,
    "pycharm": {
     "name": "#%% md\n"
    }
   }
  },
  {
   "cell_type": "code",
   "execution_count": 21,
   "outputs": [
    {
     "data": {
      "text/plain": "                a         b         c         d         e         f         g  \\\n(0, a)   0.001653  0.011570  0.120661  0.041322  0.000000  0.001653  0.023140   \n(1, b)   0.111111  0.000000  0.006944  0.000000  0.048611  0.000000  0.000000   \n(2, c)   0.025157  0.000000  0.006289  0.000000  0.064990  0.000000  0.000000   \n(3, d)   0.052846  0.020325  0.008130  0.000000  0.056911  0.000000  0.000000   \n(4, e)   0.000000  0.007042  0.103873  0.054577  0.000000  0.000000  0.091549   \n(5, f)   0.266667  0.000000  0.000000  0.000000  0.066667  0.000000  0.000000   \n(6, g)   0.163793  0.000000  0.000000  0.008621  0.000000  0.000000  0.000000   \n(7, h)   0.136364  0.000000  0.022727  0.000000  0.022727  0.000000  0.000000   \n(8, i)   0.122682  0.001427  0.084165  0.004280  0.425107  0.000000  0.001427   \n(9, j)   0.201220  0.012195  0.000000  0.006098  0.243902  0.000000  0.006098   \n(10, k)  0.121711  0.000000  0.013158  0.000000  0.000000  0.000000  0.000000   \n(11, l)  0.105932  0.016949  0.008475  0.008475  0.152542  0.000000  0.000000   \n(12, m)  0.097561  0.004878  0.009756  0.000000  0.034146  0.000000  0.000000   \n(13, n)  0.179078  0.001773  0.010638  0.010638  0.099291  0.003546  0.001773   \n(14, o)  0.003226  0.037097  0.033871  0.117742  0.001613  0.006452  0.027419   \n(15, p)  0.159722  0.000000  0.000000  0.000000  0.031250  0.000000  0.000000   \n(16, r)  0.156010  0.002558  0.017903  0.020460  0.115090  0.000000  0.000000   \n(17, s)  0.013921  0.000000  0.032483  0.000000  0.004640  0.000000  0.000000   \n(18, t)  0.190341  0.000000  0.002841  0.000000  0.193182  0.000000  0.000000   \n(19, u)  0.015544  0.031088  0.041451  0.155440  0.000000  0.000000  0.031088   \n(20, v)  0.000000  0.000000  0.000000  0.000000  0.000000  0.000000  0.000000   \n(21, w)  0.171875  0.000000  0.000000  0.007812  0.054688  0.000000  0.000000   \n(22, y)  0.000000  0.016077  0.231511  0.019293  0.000000  0.003215  0.009646   \n(23, z)  0.155462  0.008403  0.023109  0.006303  0.197479  0.000000  0.010504   \n(24, ó)  0.000000  0.019608  0.019608  0.107843  0.000000  0.000000  0.009804   \n(25, ą)  0.000000  0.000000  0.500000  0.250000  0.000000  0.000000  0.017857   \n(26, ę)  0.000000  0.043478  0.130435  0.195652  0.000000  0.000000  0.000000   \n(27, ł)  0.288462  0.000000  0.012821  0.000000  0.025641  0.000000  0.000000   \n(28, ń)  0.000000  0.000000  0.388889  0.000000  0.000000  0.000000  0.000000   \n(29, ś)  0.000000  0.000000  0.530303  0.000000  0.000000  0.000000  0.000000   \n(30, ź)  0.000000  0.000000  0.250000  0.250000  0.000000  0.000000  0.000000   \n(31, ż)  0.040541  0.000000  0.000000  0.000000  0.364865  0.000000  0.000000   \n\n                h         i         j  ...         z         ó         ą  \\\n(0, a)   0.000000  0.009917  0.042975  ...  0.019835  0.000000  0.000000   \n(1, b)   0.000000  0.187500  0.000000  ...  0.000000  0.000000  0.006944   \n(2, c)   0.253669  0.161426  0.062893  ...  0.211740  0.008386  0.010482   \n(3, d)   0.000000  0.000000  0.000000  ...  0.203252  0.020325  0.012195   \n(4, e)   0.000000  0.003521  0.130282  ...  0.031690  0.000000  0.000000   \n(5, f)   0.000000  0.266667  0.000000  ...  0.000000  0.000000  0.000000   \n(6, g)   0.000000  0.112069  0.000000  ...  0.008621  0.086207  0.000000   \n(7, h)   0.000000  0.022727  0.000000  ...  0.000000  0.068182  0.022727   \n(8, i)   0.000000  0.011412  0.002853  ...  0.011412  0.001427  0.019971   \n(9, j)   0.000000  0.060976  0.000000  ...  0.000000  0.000000  0.152439   \n(10, k)  0.000000  0.259868  0.000000  ...  0.000000  0.013158  0.036184   \n(11, l)  0.000000  0.283898  0.000000  ...  0.000000  0.004237  0.004237   \n(12, m)  0.000000  0.517073  0.000000  ...  0.000000  0.034146  0.004878   \n(13, n)  0.000000  0.351064  0.000000  ...  0.000000  0.000000  0.024823   \n(14, o)  0.000000  0.000000  0.024194  ...  0.022581  0.000000  0.000000   \n(15, p)  0.000000  0.041667  0.000000  ...  0.000000  0.010417  0.000000   \n(16, r)  0.000000  0.030691  0.000000  ...  0.273657  0.053708  0.010230   \n(17, s)  0.000000  0.111369  0.009281  ...  0.157773  0.013921  0.004640   \n(18, t)  0.000000  0.011364  0.008523  ...  0.000000  0.068182  0.005682   \n(19, u)  0.000000  0.000000  0.072539  ...  0.005181  0.000000  0.000000   \n(20, v)  0.000000  1.000000  0.000000  ...  0.000000  0.000000  0.000000   \n(21, w)  0.000000  0.260417  0.000000  ...  0.018229  0.015625  0.015625   \n(22, y)  0.000000  0.000000  0.054662  ...  0.009646  0.000000  0.000000   \n(23, z)  0.000000  0.092437  0.006303  ...  0.000000  0.004202  0.033613   \n(24, ó)  0.000000  0.000000  0.009804  ...  0.000000  0.000000  0.000000   \n(25, ą)  0.000000  0.000000  0.000000  ...  0.107143  0.000000  0.000000   \n(26, ę)  0.000000  0.000000  0.000000  ...  0.021739  0.000000  0.000000   \n(27, ł)  0.000000  0.000000  0.000000  ...  0.000000  0.032051  0.025641   \n(28, ń)  0.000000  0.000000  0.000000  ...  0.000000  0.000000  0.000000   \n(29, ś)  0.000000  0.000000  0.000000  ...  0.000000  0.000000  0.000000   \n(30, ź)  0.000000  0.000000  0.000000  ...  0.000000  0.000000  0.000000   \n(31, ż)  0.000000  0.000000  0.000000  ...  0.000000  0.000000  0.054054   \n\n                ć         ę         ł         ń         ś         ź         ż  \n(0, a)   0.016529  0.000000  0.092562  0.021488  0.001653  0.000000  0.018182  \n(1, b)   0.000000  0.000000  0.000000  0.000000  0.000000  0.000000  0.000000  \n(2, c)   0.000000  0.004193  0.000000  0.000000  0.000000  0.000000  0.000000  \n(3, d)   0.000000  0.008130  0.012195  0.000000  0.000000  0.004065  0.000000  \n(4, e)   0.003521  0.000000  0.007042  0.005282  0.014085  0.001761  0.017606  \n(5, f)   0.000000  0.000000  0.000000  0.000000  0.000000  0.000000  0.000000  \n(6, g)   0.000000  0.000000  0.060345  0.000000  0.000000  0.000000  0.000000  \n(7, h)   0.000000  0.022727  0.000000  0.000000  0.000000  0.000000  0.000000  \n(8, i)   0.004280  0.055635  0.017118  0.007133  0.001427  0.000000  0.004280  \n(9, j)   0.000000  0.091463  0.000000  0.000000  0.006098  0.000000  0.000000  \n(10, k)  0.000000  0.013158  0.013158  0.000000  0.000000  0.000000  0.019737  \n(11, l)  0.000000  0.025424  0.000000  0.000000  0.000000  0.000000  0.000000  \n(12, m)  0.000000  0.000000  0.004878  0.000000  0.000000  0.000000  0.000000  \n(13, n)  0.000000  0.012411  0.000000  0.000000  0.000000  0.000000  0.000000  \n(14, o)  0.001613  0.000000  0.014516  0.004839  0.059677  0.000000  0.014516  \n(15, p)  0.000000  0.000000  0.017361  0.000000  0.000000  0.000000  0.000000  \n(16, r)  0.000000  0.007673  0.002558  0.000000  0.000000  0.000000  0.000000  \n(17, s)  0.000000  0.000000  0.032483  0.000000  0.000000  0.000000  0.000000  \n(18, t)  0.000000  0.005682  0.011364  0.000000  0.000000  0.000000  0.000000  \n(19, u)  0.000000  0.000000  0.000000  0.000000  0.005181  0.000000  0.031088  \n(20, v)  0.000000  0.000000  0.000000  0.000000  0.000000  0.000000  0.000000  \n(21, w)  0.000000  0.000000  0.018229  0.000000  0.002604  0.000000  0.000000  \n(22, y)  0.003215  0.000000  0.115756  0.003215  0.009646  0.003215  0.016077  \n(23, z)  0.000000  0.035714  0.006303  0.000000  0.000000  0.000000  0.000000  \n(24, ó)  0.000000  0.000000  0.039216  0.000000  0.000000  0.000000  0.078431  \n(25, ą)  0.000000  0.000000  0.053571  0.000000  0.000000  0.000000  0.017857  \n(26, ę)  0.000000  0.000000  0.130435  0.000000  0.173913  0.000000  0.000000  \n(27, ł)  0.000000  0.006410  0.000000  0.000000  0.000000  0.000000  0.000000  \n(28, ń)  0.000000  0.000000  0.000000  0.000000  0.000000  0.000000  0.000000  \n(29, ś)  0.272727  0.000000  0.000000  0.000000  0.000000  0.000000  0.000000  \n(30, ź)  0.000000  0.000000  0.000000  0.000000  0.000000  0.000000  0.000000  \n(31, ż)  0.000000  0.000000  0.000000  0.000000  0.000000  0.000000  0.000000  \n\n[32 rows x 33 columns]",
      "text/html": "<div>\n<style scoped>\n    .dataframe tbody tr th:only-of-type {\n        vertical-align: middle;\n    }\n\n    .dataframe tbody tr th {\n        vertical-align: top;\n    }\n\n    .dataframe thead th {\n        text-align: right;\n    }\n</style>\n<table border=\"1\" class=\"dataframe\">\n  <thead>\n    <tr style=\"text-align: right;\">\n      <th></th>\n      <th>a</th>\n      <th>b</th>\n      <th>c</th>\n      <th>d</th>\n      <th>e</th>\n      <th>f</th>\n      <th>g</th>\n      <th>h</th>\n      <th>i</th>\n      <th>j</th>\n      <th>...</th>\n      <th>z</th>\n      <th>ó</th>\n      <th>ą</th>\n      <th>ć</th>\n      <th>ę</th>\n      <th>ł</th>\n      <th>ń</th>\n      <th>ś</th>\n      <th>ź</th>\n      <th>ż</th>\n    </tr>\n  </thead>\n  <tbody>\n    <tr>\n      <td>(0, a)</td>\n      <td>0.001653</td>\n      <td>0.011570</td>\n      <td>0.120661</td>\n      <td>0.041322</td>\n      <td>0.000000</td>\n      <td>0.001653</td>\n      <td>0.023140</td>\n      <td>0.000000</td>\n      <td>0.009917</td>\n      <td>0.042975</td>\n      <td>...</td>\n      <td>0.019835</td>\n      <td>0.000000</td>\n      <td>0.000000</td>\n      <td>0.016529</td>\n      <td>0.000000</td>\n      <td>0.092562</td>\n      <td>0.021488</td>\n      <td>0.001653</td>\n      <td>0.000000</td>\n      <td>0.018182</td>\n    </tr>\n    <tr>\n      <td>(1, b)</td>\n      <td>0.111111</td>\n      <td>0.000000</td>\n      <td>0.006944</td>\n      <td>0.000000</td>\n      <td>0.048611</td>\n      <td>0.000000</td>\n      <td>0.000000</td>\n      <td>0.000000</td>\n      <td>0.187500</td>\n      <td>0.000000</td>\n      <td>...</td>\n      <td>0.000000</td>\n      <td>0.000000</td>\n      <td>0.006944</td>\n      <td>0.000000</td>\n      <td>0.000000</td>\n      <td>0.000000</td>\n      <td>0.000000</td>\n      <td>0.000000</td>\n      <td>0.000000</td>\n      <td>0.000000</td>\n    </tr>\n    <tr>\n      <td>(2, c)</td>\n      <td>0.025157</td>\n      <td>0.000000</td>\n      <td>0.006289</td>\n      <td>0.000000</td>\n      <td>0.064990</td>\n      <td>0.000000</td>\n      <td>0.000000</td>\n      <td>0.253669</td>\n      <td>0.161426</td>\n      <td>0.062893</td>\n      <td>...</td>\n      <td>0.211740</td>\n      <td>0.008386</td>\n      <td>0.010482</td>\n      <td>0.000000</td>\n      <td>0.004193</td>\n      <td>0.000000</td>\n      <td>0.000000</td>\n      <td>0.000000</td>\n      <td>0.000000</td>\n      <td>0.000000</td>\n    </tr>\n    <tr>\n      <td>(3, d)</td>\n      <td>0.052846</td>\n      <td>0.020325</td>\n      <td>0.008130</td>\n      <td>0.000000</td>\n      <td>0.056911</td>\n      <td>0.000000</td>\n      <td>0.000000</td>\n      <td>0.000000</td>\n      <td>0.000000</td>\n      <td>0.000000</td>\n      <td>...</td>\n      <td>0.203252</td>\n      <td>0.020325</td>\n      <td>0.012195</td>\n      <td>0.000000</td>\n      <td>0.008130</td>\n      <td>0.012195</td>\n      <td>0.000000</td>\n      <td>0.000000</td>\n      <td>0.004065</td>\n      <td>0.000000</td>\n    </tr>\n    <tr>\n      <td>(4, e)</td>\n      <td>0.000000</td>\n      <td>0.007042</td>\n      <td>0.103873</td>\n      <td>0.054577</td>\n      <td>0.000000</td>\n      <td>0.000000</td>\n      <td>0.091549</td>\n      <td>0.000000</td>\n      <td>0.003521</td>\n      <td>0.130282</td>\n      <td>...</td>\n      <td>0.031690</td>\n      <td>0.000000</td>\n      <td>0.000000</td>\n      <td>0.003521</td>\n      <td>0.000000</td>\n      <td>0.007042</td>\n      <td>0.005282</td>\n      <td>0.014085</td>\n      <td>0.001761</td>\n      <td>0.017606</td>\n    </tr>\n    <tr>\n      <td>(5, f)</td>\n      <td>0.266667</td>\n      <td>0.000000</td>\n      <td>0.000000</td>\n      <td>0.000000</td>\n      <td>0.066667</td>\n      <td>0.000000</td>\n      <td>0.000000</td>\n      <td>0.000000</td>\n      <td>0.266667</td>\n      <td>0.000000</td>\n      <td>...</td>\n      <td>0.000000</td>\n      <td>0.000000</td>\n      <td>0.000000</td>\n      <td>0.000000</td>\n      <td>0.000000</td>\n      <td>0.000000</td>\n      <td>0.000000</td>\n      <td>0.000000</td>\n      <td>0.000000</td>\n      <td>0.000000</td>\n    </tr>\n    <tr>\n      <td>(6, g)</td>\n      <td>0.163793</td>\n      <td>0.000000</td>\n      <td>0.000000</td>\n      <td>0.008621</td>\n      <td>0.000000</td>\n      <td>0.000000</td>\n      <td>0.000000</td>\n      <td>0.000000</td>\n      <td>0.112069</td>\n      <td>0.000000</td>\n      <td>...</td>\n      <td>0.008621</td>\n      <td>0.086207</td>\n      <td>0.000000</td>\n      <td>0.000000</td>\n      <td>0.000000</td>\n      <td>0.060345</td>\n      <td>0.000000</td>\n      <td>0.000000</td>\n      <td>0.000000</td>\n      <td>0.000000</td>\n    </tr>\n    <tr>\n      <td>(7, h)</td>\n      <td>0.136364</td>\n      <td>0.000000</td>\n      <td>0.022727</td>\n      <td>0.000000</td>\n      <td>0.022727</td>\n      <td>0.000000</td>\n      <td>0.000000</td>\n      <td>0.000000</td>\n      <td>0.022727</td>\n      <td>0.000000</td>\n      <td>...</td>\n      <td>0.000000</td>\n      <td>0.068182</td>\n      <td>0.022727</td>\n      <td>0.000000</td>\n      <td>0.022727</td>\n      <td>0.000000</td>\n      <td>0.000000</td>\n      <td>0.000000</td>\n      <td>0.000000</td>\n      <td>0.000000</td>\n    </tr>\n    <tr>\n      <td>(8, i)</td>\n      <td>0.122682</td>\n      <td>0.001427</td>\n      <td>0.084165</td>\n      <td>0.004280</td>\n      <td>0.425107</td>\n      <td>0.000000</td>\n      <td>0.001427</td>\n      <td>0.000000</td>\n      <td>0.011412</td>\n      <td>0.002853</td>\n      <td>...</td>\n      <td>0.011412</td>\n      <td>0.001427</td>\n      <td>0.019971</td>\n      <td>0.004280</td>\n      <td>0.055635</td>\n      <td>0.017118</td>\n      <td>0.007133</td>\n      <td>0.001427</td>\n      <td>0.000000</td>\n      <td>0.004280</td>\n    </tr>\n    <tr>\n      <td>(9, j)</td>\n      <td>0.201220</td>\n      <td>0.012195</td>\n      <td>0.000000</td>\n      <td>0.006098</td>\n      <td>0.243902</td>\n      <td>0.000000</td>\n      <td>0.006098</td>\n      <td>0.000000</td>\n      <td>0.060976</td>\n      <td>0.000000</td>\n      <td>...</td>\n      <td>0.000000</td>\n      <td>0.000000</td>\n      <td>0.152439</td>\n      <td>0.000000</td>\n      <td>0.091463</td>\n      <td>0.000000</td>\n      <td>0.000000</td>\n      <td>0.006098</td>\n      <td>0.000000</td>\n      <td>0.000000</td>\n    </tr>\n    <tr>\n      <td>(10, k)</td>\n      <td>0.121711</td>\n      <td>0.000000</td>\n      <td>0.013158</td>\n      <td>0.000000</td>\n      <td>0.000000</td>\n      <td>0.000000</td>\n      <td>0.000000</td>\n      <td>0.000000</td>\n      <td>0.259868</td>\n      <td>0.000000</td>\n      <td>...</td>\n      <td>0.000000</td>\n      <td>0.013158</td>\n      <td>0.036184</td>\n      <td>0.000000</td>\n      <td>0.013158</td>\n      <td>0.013158</td>\n      <td>0.000000</td>\n      <td>0.000000</td>\n      <td>0.000000</td>\n      <td>0.019737</td>\n    </tr>\n    <tr>\n      <td>(11, l)</td>\n      <td>0.105932</td>\n      <td>0.016949</td>\n      <td>0.008475</td>\n      <td>0.008475</td>\n      <td>0.152542</td>\n      <td>0.000000</td>\n      <td>0.000000</td>\n      <td>0.000000</td>\n      <td>0.283898</td>\n      <td>0.000000</td>\n      <td>...</td>\n      <td>0.000000</td>\n      <td>0.004237</td>\n      <td>0.004237</td>\n      <td>0.000000</td>\n      <td>0.025424</td>\n      <td>0.000000</td>\n      <td>0.000000</td>\n      <td>0.000000</td>\n      <td>0.000000</td>\n      <td>0.000000</td>\n    </tr>\n    <tr>\n      <td>(12, m)</td>\n      <td>0.097561</td>\n      <td>0.004878</td>\n      <td>0.009756</td>\n      <td>0.000000</td>\n      <td>0.034146</td>\n      <td>0.000000</td>\n      <td>0.000000</td>\n      <td>0.000000</td>\n      <td>0.517073</td>\n      <td>0.000000</td>\n      <td>...</td>\n      <td>0.000000</td>\n      <td>0.034146</td>\n      <td>0.004878</td>\n      <td>0.000000</td>\n      <td>0.000000</td>\n      <td>0.004878</td>\n      <td>0.000000</td>\n      <td>0.000000</td>\n      <td>0.000000</td>\n      <td>0.000000</td>\n    </tr>\n    <tr>\n      <td>(13, n)</td>\n      <td>0.179078</td>\n      <td>0.001773</td>\n      <td>0.010638</td>\n      <td>0.010638</td>\n      <td>0.099291</td>\n      <td>0.003546</td>\n      <td>0.001773</td>\n      <td>0.000000</td>\n      <td>0.351064</td>\n      <td>0.000000</td>\n      <td>...</td>\n      <td>0.000000</td>\n      <td>0.000000</td>\n      <td>0.024823</td>\n      <td>0.000000</td>\n      <td>0.012411</td>\n      <td>0.000000</td>\n      <td>0.000000</td>\n      <td>0.000000</td>\n      <td>0.000000</td>\n      <td>0.000000</td>\n    </tr>\n    <tr>\n      <td>(14, o)</td>\n      <td>0.003226</td>\n      <td>0.037097</td>\n      <td>0.033871</td>\n      <td>0.117742</td>\n      <td>0.001613</td>\n      <td>0.006452</td>\n      <td>0.027419</td>\n      <td>0.000000</td>\n      <td>0.000000</td>\n      <td>0.024194</td>\n      <td>...</td>\n      <td>0.022581</td>\n      <td>0.000000</td>\n      <td>0.000000</td>\n      <td>0.001613</td>\n      <td>0.000000</td>\n      <td>0.014516</td>\n      <td>0.004839</td>\n      <td>0.059677</td>\n      <td>0.000000</td>\n      <td>0.014516</td>\n    </tr>\n    <tr>\n      <td>(15, p)</td>\n      <td>0.159722</td>\n      <td>0.000000</td>\n      <td>0.000000</td>\n      <td>0.000000</td>\n      <td>0.031250</td>\n      <td>0.000000</td>\n      <td>0.000000</td>\n      <td>0.000000</td>\n      <td>0.041667</td>\n      <td>0.000000</td>\n      <td>...</td>\n      <td>0.000000</td>\n      <td>0.010417</td>\n      <td>0.000000</td>\n      <td>0.000000</td>\n      <td>0.000000</td>\n      <td>0.017361</td>\n      <td>0.000000</td>\n      <td>0.000000</td>\n      <td>0.000000</td>\n      <td>0.000000</td>\n    </tr>\n    <tr>\n      <td>(16, r)</td>\n      <td>0.156010</td>\n      <td>0.002558</td>\n      <td>0.017903</td>\n      <td>0.020460</td>\n      <td>0.115090</td>\n      <td>0.000000</td>\n      <td>0.000000</td>\n      <td>0.000000</td>\n      <td>0.030691</td>\n      <td>0.000000</td>\n      <td>...</td>\n      <td>0.273657</td>\n      <td>0.053708</td>\n      <td>0.010230</td>\n      <td>0.000000</td>\n      <td>0.007673</td>\n      <td>0.002558</td>\n      <td>0.000000</td>\n      <td>0.000000</td>\n      <td>0.000000</td>\n      <td>0.000000</td>\n    </tr>\n    <tr>\n      <td>(17, s)</td>\n      <td>0.013921</td>\n      <td>0.000000</td>\n      <td>0.032483</td>\n      <td>0.000000</td>\n      <td>0.004640</td>\n      <td>0.000000</td>\n      <td>0.000000</td>\n      <td>0.000000</td>\n      <td>0.111369</td>\n      <td>0.009281</td>\n      <td>...</td>\n      <td>0.157773</td>\n      <td>0.013921</td>\n      <td>0.004640</td>\n      <td>0.000000</td>\n      <td>0.000000</td>\n      <td>0.032483</td>\n      <td>0.000000</td>\n      <td>0.000000</td>\n      <td>0.000000</td>\n      <td>0.000000</td>\n    </tr>\n    <tr>\n      <td>(18, t)</td>\n      <td>0.190341</td>\n      <td>0.000000</td>\n      <td>0.002841</td>\n      <td>0.000000</td>\n      <td>0.193182</td>\n      <td>0.000000</td>\n      <td>0.000000</td>\n      <td>0.000000</td>\n      <td>0.011364</td>\n      <td>0.008523</td>\n      <td>...</td>\n      <td>0.000000</td>\n      <td>0.068182</td>\n      <td>0.005682</td>\n      <td>0.000000</td>\n      <td>0.005682</td>\n      <td>0.011364</td>\n      <td>0.000000</td>\n      <td>0.000000</td>\n      <td>0.000000</td>\n      <td>0.000000</td>\n    </tr>\n    <tr>\n      <td>(19, u)</td>\n      <td>0.015544</td>\n      <td>0.031088</td>\n      <td>0.041451</td>\n      <td>0.155440</td>\n      <td>0.000000</td>\n      <td>0.000000</td>\n      <td>0.031088</td>\n      <td>0.000000</td>\n      <td>0.000000</td>\n      <td>0.072539</td>\n      <td>...</td>\n      <td>0.005181</td>\n      <td>0.000000</td>\n      <td>0.000000</td>\n      <td>0.000000</td>\n      <td>0.000000</td>\n      <td>0.000000</td>\n      <td>0.000000</td>\n      <td>0.005181</td>\n      <td>0.000000</td>\n      <td>0.031088</td>\n    </tr>\n    <tr>\n      <td>(20, v)</td>\n      <td>0.000000</td>\n      <td>0.000000</td>\n      <td>0.000000</td>\n      <td>0.000000</td>\n      <td>0.000000</td>\n      <td>0.000000</td>\n      <td>0.000000</td>\n      <td>0.000000</td>\n      <td>1.000000</td>\n      <td>0.000000</td>\n      <td>...</td>\n      <td>0.000000</td>\n      <td>0.000000</td>\n      <td>0.000000</td>\n      <td>0.000000</td>\n      <td>0.000000</td>\n      <td>0.000000</td>\n      <td>0.000000</td>\n      <td>0.000000</td>\n      <td>0.000000</td>\n      <td>0.000000</td>\n    </tr>\n    <tr>\n      <td>(21, w)</td>\n      <td>0.171875</td>\n      <td>0.000000</td>\n      <td>0.000000</td>\n      <td>0.007812</td>\n      <td>0.054688</td>\n      <td>0.000000</td>\n      <td>0.000000</td>\n      <td>0.000000</td>\n      <td>0.260417</td>\n      <td>0.000000</td>\n      <td>...</td>\n      <td>0.018229</td>\n      <td>0.015625</td>\n      <td>0.015625</td>\n      <td>0.000000</td>\n      <td>0.000000</td>\n      <td>0.018229</td>\n      <td>0.000000</td>\n      <td>0.002604</td>\n      <td>0.000000</td>\n      <td>0.000000</td>\n    </tr>\n    <tr>\n      <td>(22, y)</td>\n      <td>0.000000</td>\n      <td>0.016077</td>\n      <td>0.231511</td>\n      <td>0.019293</td>\n      <td>0.000000</td>\n      <td>0.003215</td>\n      <td>0.009646</td>\n      <td>0.000000</td>\n      <td>0.000000</td>\n      <td>0.054662</td>\n      <td>...</td>\n      <td>0.009646</td>\n      <td>0.000000</td>\n      <td>0.000000</td>\n      <td>0.003215</td>\n      <td>0.000000</td>\n      <td>0.115756</td>\n      <td>0.003215</td>\n      <td>0.009646</td>\n      <td>0.003215</td>\n      <td>0.016077</td>\n    </tr>\n    <tr>\n      <td>(23, z)</td>\n      <td>0.155462</td>\n      <td>0.008403</td>\n      <td>0.023109</td>\n      <td>0.006303</td>\n      <td>0.197479</td>\n      <td>0.000000</td>\n      <td>0.010504</td>\n      <td>0.000000</td>\n      <td>0.092437</td>\n      <td>0.006303</td>\n      <td>...</td>\n      <td>0.000000</td>\n      <td>0.004202</td>\n      <td>0.033613</td>\n      <td>0.000000</td>\n      <td>0.035714</td>\n      <td>0.006303</td>\n      <td>0.000000</td>\n      <td>0.000000</td>\n      <td>0.000000</td>\n      <td>0.000000</td>\n    </tr>\n    <tr>\n      <td>(24, ó)</td>\n      <td>0.000000</td>\n      <td>0.019608</td>\n      <td>0.019608</td>\n      <td>0.107843</td>\n      <td>0.000000</td>\n      <td>0.000000</td>\n      <td>0.009804</td>\n      <td>0.000000</td>\n      <td>0.000000</td>\n      <td>0.009804</td>\n      <td>...</td>\n      <td>0.000000</td>\n      <td>0.000000</td>\n      <td>0.000000</td>\n      <td>0.000000</td>\n      <td>0.000000</td>\n      <td>0.039216</td>\n      <td>0.000000</td>\n      <td>0.000000</td>\n      <td>0.000000</td>\n      <td>0.078431</td>\n    </tr>\n    <tr>\n      <td>(25, ą)</td>\n      <td>0.000000</td>\n      <td>0.000000</td>\n      <td>0.500000</td>\n      <td>0.250000</td>\n      <td>0.000000</td>\n      <td>0.000000</td>\n      <td>0.017857</td>\n      <td>0.000000</td>\n      <td>0.000000</td>\n      <td>0.000000</td>\n      <td>...</td>\n      <td>0.107143</td>\n      <td>0.000000</td>\n      <td>0.000000</td>\n      <td>0.000000</td>\n      <td>0.000000</td>\n      <td>0.053571</td>\n      <td>0.000000</td>\n      <td>0.000000</td>\n      <td>0.000000</td>\n      <td>0.017857</td>\n    </tr>\n    <tr>\n      <td>(26, ę)</td>\n      <td>0.000000</td>\n      <td>0.043478</td>\n      <td>0.130435</td>\n      <td>0.195652</td>\n      <td>0.000000</td>\n      <td>0.000000</td>\n      <td>0.000000</td>\n      <td>0.000000</td>\n      <td>0.000000</td>\n      <td>0.000000</td>\n      <td>...</td>\n      <td>0.021739</td>\n      <td>0.000000</td>\n      <td>0.000000</td>\n      <td>0.000000</td>\n      <td>0.000000</td>\n      <td>0.130435</td>\n      <td>0.000000</td>\n      <td>0.173913</td>\n      <td>0.000000</td>\n      <td>0.000000</td>\n    </tr>\n    <tr>\n      <td>(27, ł)</td>\n      <td>0.288462</td>\n      <td>0.000000</td>\n      <td>0.012821</td>\n      <td>0.000000</td>\n      <td>0.025641</td>\n      <td>0.000000</td>\n      <td>0.000000</td>\n      <td>0.000000</td>\n      <td>0.000000</td>\n      <td>0.000000</td>\n      <td>...</td>\n      <td>0.000000</td>\n      <td>0.032051</td>\n      <td>0.025641</td>\n      <td>0.000000</td>\n      <td>0.006410</td>\n      <td>0.000000</td>\n      <td>0.000000</td>\n      <td>0.000000</td>\n      <td>0.000000</td>\n      <td>0.000000</td>\n    </tr>\n    <tr>\n      <td>(28, ń)</td>\n      <td>0.000000</td>\n      <td>0.000000</td>\n      <td>0.388889</td>\n      <td>0.000000</td>\n      <td>0.000000</td>\n      <td>0.000000</td>\n      <td>0.000000</td>\n      <td>0.000000</td>\n      <td>0.000000</td>\n      <td>0.000000</td>\n      <td>...</td>\n      <td>0.000000</td>\n      <td>0.000000</td>\n      <td>0.000000</td>\n      <td>0.000000</td>\n      <td>0.000000</td>\n      <td>0.000000</td>\n      <td>0.000000</td>\n      <td>0.000000</td>\n      <td>0.000000</td>\n      <td>0.000000</td>\n    </tr>\n    <tr>\n      <td>(29, ś)</td>\n      <td>0.000000</td>\n      <td>0.000000</td>\n      <td>0.530303</td>\n      <td>0.000000</td>\n      <td>0.000000</td>\n      <td>0.000000</td>\n      <td>0.000000</td>\n      <td>0.000000</td>\n      <td>0.000000</td>\n      <td>0.000000</td>\n      <td>...</td>\n      <td>0.000000</td>\n      <td>0.000000</td>\n      <td>0.000000</td>\n      <td>0.272727</td>\n      <td>0.000000</td>\n      <td>0.000000</td>\n      <td>0.000000</td>\n      <td>0.000000</td>\n      <td>0.000000</td>\n      <td>0.000000</td>\n    </tr>\n    <tr>\n      <td>(30, ź)</td>\n      <td>0.000000</td>\n      <td>0.000000</td>\n      <td>0.250000</td>\n      <td>0.250000</td>\n      <td>0.000000</td>\n      <td>0.000000</td>\n      <td>0.000000</td>\n      <td>0.000000</td>\n      <td>0.000000</td>\n      <td>0.000000</td>\n      <td>...</td>\n      <td>0.000000</td>\n      <td>0.000000</td>\n      <td>0.000000</td>\n      <td>0.000000</td>\n      <td>0.000000</td>\n      <td>0.000000</td>\n      <td>0.000000</td>\n      <td>0.000000</td>\n      <td>0.000000</td>\n      <td>0.000000</td>\n    </tr>\n    <tr>\n      <td>(31, ż)</td>\n      <td>0.040541</td>\n      <td>0.000000</td>\n      <td>0.000000</td>\n      <td>0.000000</td>\n      <td>0.364865</td>\n      <td>0.000000</td>\n      <td>0.000000</td>\n      <td>0.000000</td>\n      <td>0.000000</td>\n      <td>0.000000</td>\n      <td>...</td>\n      <td>0.000000</td>\n      <td>0.000000</td>\n      <td>0.054054</td>\n      <td>0.000000</td>\n      <td>0.000000</td>\n      <td>0.000000</td>\n      <td>0.000000</td>\n      <td>0.000000</td>\n      <td>0.000000</td>\n      <td>0.000000</td>\n    </tr>\n  </tbody>\n</table>\n<p>32 rows × 33 columns</p>\n</div>"
     },
     "metadata": {},
     "output_type": "execute_result",
     "execution_count": 21
    }
   ],
   "source": [
    "two_matrix, twopa = matrix(twograms)\n",
    "two_matrix"
   ],
   "metadata": {
    "collapsed": false,
    "pycharm": {
     "name": "#%%\n",
     "is_executing": false
    }
   }
  },
  {
   "cell_type": "code",
   "execution_count": 22,
   "outputs": [
    {
     "data": {
      "text/plain": "         prog. ability\n(0, a)        0.201573\n(1, b)        0.414531\n(2, c)        0.391072\n(3, d)        0.313432\n(4, e)        0.232360\n(5, f)        0.526227\n(6, g)        0.450148\n(7, h)        0.452535\n(8, i)        0.369145\n(9, j)        0.381566\n(10, k)       0.358719\n(11, l)       0.371185\n(12, m)       0.490656\n(13, n)       0.423117\n(14, o)       0.232482\n(15, p)       0.545803\n(16, r)       0.346396\n(17, s)       0.337367\n(18, t)       0.336068\n(19, u)       0.242881\n(20, v)       1.000000\n(21, w)       0.371762\n(22, y)       0.297942\n(23, z)       0.266071\n(24, ó)       0.503535\n(25, ą)       0.592765\n(26, ę)       0.399360\n(27, ł)       0.498065\n(28, ń)       0.808881\n(29, ś)       0.626509\n(30, ź)       0.603520\n(31, ż)       0.543869",
      "text/html": "<div>\n<style scoped>\n    .dataframe tbody tr th:only-of-type {\n        vertical-align: middle;\n    }\n\n    .dataframe tbody tr th {\n        vertical-align: top;\n    }\n\n    .dataframe thead th {\n        text-align: right;\n    }\n</style>\n<table border=\"1\" class=\"dataframe\">\n  <thead>\n    <tr style=\"text-align: right;\">\n      <th></th>\n      <th>prog. ability</th>\n    </tr>\n  </thead>\n  <tbody>\n    <tr>\n      <td>(0, a)</td>\n      <td>0.201573</td>\n    </tr>\n    <tr>\n      <td>(1, b)</td>\n      <td>0.414531</td>\n    </tr>\n    <tr>\n      <td>(2, c)</td>\n      <td>0.391072</td>\n    </tr>\n    <tr>\n      <td>(3, d)</td>\n      <td>0.313432</td>\n    </tr>\n    <tr>\n      <td>(4, e)</td>\n      <td>0.232360</td>\n    </tr>\n    <tr>\n      <td>(5, f)</td>\n      <td>0.526227</td>\n    </tr>\n    <tr>\n      <td>(6, g)</td>\n      <td>0.450148</td>\n    </tr>\n    <tr>\n      <td>(7, h)</td>\n      <td>0.452535</td>\n    </tr>\n    <tr>\n      <td>(8, i)</td>\n      <td>0.369145</td>\n    </tr>\n    <tr>\n      <td>(9, j)</td>\n      <td>0.381566</td>\n    </tr>\n    <tr>\n      <td>(10, k)</td>\n      <td>0.358719</td>\n    </tr>\n    <tr>\n      <td>(11, l)</td>\n      <td>0.371185</td>\n    </tr>\n    <tr>\n      <td>(12, m)</td>\n      <td>0.490656</td>\n    </tr>\n    <tr>\n      <td>(13, n)</td>\n      <td>0.423117</td>\n    </tr>\n    <tr>\n      <td>(14, o)</td>\n      <td>0.232482</td>\n    </tr>\n    <tr>\n      <td>(15, p)</td>\n      <td>0.545803</td>\n    </tr>\n    <tr>\n      <td>(16, r)</td>\n      <td>0.346396</td>\n    </tr>\n    <tr>\n      <td>(17, s)</td>\n      <td>0.337367</td>\n    </tr>\n    <tr>\n      <td>(18, t)</td>\n      <td>0.336068</td>\n    </tr>\n    <tr>\n      <td>(19, u)</td>\n      <td>0.242881</td>\n    </tr>\n    <tr>\n      <td>(20, v)</td>\n      <td>1.000000</td>\n    </tr>\n    <tr>\n      <td>(21, w)</td>\n      <td>0.371762</td>\n    </tr>\n    <tr>\n      <td>(22, y)</td>\n      <td>0.297942</td>\n    </tr>\n    <tr>\n      <td>(23, z)</td>\n      <td>0.266071</td>\n    </tr>\n    <tr>\n      <td>(24, ó)</td>\n      <td>0.503535</td>\n    </tr>\n    <tr>\n      <td>(25, ą)</td>\n      <td>0.592765</td>\n    </tr>\n    <tr>\n      <td>(26, ę)</td>\n      <td>0.399360</td>\n    </tr>\n    <tr>\n      <td>(27, ł)</td>\n      <td>0.498065</td>\n    </tr>\n    <tr>\n      <td>(28, ń)</td>\n      <td>0.808881</td>\n    </tr>\n    <tr>\n      <td>(29, ś)</td>\n      <td>0.626509</td>\n    </tr>\n    <tr>\n      <td>(30, ź)</td>\n      <td>0.603520</td>\n    </tr>\n    <tr>\n      <td>(31, ż)</td>\n      <td>0.543869</td>\n    </tr>\n  </tbody>\n</table>\n</div>"
     },
     "metadata": {},
     "output_type": "execute_result",
     "execution_count": 22
    }
   ],
   "source": [
    "twopa"
   ],
   "metadata": {
    "collapsed": false,
    "pycharm": {
     "name": "#%%\n",
     "is_executing": false
    }
   }
  },
  {
   "cell_type": "markdown",
   "source": [
    "### 3-грами"
   ],
   "metadata": {
    "collapsed": false,
    "pycharm": {
     "name": "#%% md\n"
    }
   }
  },
  {
   "cell_type": "code",
   "execution_count": 23,
   "outputs": [
    {
     "data": {
      "text/plain": "                  a    b         c         d         e    f    g         h  \\\n(0, aa)    0.000000  0.0  0.000000  0.000000  0.000000  0.0  0.0  0.000000   \n(1, ab)    0.000000  0.0  0.000000  0.000000  0.000000  0.0  0.0  0.000000   \n(2, ac)    0.000000  0.0  0.000000  0.000000  0.013889  0.0  0.0  0.222222   \n(3, ad)    0.176471  0.0  0.000000  0.000000  0.058824  0.0  0.0  0.000000   \n(4, af)    0.000000  0.0  0.000000  0.000000  0.000000  0.0  0.0  0.000000   \n...             ...  ...       ...       ...       ...  ...  ...       ...   \n(445, żn)  0.181818  0.0  0.000000  0.000000  0.272727  0.0  0.0  0.000000   \n(446, żo)  0.000000  0.0  0.000000  0.000000  0.000000  0.0  0.0  0.000000   \n(447, żs)  0.000000  0.0  0.000000  0.000000  0.000000  0.0  0.0  0.000000   \n(448, ży)  0.000000  0.0  0.521739  0.130435  0.000000  0.0  0.0  0.000000   \n(449, żą)  0.000000  0.0  1.000000  0.000000  0.000000  0.0  0.0  0.000000   \n\n                  i         j  ...         z    ó    ą         ć    ę  \\\n(0, aa)    0.000000  0.000000  ...  0.000000  0.0  0.0  0.000000  0.0   \n(1, ab)    0.285714  0.000000  ...  0.000000  0.0  0.0  0.000000  0.0   \n(2, ac)    0.027778  0.250000  ...  0.166667  0.0  0.0  0.000000  0.0   \n(3, ad)    0.000000  0.000000  ...  0.176471  0.0  0.0  0.000000  0.0   \n(4, af)    0.000000  0.000000  ...  0.000000  0.0  0.0  0.000000  0.0   \n...             ...       ...  ...       ...  ...  ...       ...  ...   \n(445, żn)  0.272727  0.000000  ...  0.000000  0.0  0.0  0.000000  0.0   \n(446, żo)  0.000000  0.000000  ...  0.000000  0.0  0.0  0.000000  0.0   \n(447, żs)  0.000000  0.000000  ...  1.000000  0.0  0.0  0.000000  0.0   \n(448, ży)  0.000000  0.086957  ...  0.000000  0.0  0.0  0.043478  0.0   \n(449, żą)  0.000000  0.000000  ...  0.000000  0.0  0.0  0.000000  0.0   \n\n                  ł    ń    ś    ź    ż  \n(0, aa)    0.000000  0.0  0.0  0.0  0.0  \n(1, ab)    0.000000  0.0  0.0  0.0  0.0  \n(2, ac)    0.000000  0.0  0.0  0.0  0.0  \n(3, ad)    0.000000  0.0  0.0  0.0  0.0  \n(4, af)    0.000000  0.0  0.0  0.0  0.0  \n...             ...  ...  ...  ...  ...  \n(445, żn)  0.000000  0.0  0.0  0.0  0.0  \n(446, żo)  0.000000  0.0  0.0  0.0  0.0  \n(447, żs)  0.000000  0.0  0.0  0.0  0.0  \n(448, ży)  0.173913  0.0  0.0  0.0  0.0  \n(449, żą)  0.000000  0.0  0.0  0.0  0.0  \n\n[450 rows x 33 columns]",
      "text/html": "<div>\n<style scoped>\n    .dataframe tbody tr th:only-of-type {\n        vertical-align: middle;\n    }\n\n    .dataframe tbody tr th {\n        vertical-align: top;\n    }\n\n    .dataframe thead th {\n        text-align: right;\n    }\n</style>\n<table border=\"1\" class=\"dataframe\">\n  <thead>\n    <tr style=\"text-align: right;\">\n      <th></th>\n      <th>a</th>\n      <th>b</th>\n      <th>c</th>\n      <th>d</th>\n      <th>e</th>\n      <th>f</th>\n      <th>g</th>\n      <th>h</th>\n      <th>i</th>\n      <th>j</th>\n      <th>...</th>\n      <th>z</th>\n      <th>ó</th>\n      <th>ą</th>\n      <th>ć</th>\n      <th>ę</th>\n      <th>ł</th>\n      <th>ń</th>\n      <th>ś</th>\n      <th>ź</th>\n      <th>ż</th>\n    </tr>\n  </thead>\n  <tbody>\n    <tr>\n      <td>(0, aa)</td>\n      <td>0.000000</td>\n      <td>0.0</td>\n      <td>0.000000</td>\n      <td>0.000000</td>\n      <td>0.000000</td>\n      <td>0.0</td>\n      <td>0.0</td>\n      <td>0.000000</td>\n      <td>0.000000</td>\n      <td>0.000000</td>\n      <td>...</td>\n      <td>0.000000</td>\n      <td>0.0</td>\n      <td>0.0</td>\n      <td>0.000000</td>\n      <td>0.0</td>\n      <td>0.000000</td>\n      <td>0.0</td>\n      <td>0.0</td>\n      <td>0.0</td>\n      <td>0.0</td>\n    </tr>\n    <tr>\n      <td>(1, ab)</td>\n      <td>0.000000</td>\n      <td>0.0</td>\n      <td>0.000000</td>\n      <td>0.000000</td>\n      <td>0.000000</td>\n      <td>0.0</td>\n      <td>0.0</td>\n      <td>0.000000</td>\n      <td>0.285714</td>\n      <td>0.000000</td>\n      <td>...</td>\n      <td>0.000000</td>\n      <td>0.0</td>\n      <td>0.0</td>\n      <td>0.000000</td>\n      <td>0.0</td>\n      <td>0.000000</td>\n      <td>0.0</td>\n      <td>0.0</td>\n      <td>0.0</td>\n      <td>0.0</td>\n    </tr>\n    <tr>\n      <td>(2, ac)</td>\n      <td>0.000000</td>\n      <td>0.0</td>\n      <td>0.000000</td>\n      <td>0.000000</td>\n      <td>0.013889</td>\n      <td>0.0</td>\n      <td>0.0</td>\n      <td>0.222222</td>\n      <td>0.027778</td>\n      <td>0.250000</td>\n      <td>...</td>\n      <td>0.166667</td>\n      <td>0.0</td>\n      <td>0.0</td>\n      <td>0.000000</td>\n      <td>0.0</td>\n      <td>0.000000</td>\n      <td>0.0</td>\n      <td>0.0</td>\n      <td>0.0</td>\n      <td>0.0</td>\n    </tr>\n    <tr>\n      <td>(3, ad)</td>\n      <td>0.176471</td>\n      <td>0.0</td>\n      <td>0.000000</td>\n      <td>0.000000</td>\n      <td>0.058824</td>\n      <td>0.0</td>\n      <td>0.0</td>\n      <td>0.000000</td>\n      <td>0.000000</td>\n      <td>0.000000</td>\n      <td>...</td>\n      <td>0.176471</td>\n      <td>0.0</td>\n      <td>0.0</td>\n      <td>0.000000</td>\n      <td>0.0</td>\n      <td>0.000000</td>\n      <td>0.0</td>\n      <td>0.0</td>\n      <td>0.0</td>\n      <td>0.0</td>\n    </tr>\n    <tr>\n      <td>(4, af)</td>\n      <td>0.000000</td>\n      <td>0.0</td>\n      <td>0.000000</td>\n      <td>0.000000</td>\n      <td>0.000000</td>\n      <td>0.0</td>\n      <td>0.0</td>\n      <td>0.000000</td>\n      <td>0.000000</td>\n      <td>0.000000</td>\n      <td>...</td>\n      <td>0.000000</td>\n      <td>0.0</td>\n      <td>0.0</td>\n      <td>0.000000</td>\n      <td>0.0</td>\n      <td>0.000000</td>\n      <td>0.0</td>\n      <td>0.0</td>\n      <td>0.0</td>\n      <td>0.0</td>\n    </tr>\n    <tr>\n      <td>...</td>\n      <td>...</td>\n      <td>...</td>\n      <td>...</td>\n      <td>...</td>\n      <td>...</td>\n      <td>...</td>\n      <td>...</td>\n      <td>...</td>\n      <td>...</td>\n      <td>...</td>\n      <td>...</td>\n      <td>...</td>\n      <td>...</td>\n      <td>...</td>\n      <td>...</td>\n      <td>...</td>\n      <td>...</td>\n      <td>...</td>\n      <td>...</td>\n      <td>...</td>\n      <td>...</td>\n    </tr>\n    <tr>\n      <td>(445, żn)</td>\n      <td>0.181818</td>\n      <td>0.0</td>\n      <td>0.000000</td>\n      <td>0.000000</td>\n      <td>0.272727</td>\n      <td>0.0</td>\n      <td>0.0</td>\n      <td>0.000000</td>\n      <td>0.272727</td>\n      <td>0.000000</td>\n      <td>...</td>\n      <td>0.000000</td>\n      <td>0.0</td>\n      <td>0.0</td>\n      <td>0.000000</td>\n      <td>0.0</td>\n      <td>0.000000</td>\n      <td>0.0</td>\n      <td>0.0</td>\n      <td>0.0</td>\n      <td>0.0</td>\n    </tr>\n    <tr>\n      <td>(446, żo)</td>\n      <td>0.000000</td>\n      <td>0.0</td>\n      <td>0.000000</td>\n      <td>0.000000</td>\n      <td>0.000000</td>\n      <td>0.0</td>\n      <td>0.0</td>\n      <td>0.000000</td>\n      <td>0.000000</td>\n      <td>0.000000</td>\n      <td>...</td>\n      <td>0.000000</td>\n      <td>0.0</td>\n      <td>0.0</td>\n      <td>0.000000</td>\n      <td>0.0</td>\n      <td>0.000000</td>\n      <td>0.0</td>\n      <td>0.0</td>\n      <td>0.0</td>\n      <td>0.0</td>\n    </tr>\n    <tr>\n      <td>(447, żs)</td>\n      <td>0.000000</td>\n      <td>0.0</td>\n      <td>0.000000</td>\n      <td>0.000000</td>\n      <td>0.000000</td>\n      <td>0.0</td>\n      <td>0.0</td>\n      <td>0.000000</td>\n      <td>0.000000</td>\n      <td>0.000000</td>\n      <td>...</td>\n      <td>1.000000</td>\n      <td>0.0</td>\n      <td>0.0</td>\n      <td>0.000000</td>\n      <td>0.0</td>\n      <td>0.000000</td>\n      <td>0.0</td>\n      <td>0.0</td>\n      <td>0.0</td>\n      <td>0.0</td>\n    </tr>\n    <tr>\n      <td>(448, ży)</td>\n      <td>0.000000</td>\n      <td>0.0</td>\n      <td>0.521739</td>\n      <td>0.130435</td>\n      <td>0.000000</td>\n      <td>0.0</td>\n      <td>0.0</td>\n      <td>0.000000</td>\n      <td>0.000000</td>\n      <td>0.086957</td>\n      <td>...</td>\n      <td>0.000000</td>\n      <td>0.0</td>\n      <td>0.0</td>\n      <td>0.043478</td>\n      <td>0.0</td>\n      <td>0.173913</td>\n      <td>0.0</td>\n      <td>0.0</td>\n      <td>0.0</td>\n      <td>0.0</td>\n    </tr>\n    <tr>\n      <td>(449, żą)</td>\n      <td>0.000000</td>\n      <td>0.0</td>\n      <td>1.000000</td>\n      <td>0.000000</td>\n      <td>0.000000</td>\n      <td>0.0</td>\n      <td>0.0</td>\n      <td>0.000000</td>\n      <td>0.000000</td>\n      <td>0.000000</td>\n      <td>...</td>\n      <td>0.000000</td>\n      <td>0.0</td>\n      <td>0.0</td>\n      <td>0.000000</td>\n      <td>0.0</td>\n      <td>0.000000</td>\n      <td>0.0</td>\n      <td>0.0</td>\n      <td>0.0</td>\n      <td>0.0</td>\n    </tr>\n  </tbody>\n</table>\n<p>450 rows × 33 columns</p>\n</div>"
     },
     "metadata": {},
     "output_type": "execute_result",
     "execution_count": 23
    }
   ],
   "source": [
    "three_matrix, tripa = matrix(trigrams)\n",
    "three_matrix"
   ],
   "metadata": {
    "collapsed": false,
    "pycharm": {
     "name": "#%%\n",
     "is_executing": false
    }
   }
  },
  {
   "cell_type": "code",
   "execution_count": 24,
   "outputs": [
    {
     "data": {
      "text/plain": "           prog. ability\n(0, aa)         1.000000\n(1, ab)         0.556750\n(2, ac)         0.473167\n(3, ad)         0.440531\n(4, af)         1.000000\n...                  ...\n(445, żn)       0.557673\n(446, żo)       1.000000\n(447, żs)       1.000000\n(448, ży)       0.601215\n(449, żą)       1.000000\n\n[450 rows x 1 columns]",
      "text/html": "<div>\n<style scoped>\n    .dataframe tbody tr th:only-of-type {\n        vertical-align: middle;\n    }\n\n    .dataframe tbody tr th {\n        vertical-align: top;\n    }\n\n    .dataframe thead th {\n        text-align: right;\n    }\n</style>\n<table border=\"1\" class=\"dataframe\">\n  <thead>\n    <tr style=\"text-align: right;\">\n      <th></th>\n      <th>prog. ability</th>\n    </tr>\n  </thead>\n  <tbody>\n    <tr>\n      <td>(0, aa)</td>\n      <td>1.000000</td>\n    </tr>\n    <tr>\n      <td>(1, ab)</td>\n      <td>0.556750</td>\n    </tr>\n    <tr>\n      <td>(2, ac)</td>\n      <td>0.473167</td>\n    </tr>\n    <tr>\n      <td>(3, ad)</td>\n      <td>0.440531</td>\n    </tr>\n    <tr>\n      <td>(4, af)</td>\n      <td>1.000000</td>\n    </tr>\n    <tr>\n      <td>...</td>\n      <td>...</td>\n    </tr>\n    <tr>\n      <td>(445, żn)</td>\n      <td>0.557673</td>\n    </tr>\n    <tr>\n      <td>(446, żo)</td>\n      <td>1.000000</td>\n    </tr>\n    <tr>\n      <td>(447, żs)</td>\n      <td>1.000000</td>\n    </tr>\n    <tr>\n      <td>(448, ży)</td>\n      <td>0.601215</td>\n    </tr>\n    <tr>\n      <td>(449, żą)</td>\n      <td>1.000000</td>\n    </tr>\n  </tbody>\n</table>\n<p>450 rows × 1 columns</p>\n</div>"
     },
     "metadata": {},
     "output_type": "execute_result",
     "execution_count": 24
    }
   ],
   "source": [
    "tripa"
   ],
   "metadata": {
    "collapsed": false,
    "pycharm": {
     "name": "#%%\n",
     "is_executing": false
    }
   }
  }
 ],
 "metadata": {
  "kernelspec": {
   "display_name": "Python 3",
   "language": "python",
   "name": "python3"
  },
  "language_info": {
   "codemirror_mode": {
    "name": "ipython",
    "version": 2
   },
   "file_extension": ".py",
   "mimetype": "text/x-python",
   "name": "python",
   "nbconvert_exporter": "python",
   "pygments_lexer": "ipython2",
   "version": "2.7.6"
  },
  "pycharm": {
   "stem_cell": {
    "cell_type": "raw",
    "source": [],
    "metadata": {
     "collapsed": false
    }
   }
  }
 },
 "nbformat": 4,
 "nbformat_minor": 0
}