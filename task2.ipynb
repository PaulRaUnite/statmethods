{
 "cells": [
  {
   "cell_type": "markdown",
   "metadata": {
    "collapsed": true,
    "pycharm": {
     "name": "#%% md\n"
    }
   },
   "source": [
    "# Статистичні методи\n",
    "Індивідуальне завдання 2\n",
    "\n",
    "Токарєв Павло, МФ-51"
   ]
  },
  {
   "cell_type": "markdown",
   "source": [
    "## Підготовка даних\n",
    "Текст узятий звідсіля: https://pamiec.pl/pa/biblioteka-cyfrowa/publikacje/53461,Polska-pod-okupacja-19391945-tom-1.html\n",
    "\n",
    "Для початку ми видаляємо усі непотрібні знаки та переноси.\n",
    "Потім приводимо диакретичні символи до простих відповідників."
   ],
   "metadata": {
    "collapsed": false,
    "pycharm": {
     "name": "#%% md\n"
    }
   }
  },
  {
   "cell_type": "code",
   "execution_count": 13,
   "outputs": [
    {
     "name": "stdout",
     "text": [
      "ziemie polskie ktore w drugiej polowie wrzesnia r dostaly sie pod okupacje so wiecka nie byly po prostu polowa \npolski ktora tym tylko roznila sie od tej zagarnietej przez niemcow ze lezala na wschodzie i ze zajeli ja rosjanie \nbyl to poniekad inny kraj juz przed wojna tereny polozone na wschod od wisly i bugu nazywano polska b a \nziemie na zachod od linii obu tych rzek polska a byla to zatem gorsza polska polska drugiej jakosci skad brala \nsie ta pogarda dla kresow wschodnich ii rzeczypospolitej otoz ziemie te byly gospodarczo i cywilizacyjnie zacofane z dominujacym rolnictwem ponad\n"
     ],
     "output_type": "stream"
    }
   ],
   "source": [
    "import math\n",
    "import re\n",
    "from typing import Dict, Iterable, List, Tuple\n",
    "from collections import defaultdict\n",
    "import unidecode as unidecode\n",
    "\n",
    "bad_chars = \"!(),-.0123456789:?[]\\xad„”–\"\n",
    "with open(\"data/polish/1.txt\") as file:\n",
    "    text = file.read()\n",
    "    text = \"\".join(c for c in text if c not in bad_chars).lower()\n",
    "    text = unidecode.unidecode(re.sub(r\"\\s+\", \" \", text))\n",
    "# sample\n",
    "print(\" \".join(\"\\n\"+word if i%20==19 else word for i,word in enumerate(text.split()) if i < 99))"
   ],
   "metadata": {
    "collapsed": false,
    "pycharm": {
     "name": "#%%\n",
     "is_executing": false
    }
   }
  },
  {
   "cell_type": "markdown",
   "source": [
    "Усі літери тексту."
   ],
   "metadata": {
    "collapsed": false,
    "pycharm": {
     "name": "#%% md\n"
    }
   }
  },
  {
   "cell_type": "code",
   "execution_count": 14,
   "outputs": [
    {
     "data": {
      "text/plain": "['a',\n 'b',\n 'c',\n 'd',\n 'e',\n 'f',\n 'g',\n 'h',\n 'i',\n 'j',\n 'k',\n 'l',\n 'm',\n 'n',\n 'o',\n 'p',\n 'r',\n 's',\n 't',\n 'u',\n 'v',\n 'w',\n 'y',\n 'z']"
     },
     "metadata": {},
     "output_type": "execute_result",
     "execution_count": 14
    }
   ],
   "source": [
    "chars = sorted(set(text) - set(\" \"))\n",
    "chars"
   ],
   "metadata": {
    "collapsed": false,
    "pycharm": {
     "name": "#%%\n",
     "is_executing": false
    }
   }
  },
  {
   "cell_type": "markdown",
   "source": [
    "Усі слова тексту."
   ],
   "metadata": {
    "collapsed": false,
    "pycharm": {
     "name": "#%% md\n"
    }
   }
  },
  {
   "cell_type": "code",
   "execution_count": 15,
   "outputs": [
    {
     "data": {
      "text/plain": "['ziemie',\n 'polskie',\n 'ktore',\n 'drugiej',\n 'polowie',\n 'wrzesnia',\n 'dostaly',\n 'sie',\n 'pod',\n 'okupacje',\n 'so',\n 'wiecka',\n 'nie',\n 'byly',\n 'po',\n 'prostu',\n 'polowa',\n 'polski',\n 'ktora',\n 'tym']"
     },
     "metadata": {},
     "output_type": "execute_result",
     "execution_count": 15
    }
   ],
   "source": [
    "words = [word for word in text.split() if len(word) > 1]\n",
    "words[:20]"
   ],
   "metadata": {
    "collapsed": false,
    "pycharm": {
     "name": "#%%\n",
     "is_executing": false
    }
   }
  },
  {
   "cell_type": "markdown",
   "source": [
    "Кількість слів."
   ],
   "metadata": {
    "collapsed": false,
    "pycharm": {
     "name": "#%% md\n",
     "is_executing": false
    }
   }
  },
  {
   "cell_type": "code",
   "execution_count": 16,
   "outputs": [
    {
     "data": {
      "text/plain": "1491"
     },
     "metadata": {},
     "output_type": "execute_result",
     "execution_count": 16
    }
   ],
   "source": [
    "len(words)"
   ],
   "metadata": {
    "collapsed": false,
    "pycharm": {
     "name": "#%%\n",
     "is_executing": false
    }
   }
  },
  {
   "cell_type": "markdown",
   "source": [
    "Функція розбиття на n-грами."
   ],
   "metadata": {
    "collapsed": false,
    "pycharm": {
     "name": "#%% md\n"
    }
   }
  },
  {
   "cell_type": "code",
   "execution_count": 17,
   "outputs": [],
   "source": [
    "def ngrams(words: Iterable[str], n: int) -> Dict[str, int]:\n",
    "    d: Dict[str, int] = defaultdict(int)\n",
    "    for word in words:\n",
    "        if len(word) < n:\n",
    "            continue\n",
    "        for i in range(len(word)-(n-1)):\n",
    "            d[word[i:i+n]] += 1\n",
    "    return d"
   ],
   "metadata": {
    "collapsed": false,
    "pycharm": {
     "name": "#%%\n",
     "is_executing": false
    }
   }
  },
  {
   "cell_type": "markdown",
   "source": [
    "Отримані n-грами."
   ],
   "metadata": {
    "collapsed": false,
    "pycharm": {
     "name": "#%% md\n"
    }
   }
  },
  {
   "cell_type": "code",
   "execution_count": 18,
   "outputs": [
    {
     "data": {
      "text/plain": "[('zi', 44),\n ('ie', 337),\n ('em', 66),\n ('mi', 106),\n ('po', 123),\n ('ol', 73),\n ('ls', 23),\n ('sk', 56),\n ('ki', 79),\n ('kt', 28),\n ('to', 66),\n ('or', 62),\n ('re', 48),\n ('dr', 6),\n ('ru', 19),\n ('ug', 6),\n ('gi', 13),\n ('ej', 74),\n ('lo', 63),\n ('ow', 174)]"
     },
     "metadata": {},
     "output_type": "execute_result",
     "execution_count": 18
    }
   ],
   "source": [
    "twograms = ngrams(words, 2)\n",
    "list(twograms.items())[:20]"
   ],
   "metadata": {
    "collapsed": false,
    "pycharm": {
     "name": "#%%\n",
     "is_executing": false
    }
   }
  },
  {
   "cell_type": "code",
   "execution_count": 19,
   "outputs": [
    {
     "data": {
      "text/plain": "[('zie', 31),\n ('iem', 26),\n ('emi', 7),\n ('mie', 31),\n ('pol', 42),\n ('ols', 23),\n ('lsk', 20),\n ('ski', 29),\n ('kie', 36),\n ('kto', 21),\n ('tor', 27),\n ('ore', 9),\n ('dru', 3),\n ('rug', 3),\n ('ugi', 5),\n ('gie', 6),\n ('iej', 27),\n ('olo', 10),\n ('low', 15),\n ('owi', 47)]"
     },
     "metadata": {},
     "output_type": "execute_result",
     "execution_count": 19
    }
   ],
   "source": [
    "trigrams = ngrams(words, 3)\n",
    "list(trigrams.items())[:20]"
   ],
   "metadata": {
    "collapsed": false,
    "pycharm": {
     "name": "#%%\n",
     "is_executing": false
    }
   }
  },
  {
   "cell_type": "markdown",
   "source": [
    "Функції для обчислення матриці переходу та прогностичної здатності."
   ],
   "metadata": {
    "collapsed": false,
    "pycharm": {
     "name": "#%% md\n"
    }
   }
  },
  {
   "cell_type": "code",
   "execution_count": 20,
   "outputs": [],
   "source": [
    "from collections import OrderedDict\n",
    "from pandas import DataFrame\n",
    "\n",
    "def prognozeability(matrix:List[Tuple[str, List[float]]]):\n",
    "    pm = [\n",
    "        (k, [1+sum(map(lambda p: p*math.log(p,2.0) if p > 0 else 0, l))/math.log(len(l), 2.0)])\n",
    "        for k, l in matrix\n",
    "    ]\n",
    "    return DataFrame.from_dict(OrderedDict(pm), orient=\"index\", columns=[\"prog. ability\"])\n",
    "\n",
    "def matrix(ngrams: Dict[str, int]):\n",
    "    nmgram_amount = defaultdict(int)\n",
    "    for k,v in ngrams.items():\n",
    "        nmgram_amount[k[:-1]]+=v\n",
    "    rev_ind = list(enumerate(sorted({key[:-1] for key in ngrams.keys()})))\n",
    "    indexes = {key:i for i,key in rev_ind}\n",
    "    m = [(rev_ind[i], [0 for _ in range(len(chars))]) for i in range(len(rev_ind))]\n",
    "    for k,v in ngrams.items():\n",
    "        c = k[-1]\n",
    "        k = k[:-1]\n",
    "        i = indexes[k]\n",
    "        a = nmgram_amount[k]\n",
    "        m[i][1][chars.index(c)] = v/a\n",
    "    \n",
    "    return DataFrame.from_dict(OrderedDict(m), orient=\"index\", columns=chars), prognozeability(m)"
   ],
   "metadata": {
    "collapsed": false,
    "pycharm": {
     "name": "#%%\n",
     "is_executing": false
    }
   }
  },
  {
   "cell_type": "markdown",
   "source": [
    "## Результати\n",
    "### 2-грами"
   ],
   "metadata": {
    "collapsed": false,
    "pycharm": {
     "name": "#%% md\n"
    }
   }
  },
  {
   "cell_type": "code",
   "execution_count": 21,
   "outputs": [
    {
     "data": {
      "text/plain": "                a         b         c         d         e         f         g  \\\n(0, a)   0.001513  0.010590  0.167927  0.059002  0.000000  0.001513  0.022693   \n(1, b)   0.118056  0.000000  0.006944  0.000000  0.048611  0.000000  0.000000   \n(2, c)   0.035639  0.000000  0.006289  0.000000  0.069182  0.000000  0.000000   \n(3, d)   0.065041  0.020325  0.008130  0.000000  0.065041  0.000000  0.000000   \n(4, e)   0.000000  0.009772  0.109121  0.065147  0.000000  0.000000  0.084691   \n(5, f)   0.266667  0.000000  0.000000  0.000000  0.066667  0.000000  0.000000   \n(6, g)   0.163793  0.000000  0.000000  0.008621  0.000000  0.000000  0.000000   \n(7, h)   0.159091  0.000000  0.022727  0.000000  0.045455  0.000000  0.000000   \n(8, i)   0.142653  0.001427  0.088445  0.004280  0.480742  0.000000  0.001427   \n(9, j)   0.353659  0.012195  0.000000  0.006098  0.335366  0.000000  0.006098   \n(10, k)  0.157895  0.000000  0.013158  0.000000  0.013158  0.000000  0.000000   \n(11, l)  0.191327  0.010204  0.010204  0.005102  0.119898  0.000000  0.000000   \n(12, m)  0.102439  0.004878  0.009756  0.000000  0.034146  0.000000  0.000000   \n(13, n)  0.197595  0.001718  0.022337  0.010309  0.108247  0.003436  0.001718   \n(14, o)  0.002770  0.034626  0.033241  0.116343  0.001385  0.005540  0.024931   \n(15, p)  0.159722  0.000000  0.000000  0.000000  0.031250  0.000000  0.000000   \n(16, r)  0.166240  0.002558  0.017903  0.020460  0.122762  0.000000  0.000000   \n(17, s)  0.016097  0.000000  0.134809  0.000000  0.004024  0.000000  0.000000   \n(18, t)  0.196023  0.000000  0.002841  0.000000  0.198864  0.000000  0.000000   \n(19, u)  0.015544  0.031088  0.041451  0.155440  0.000000  0.000000  0.031088   \n(20, v)  0.000000  0.000000  0.000000  0.000000  0.000000  0.000000  0.000000   \n(21, w)  0.187500  0.000000  0.000000  0.007812  0.054688  0.000000  0.000000   \n(22, y)  0.000000  0.016077  0.234727  0.019293  0.000000  0.003215  0.009646   \n(23, z)  0.175090  0.007220  0.021661  0.007220  0.249097  0.000000  0.009025   \n\n                h         i         j  ...         o         p         r  \\\n(0, a)   0.000000  0.009077  0.039334  ...  0.000000  0.009077  0.083207   \n(1, b)   0.000000  0.187500  0.000000  ...  0.166667  0.000000  0.083333   \n(2, c)   0.253669  0.161426  0.062893  ...  0.052411  0.000000  0.000000   \n(3, d)   0.000000  0.000000  0.000000  ...  0.223577  0.004065  0.024390   \n(4, e)   0.000000  0.003257  0.120521  ...  0.004886  0.019544  0.058632   \n(5, f)   0.000000  0.266667  0.000000  ...  0.133333  0.000000  0.000000   \n(6, g)   0.000000  0.112069  0.000000  ...  0.448276  0.000000  0.112069   \n(7, h)   0.000000  0.022727  0.000000  ...  0.522727  0.000000  0.022727   \n(8, i)   0.000000  0.011412  0.002853  ...  0.034237  0.000000  0.000000   \n(9, j)   0.000000  0.060976  0.000000  ...  0.024390  0.000000  0.000000   \n(10, k)  0.000000  0.259868  0.000000  ...  0.164474  0.000000  0.075658   \n(11, l)  0.000000  0.170918  0.000000  ...  0.160714  0.000000  0.000000   \n(12, m)  0.000000  0.517073  0.000000  ...  0.087805  0.000000  0.000000   \n(13, n)  0.000000  0.340206  0.000000  ...  0.111684  0.000000  0.000000   \n(14, o)  0.000000  0.000000  0.022161  ...  0.000000  0.016620  0.085873   \n(15, p)  0.000000  0.041667  0.000000  ...  0.427083  0.000000  0.274306   \n(16, r)  0.000000  0.030691  0.000000  ...  0.209719  0.005115  0.000000   \n(17, s)  0.000000  0.096579  0.008048  ...  0.110664  0.046278  0.012072   \n(18, t)  0.000000  0.011364  0.008523  ...  0.187500  0.005682  0.076705   \n(19, u)  0.000000  0.000000  0.072539  ...  0.000000  0.119171  0.051813   \n(20, v)  0.000000  1.000000  0.000000  ...  0.000000  0.000000  0.000000   \n(21, w)  0.000000  0.260417  0.000000  ...  0.164062  0.007812  0.015625   \n(22, y)  0.000000  0.000000  0.054662  ...  0.000000  0.016077  0.009646   \n(23, z)  0.000000  0.079422  0.005415  ...  0.037906  0.005415  0.012635   \n\n                s         t         u         v         w         y         z  \n(0, a)   0.040847  0.046899  0.013616  0.000000  0.034796  0.000000  0.045386  \n(1, b)   0.013889  0.000000  0.034722  0.000000  0.000000  0.277778  0.000000  \n(2, c)   0.000000  0.006289  0.006289  0.000000  0.000000  0.077568  0.211740  \n(3, d)   0.012195  0.000000  0.040650  0.000000  0.028455  0.048780  0.207317  \n(4, e)   0.099349  0.034202  0.000000  0.000000  0.027687  0.000000  0.048860  \n(5, f)   0.000000  0.000000  0.200000  0.000000  0.000000  0.000000  0.000000  \n(6, g)   0.000000  0.000000  0.008621  0.000000  0.000000  0.000000  0.008621  \n(7, h)   0.000000  0.000000  0.000000  0.000000  0.045455  0.045455  0.000000  \n(8, i)   0.032810  0.022825  0.037090  0.000000  0.005706  0.000000  0.015692  \n(9, j)   0.073171  0.000000  0.042683  0.000000  0.000000  0.000000  0.000000  \n(10, k)  0.019737  0.092105  0.128289  0.000000  0.029605  0.000000  0.019737  \n(11, l)  0.058673  0.007653  0.086735  0.000000  0.010204  0.086735  0.000000  \n(12, m)  0.009756  0.000000  0.082927  0.000000  0.000000  0.082927  0.000000  \n(13, n)  0.027491  0.025773  0.005155  0.000000  0.000000  0.096220  0.000000  \n(14, o)  0.094183  0.019391  0.000000  0.001385  0.240997  0.000000  0.042936  \n(15, p)  0.000000  0.006944  0.020833  0.000000  0.000000  0.006944  0.000000  \n(16, r)  0.017903  0.015345  0.048593  0.000000  0.005115  0.038363  0.273657  \n(17, s)  0.000000  0.205231  0.010060  0.000000  0.016097  0.038229  0.136821  \n(18, t)  0.005682  0.000000  0.042614  0.000000  0.062500  0.133523  0.000000  \n(19, u)  0.113990  0.062176  0.000000  0.000000  0.031088  0.000000  0.036269  \n(20, v)  0.000000  0.000000  0.000000  0.000000  0.000000  0.000000  0.000000  \n(21, w)  0.080729  0.000000  0.010417  0.000000  0.000000  0.127604  0.018229  \n(22, y)  0.122186  0.051447  0.000000  0.000000  0.061093  0.000000  0.028939  \n(23, z)  0.010830  0.010830  0.021661  0.000000  0.018051  0.171480  0.000000  \n\n[24 rows x 24 columns]",
      "text/html": "<div>\n<style scoped>\n    .dataframe tbody tr th:only-of-type {\n        vertical-align: middle;\n    }\n\n    .dataframe tbody tr th {\n        vertical-align: top;\n    }\n\n    .dataframe thead th {\n        text-align: right;\n    }\n</style>\n<table border=\"1\" class=\"dataframe\">\n  <thead>\n    <tr style=\"text-align: right;\">\n      <th></th>\n      <th>a</th>\n      <th>b</th>\n      <th>c</th>\n      <th>d</th>\n      <th>e</th>\n      <th>f</th>\n      <th>g</th>\n      <th>h</th>\n      <th>i</th>\n      <th>j</th>\n      <th>...</th>\n      <th>o</th>\n      <th>p</th>\n      <th>r</th>\n      <th>s</th>\n      <th>t</th>\n      <th>u</th>\n      <th>v</th>\n      <th>w</th>\n      <th>y</th>\n      <th>z</th>\n    </tr>\n  </thead>\n  <tbody>\n    <tr>\n      <td>(0, a)</td>\n      <td>0.001513</td>\n      <td>0.010590</td>\n      <td>0.167927</td>\n      <td>0.059002</td>\n      <td>0.000000</td>\n      <td>0.001513</td>\n      <td>0.022693</td>\n      <td>0.000000</td>\n      <td>0.009077</td>\n      <td>0.039334</td>\n      <td>...</td>\n      <td>0.000000</td>\n      <td>0.009077</td>\n      <td>0.083207</td>\n      <td>0.040847</td>\n      <td>0.046899</td>\n      <td>0.013616</td>\n      <td>0.000000</td>\n      <td>0.034796</td>\n      <td>0.000000</td>\n      <td>0.045386</td>\n    </tr>\n    <tr>\n      <td>(1, b)</td>\n      <td>0.118056</td>\n      <td>0.000000</td>\n      <td>0.006944</td>\n      <td>0.000000</td>\n      <td>0.048611</td>\n      <td>0.000000</td>\n      <td>0.000000</td>\n      <td>0.000000</td>\n      <td>0.187500</td>\n      <td>0.000000</td>\n      <td>...</td>\n      <td>0.166667</td>\n      <td>0.000000</td>\n      <td>0.083333</td>\n      <td>0.013889</td>\n      <td>0.000000</td>\n      <td>0.034722</td>\n      <td>0.000000</td>\n      <td>0.000000</td>\n      <td>0.277778</td>\n      <td>0.000000</td>\n    </tr>\n    <tr>\n      <td>(2, c)</td>\n      <td>0.035639</td>\n      <td>0.000000</td>\n      <td>0.006289</td>\n      <td>0.000000</td>\n      <td>0.069182</td>\n      <td>0.000000</td>\n      <td>0.000000</td>\n      <td>0.253669</td>\n      <td>0.161426</td>\n      <td>0.062893</td>\n      <td>...</td>\n      <td>0.052411</td>\n      <td>0.000000</td>\n      <td>0.000000</td>\n      <td>0.000000</td>\n      <td>0.006289</td>\n      <td>0.006289</td>\n      <td>0.000000</td>\n      <td>0.000000</td>\n      <td>0.077568</td>\n      <td>0.211740</td>\n    </tr>\n    <tr>\n      <td>(3, d)</td>\n      <td>0.065041</td>\n      <td>0.020325</td>\n      <td>0.008130</td>\n      <td>0.000000</td>\n      <td>0.065041</td>\n      <td>0.000000</td>\n      <td>0.000000</td>\n      <td>0.000000</td>\n      <td>0.000000</td>\n      <td>0.000000</td>\n      <td>...</td>\n      <td>0.223577</td>\n      <td>0.004065</td>\n      <td>0.024390</td>\n      <td>0.012195</td>\n      <td>0.000000</td>\n      <td>0.040650</td>\n      <td>0.000000</td>\n      <td>0.028455</td>\n      <td>0.048780</td>\n      <td>0.207317</td>\n    </tr>\n    <tr>\n      <td>(4, e)</td>\n      <td>0.000000</td>\n      <td>0.009772</td>\n      <td>0.109121</td>\n      <td>0.065147</td>\n      <td>0.000000</td>\n      <td>0.000000</td>\n      <td>0.084691</td>\n      <td>0.000000</td>\n      <td>0.003257</td>\n      <td>0.120521</td>\n      <td>...</td>\n      <td>0.004886</td>\n      <td>0.019544</td>\n      <td>0.058632</td>\n      <td>0.099349</td>\n      <td>0.034202</td>\n      <td>0.000000</td>\n      <td>0.000000</td>\n      <td>0.027687</td>\n      <td>0.000000</td>\n      <td>0.048860</td>\n    </tr>\n    <tr>\n      <td>(5, f)</td>\n      <td>0.266667</td>\n      <td>0.000000</td>\n      <td>0.000000</td>\n      <td>0.000000</td>\n      <td>0.066667</td>\n      <td>0.000000</td>\n      <td>0.000000</td>\n      <td>0.000000</td>\n      <td>0.266667</td>\n      <td>0.000000</td>\n      <td>...</td>\n      <td>0.133333</td>\n      <td>0.000000</td>\n      <td>0.000000</td>\n      <td>0.000000</td>\n      <td>0.000000</td>\n      <td>0.200000</td>\n      <td>0.000000</td>\n      <td>0.000000</td>\n      <td>0.000000</td>\n      <td>0.000000</td>\n    </tr>\n    <tr>\n      <td>(6, g)</td>\n      <td>0.163793</td>\n      <td>0.000000</td>\n      <td>0.000000</td>\n      <td>0.008621</td>\n      <td>0.000000</td>\n      <td>0.000000</td>\n      <td>0.000000</td>\n      <td>0.000000</td>\n      <td>0.112069</td>\n      <td>0.000000</td>\n      <td>...</td>\n      <td>0.448276</td>\n      <td>0.000000</td>\n      <td>0.112069</td>\n      <td>0.000000</td>\n      <td>0.000000</td>\n      <td>0.008621</td>\n      <td>0.000000</td>\n      <td>0.000000</td>\n      <td>0.000000</td>\n      <td>0.008621</td>\n    </tr>\n    <tr>\n      <td>(7, h)</td>\n      <td>0.159091</td>\n      <td>0.000000</td>\n      <td>0.022727</td>\n      <td>0.000000</td>\n      <td>0.045455</td>\n      <td>0.000000</td>\n      <td>0.000000</td>\n      <td>0.000000</td>\n      <td>0.022727</td>\n      <td>0.000000</td>\n      <td>...</td>\n      <td>0.522727</td>\n      <td>0.000000</td>\n      <td>0.022727</td>\n      <td>0.000000</td>\n      <td>0.000000</td>\n      <td>0.000000</td>\n      <td>0.000000</td>\n      <td>0.045455</td>\n      <td>0.045455</td>\n      <td>0.000000</td>\n    </tr>\n    <tr>\n      <td>(8, i)</td>\n      <td>0.142653</td>\n      <td>0.001427</td>\n      <td>0.088445</td>\n      <td>0.004280</td>\n      <td>0.480742</td>\n      <td>0.000000</td>\n      <td>0.001427</td>\n      <td>0.000000</td>\n      <td>0.011412</td>\n      <td>0.002853</td>\n      <td>...</td>\n      <td>0.034237</td>\n      <td>0.000000</td>\n      <td>0.000000</td>\n      <td>0.032810</td>\n      <td>0.022825</td>\n      <td>0.037090</td>\n      <td>0.000000</td>\n      <td>0.005706</td>\n      <td>0.000000</td>\n      <td>0.015692</td>\n    </tr>\n    <tr>\n      <td>(9, j)</td>\n      <td>0.353659</td>\n      <td>0.012195</td>\n      <td>0.000000</td>\n      <td>0.006098</td>\n      <td>0.335366</td>\n      <td>0.000000</td>\n      <td>0.006098</td>\n      <td>0.000000</td>\n      <td>0.060976</td>\n      <td>0.000000</td>\n      <td>...</td>\n      <td>0.024390</td>\n      <td>0.000000</td>\n      <td>0.000000</td>\n      <td>0.073171</td>\n      <td>0.000000</td>\n      <td>0.042683</td>\n      <td>0.000000</td>\n      <td>0.000000</td>\n      <td>0.000000</td>\n      <td>0.000000</td>\n    </tr>\n    <tr>\n      <td>(10, k)</td>\n      <td>0.157895</td>\n      <td>0.000000</td>\n      <td>0.013158</td>\n      <td>0.000000</td>\n      <td>0.013158</td>\n      <td>0.000000</td>\n      <td>0.000000</td>\n      <td>0.000000</td>\n      <td>0.259868</td>\n      <td>0.000000</td>\n      <td>...</td>\n      <td>0.164474</td>\n      <td>0.000000</td>\n      <td>0.075658</td>\n      <td>0.019737</td>\n      <td>0.092105</td>\n      <td>0.128289</td>\n      <td>0.000000</td>\n      <td>0.029605</td>\n      <td>0.000000</td>\n      <td>0.019737</td>\n    </tr>\n    <tr>\n      <td>(11, l)</td>\n      <td>0.191327</td>\n      <td>0.010204</td>\n      <td>0.010204</td>\n      <td>0.005102</td>\n      <td>0.119898</td>\n      <td>0.000000</td>\n      <td>0.000000</td>\n      <td>0.000000</td>\n      <td>0.170918</td>\n      <td>0.000000</td>\n      <td>...</td>\n      <td>0.160714</td>\n      <td>0.000000</td>\n      <td>0.000000</td>\n      <td>0.058673</td>\n      <td>0.007653</td>\n      <td>0.086735</td>\n      <td>0.000000</td>\n      <td>0.010204</td>\n      <td>0.086735</td>\n      <td>0.000000</td>\n    </tr>\n    <tr>\n      <td>(12, m)</td>\n      <td>0.102439</td>\n      <td>0.004878</td>\n      <td>0.009756</td>\n      <td>0.000000</td>\n      <td>0.034146</td>\n      <td>0.000000</td>\n      <td>0.000000</td>\n      <td>0.000000</td>\n      <td>0.517073</td>\n      <td>0.000000</td>\n      <td>...</td>\n      <td>0.087805</td>\n      <td>0.000000</td>\n      <td>0.000000</td>\n      <td>0.009756</td>\n      <td>0.000000</td>\n      <td>0.082927</td>\n      <td>0.000000</td>\n      <td>0.000000</td>\n      <td>0.082927</td>\n      <td>0.000000</td>\n    </tr>\n    <tr>\n      <td>(13, n)</td>\n      <td>0.197595</td>\n      <td>0.001718</td>\n      <td>0.022337</td>\n      <td>0.010309</td>\n      <td>0.108247</td>\n      <td>0.003436</td>\n      <td>0.001718</td>\n      <td>0.000000</td>\n      <td>0.340206</td>\n      <td>0.000000</td>\n      <td>...</td>\n      <td>0.111684</td>\n      <td>0.000000</td>\n      <td>0.000000</td>\n      <td>0.027491</td>\n      <td>0.025773</td>\n      <td>0.005155</td>\n      <td>0.000000</td>\n      <td>0.000000</td>\n      <td>0.096220</td>\n      <td>0.000000</td>\n    </tr>\n    <tr>\n      <td>(14, o)</td>\n      <td>0.002770</td>\n      <td>0.034626</td>\n      <td>0.033241</td>\n      <td>0.116343</td>\n      <td>0.001385</td>\n      <td>0.005540</td>\n      <td>0.024931</td>\n      <td>0.000000</td>\n      <td>0.000000</td>\n      <td>0.022161</td>\n      <td>...</td>\n      <td>0.000000</td>\n      <td>0.016620</td>\n      <td>0.085873</td>\n      <td>0.094183</td>\n      <td>0.019391</td>\n      <td>0.000000</td>\n      <td>0.001385</td>\n      <td>0.240997</td>\n      <td>0.000000</td>\n      <td>0.042936</td>\n    </tr>\n    <tr>\n      <td>(15, p)</td>\n      <td>0.159722</td>\n      <td>0.000000</td>\n      <td>0.000000</td>\n      <td>0.000000</td>\n      <td>0.031250</td>\n      <td>0.000000</td>\n      <td>0.000000</td>\n      <td>0.000000</td>\n      <td>0.041667</td>\n      <td>0.000000</td>\n      <td>...</td>\n      <td>0.427083</td>\n      <td>0.000000</td>\n      <td>0.274306</td>\n      <td>0.000000</td>\n      <td>0.006944</td>\n      <td>0.020833</td>\n      <td>0.000000</td>\n      <td>0.000000</td>\n      <td>0.006944</td>\n      <td>0.000000</td>\n    </tr>\n    <tr>\n      <td>(16, r)</td>\n      <td>0.166240</td>\n      <td>0.002558</td>\n      <td>0.017903</td>\n      <td>0.020460</td>\n      <td>0.122762</td>\n      <td>0.000000</td>\n      <td>0.000000</td>\n      <td>0.000000</td>\n      <td>0.030691</td>\n      <td>0.000000</td>\n      <td>...</td>\n      <td>0.209719</td>\n      <td>0.005115</td>\n      <td>0.000000</td>\n      <td>0.017903</td>\n      <td>0.015345</td>\n      <td>0.048593</td>\n      <td>0.000000</td>\n      <td>0.005115</td>\n      <td>0.038363</td>\n      <td>0.273657</td>\n    </tr>\n    <tr>\n      <td>(17, s)</td>\n      <td>0.016097</td>\n      <td>0.000000</td>\n      <td>0.134809</td>\n      <td>0.000000</td>\n      <td>0.004024</td>\n      <td>0.000000</td>\n      <td>0.000000</td>\n      <td>0.000000</td>\n      <td>0.096579</td>\n      <td>0.008048</td>\n      <td>...</td>\n      <td>0.110664</td>\n      <td>0.046278</td>\n      <td>0.012072</td>\n      <td>0.000000</td>\n      <td>0.205231</td>\n      <td>0.010060</td>\n      <td>0.000000</td>\n      <td>0.016097</td>\n      <td>0.038229</td>\n      <td>0.136821</td>\n    </tr>\n    <tr>\n      <td>(18, t)</td>\n      <td>0.196023</td>\n      <td>0.000000</td>\n      <td>0.002841</td>\n      <td>0.000000</td>\n      <td>0.198864</td>\n      <td>0.000000</td>\n      <td>0.000000</td>\n      <td>0.000000</td>\n      <td>0.011364</td>\n      <td>0.008523</td>\n      <td>...</td>\n      <td>0.187500</td>\n      <td>0.005682</td>\n      <td>0.076705</td>\n      <td>0.005682</td>\n      <td>0.000000</td>\n      <td>0.042614</td>\n      <td>0.000000</td>\n      <td>0.062500</td>\n      <td>0.133523</td>\n      <td>0.000000</td>\n    </tr>\n    <tr>\n      <td>(19, u)</td>\n      <td>0.015544</td>\n      <td>0.031088</td>\n      <td>0.041451</td>\n      <td>0.155440</td>\n      <td>0.000000</td>\n      <td>0.000000</td>\n      <td>0.031088</td>\n      <td>0.000000</td>\n      <td>0.000000</td>\n      <td>0.072539</td>\n      <td>...</td>\n      <td>0.000000</td>\n      <td>0.119171</td>\n      <td>0.051813</td>\n      <td>0.113990</td>\n      <td>0.062176</td>\n      <td>0.000000</td>\n      <td>0.000000</td>\n      <td>0.031088</td>\n      <td>0.000000</td>\n      <td>0.036269</td>\n    </tr>\n    <tr>\n      <td>(20, v)</td>\n      <td>0.000000</td>\n      <td>0.000000</td>\n      <td>0.000000</td>\n      <td>0.000000</td>\n      <td>0.000000</td>\n      <td>0.000000</td>\n      <td>0.000000</td>\n      <td>0.000000</td>\n      <td>1.000000</td>\n      <td>0.000000</td>\n      <td>...</td>\n      <td>0.000000</td>\n      <td>0.000000</td>\n      <td>0.000000</td>\n      <td>0.000000</td>\n      <td>0.000000</td>\n      <td>0.000000</td>\n      <td>0.000000</td>\n      <td>0.000000</td>\n      <td>0.000000</td>\n      <td>0.000000</td>\n    </tr>\n    <tr>\n      <td>(21, w)</td>\n      <td>0.187500</td>\n      <td>0.000000</td>\n      <td>0.000000</td>\n      <td>0.007812</td>\n      <td>0.054688</td>\n      <td>0.000000</td>\n      <td>0.000000</td>\n      <td>0.000000</td>\n      <td>0.260417</td>\n      <td>0.000000</td>\n      <td>...</td>\n      <td>0.164062</td>\n      <td>0.007812</td>\n      <td>0.015625</td>\n      <td>0.080729</td>\n      <td>0.000000</td>\n      <td>0.010417</td>\n      <td>0.000000</td>\n      <td>0.000000</td>\n      <td>0.127604</td>\n      <td>0.018229</td>\n    </tr>\n    <tr>\n      <td>(22, y)</td>\n      <td>0.000000</td>\n      <td>0.016077</td>\n      <td>0.234727</td>\n      <td>0.019293</td>\n      <td>0.000000</td>\n      <td>0.003215</td>\n      <td>0.009646</td>\n      <td>0.000000</td>\n      <td>0.000000</td>\n      <td>0.054662</td>\n      <td>...</td>\n      <td>0.000000</td>\n      <td>0.016077</td>\n      <td>0.009646</td>\n      <td>0.122186</td>\n      <td>0.051447</td>\n      <td>0.000000</td>\n      <td>0.000000</td>\n      <td>0.061093</td>\n      <td>0.000000</td>\n      <td>0.028939</td>\n    </tr>\n    <tr>\n      <td>(23, z)</td>\n      <td>0.175090</td>\n      <td>0.007220</td>\n      <td>0.021661</td>\n      <td>0.007220</td>\n      <td>0.249097</td>\n      <td>0.000000</td>\n      <td>0.009025</td>\n      <td>0.000000</td>\n      <td>0.079422</td>\n      <td>0.005415</td>\n      <td>...</td>\n      <td>0.037906</td>\n      <td>0.005415</td>\n      <td>0.012635</td>\n      <td>0.010830</td>\n      <td>0.010830</td>\n      <td>0.021661</td>\n      <td>0.000000</td>\n      <td>0.018051</td>\n      <td>0.171480</td>\n      <td>0.000000</td>\n    </tr>\n  </tbody>\n</table>\n<p>24 rows × 24 columns</p>\n</div>"
     },
     "metadata": {},
     "output_type": "execute_result",
     "execution_count": 21
    }
   ],
   "source": [
    "two_matrix, twopa = matrix(twograms)\n",
    "two_matrix"
   ],
   "metadata": {
    "collapsed": false,
    "pycharm": {
     "name": "#%%\n",
     "is_executing": false
    }
   }
  },
  {
   "cell_type": "code",
   "execution_count": 22,
   "outputs": [
    {
     "data": {
      "text/plain": "         prog. ability\n(0, a)        0.205033\n(1, b)        0.364175\n(2, c)        0.349077\n(3, d)        0.297276\n(4, e)        0.187629\n(5, f)        0.478753\n(6, g)        0.488442\n(7, h)        0.491809\n(8, i)        0.403523\n(9, j)        0.464106\n(10, k)       0.340578\n(11, l)       0.303164\n(12, m)       0.468091\n(13, n)       0.380162\n(14, o)       0.223995\n(15, p)       0.521482\n(16, r)       0.339570\n(17, s)       0.264997\n(18, t)       0.324423\n(19, u)       0.178327\n(20, v)       1.000000\n(21, w)       0.345588\n(22, y)       0.282687\n(23, z)       0.271198",
      "text/html": "<div>\n<style scoped>\n    .dataframe tbody tr th:only-of-type {\n        vertical-align: middle;\n    }\n\n    .dataframe tbody tr th {\n        vertical-align: top;\n    }\n\n    .dataframe thead th {\n        text-align: right;\n    }\n</style>\n<table border=\"1\" class=\"dataframe\">\n  <thead>\n    <tr style=\"text-align: right;\">\n      <th></th>\n      <th>prog. ability</th>\n    </tr>\n  </thead>\n  <tbody>\n    <tr>\n      <td>(0, a)</td>\n      <td>0.205033</td>\n    </tr>\n    <tr>\n      <td>(1, b)</td>\n      <td>0.364175</td>\n    </tr>\n    <tr>\n      <td>(2, c)</td>\n      <td>0.349077</td>\n    </tr>\n    <tr>\n      <td>(3, d)</td>\n      <td>0.297276</td>\n    </tr>\n    <tr>\n      <td>(4, e)</td>\n      <td>0.187629</td>\n    </tr>\n    <tr>\n      <td>(5, f)</td>\n      <td>0.478753</td>\n    </tr>\n    <tr>\n      <td>(6, g)</td>\n      <td>0.488442</td>\n    </tr>\n    <tr>\n      <td>(7, h)</td>\n      <td>0.491809</td>\n    </tr>\n    <tr>\n      <td>(8, i)</td>\n      <td>0.403523</td>\n    </tr>\n    <tr>\n      <td>(9, j)</td>\n      <td>0.464106</td>\n    </tr>\n    <tr>\n      <td>(10, k)</td>\n      <td>0.340578</td>\n    </tr>\n    <tr>\n      <td>(11, l)</td>\n      <td>0.303164</td>\n    </tr>\n    <tr>\n      <td>(12, m)</td>\n      <td>0.468091</td>\n    </tr>\n    <tr>\n      <td>(13, n)</td>\n      <td>0.380162</td>\n    </tr>\n    <tr>\n      <td>(14, o)</td>\n      <td>0.223995</td>\n    </tr>\n    <tr>\n      <td>(15, p)</td>\n      <td>0.521482</td>\n    </tr>\n    <tr>\n      <td>(16, r)</td>\n      <td>0.339570</td>\n    </tr>\n    <tr>\n      <td>(17, s)</td>\n      <td>0.264997</td>\n    </tr>\n    <tr>\n      <td>(18, t)</td>\n      <td>0.324423</td>\n    </tr>\n    <tr>\n      <td>(19, u)</td>\n      <td>0.178327</td>\n    </tr>\n    <tr>\n      <td>(20, v)</td>\n      <td>1.000000</td>\n    </tr>\n    <tr>\n      <td>(21, w)</td>\n      <td>0.345588</td>\n    </tr>\n    <tr>\n      <td>(22, y)</td>\n      <td>0.282687</td>\n    </tr>\n    <tr>\n      <td>(23, z)</td>\n      <td>0.271198</td>\n    </tr>\n  </tbody>\n</table>\n</div>"
     },
     "metadata": {},
     "output_type": "execute_result",
     "execution_count": 22
    }
   ],
   "source": [
    "twopa"
   ],
   "metadata": {
    "collapsed": false,
    "pycharm": {
     "name": "#%%\n",
     "is_executing": false
    }
   }
  },
  {
   "cell_type": "markdown",
   "source": [
    "### 3-грами"
   ],
   "metadata": {
    "collapsed": false,
    "pycharm": {
     "name": "#%% md\n"
    }
   }
  },
  {
   "cell_type": "code",
   "execution_count": 23,
   "outputs": [
    {
     "data": {
      "text/plain": "                  a         b         c         d         e    f         g  \\\n(0, aa)    0.000000  0.000000  0.000000  0.000000  0.000000  0.0  0.000000   \n(1, ab)    0.000000  0.000000  0.000000  0.000000  0.000000  0.0  0.000000   \n(2, ac)    0.043011  0.000000  0.000000  0.000000  0.064516  0.0  0.000000   \n(3, ad)    0.230769  0.000000  0.000000  0.000000  0.076923  0.0  0.000000   \n(4, af)    0.000000  0.000000  0.000000  0.000000  0.000000  0.0  0.000000   \n...             ...       ...       ...       ...       ...  ...       ...   \n(322, zs)  0.000000  0.000000  0.000000  0.000000  0.000000  0.0  0.000000   \n(323, zt)  0.666667  0.000000  0.000000  0.000000  0.000000  0.0  0.000000   \n(324, zu)  0.000000  0.000000  0.300000  0.000000  0.000000  0.0  0.000000   \n(325, zw)  0.100000  0.000000  0.000000  0.000000  0.000000  0.0  0.000000   \n(326, zy)  0.000000  0.064103  0.217949  0.051282  0.000000  0.0  0.012821   \n\n                  h         i         j  ...         o         p         r  \\\n(0, aa)    0.000000  0.000000  0.000000  ...  0.000000  0.000000  0.000000   \n(1, ab)    0.000000  0.285714  0.000000  ...  0.142857  0.000000  0.000000   \n(2, ac)    0.172043  0.021505  0.193548  ...  0.075269  0.000000  0.000000   \n(3, ad)    0.000000  0.000000  0.000000  ...  0.269231  0.000000  0.038462   \n(4, af)    0.000000  0.000000  0.000000  ...  1.000000  0.000000  0.000000   \n...             ...       ...       ...  ...       ...       ...       ...   \n(322, zs)  0.000000  0.000000  0.000000  ...  0.000000  0.000000  0.666667   \n(323, zt)  0.000000  0.000000  0.000000  ...  0.000000  0.000000  0.000000   \n(324, zu)  0.000000  0.000000  0.100000  ...  0.000000  0.000000  0.100000   \n(325, zw)  0.000000  0.700000  0.000000  ...  0.200000  0.000000  0.000000   \n(326, zy)  0.000000  0.000000  0.038462  ...  0.000000  0.038462  0.000000   \n\n                  s         t         u    v         w         y         z  \n(0, aa)    0.000000  0.000000  0.000000  0.0  0.000000  0.000000  0.000000  \n(1, ab)    0.000000  0.000000  0.142857  0.0  0.000000  0.000000  0.000000  \n(2, ac)    0.000000  0.010753  0.010753  0.0  0.000000  0.236559  0.161290  \n(3, ad)    0.000000  0.000000  0.000000  0.0  0.038462  0.076923  0.153846  \n(4, af)    0.000000  0.000000  0.000000  0.0  0.000000  0.000000  0.000000  \n...             ...       ...       ...  ...       ...       ...       ...  \n(322, zs)  0.000000  0.000000  0.000000  0.0  0.000000  0.000000  0.333333  \n(323, zt)  0.000000  0.000000  0.000000  0.0  0.333333  0.000000  0.000000  \n(324, zu)  0.000000  0.000000  0.000000  0.0  0.000000  0.000000  0.000000  \n(325, zw)  0.000000  0.000000  0.000000  0.0  0.000000  0.000000  0.000000  \n(326, zy)  0.166667  0.025641  0.000000  0.0  0.064103  0.000000  0.025641  \n\n[327 rows x 24 columns]",
      "text/html": "<div>\n<style scoped>\n    .dataframe tbody tr th:only-of-type {\n        vertical-align: middle;\n    }\n\n    .dataframe tbody tr th {\n        vertical-align: top;\n    }\n\n    .dataframe thead th {\n        text-align: right;\n    }\n</style>\n<table border=\"1\" class=\"dataframe\">\n  <thead>\n    <tr style=\"text-align: right;\">\n      <th></th>\n      <th>a</th>\n      <th>b</th>\n      <th>c</th>\n      <th>d</th>\n      <th>e</th>\n      <th>f</th>\n      <th>g</th>\n      <th>h</th>\n      <th>i</th>\n      <th>j</th>\n      <th>...</th>\n      <th>o</th>\n      <th>p</th>\n      <th>r</th>\n      <th>s</th>\n      <th>t</th>\n      <th>u</th>\n      <th>v</th>\n      <th>w</th>\n      <th>y</th>\n      <th>z</th>\n    </tr>\n  </thead>\n  <tbody>\n    <tr>\n      <td>(0, aa)</td>\n      <td>0.000000</td>\n      <td>0.000000</td>\n      <td>0.000000</td>\n      <td>0.000000</td>\n      <td>0.000000</td>\n      <td>0.0</td>\n      <td>0.000000</td>\n      <td>0.000000</td>\n      <td>0.000000</td>\n      <td>0.000000</td>\n      <td>...</td>\n      <td>0.000000</td>\n      <td>0.000000</td>\n      <td>0.000000</td>\n      <td>0.000000</td>\n      <td>0.000000</td>\n      <td>0.000000</td>\n      <td>0.0</td>\n      <td>0.000000</td>\n      <td>0.000000</td>\n      <td>0.000000</td>\n    </tr>\n    <tr>\n      <td>(1, ab)</td>\n      <td>0.000000</td>\n      <td>0.000000</td>\n      <td>0.000000</td>\n      <td>0.000000</td>\n      <td>0.000000</td>\n      <td>0.0</td>\n      <td>0.000000</td>\n      <td>0.000000</td>\n      <td>0.285714</td>\n      <td>0.000000</td>\n      <td>...</td>\n      <td>0.142857</td>\n      <td>0.000000</td>\n      <td>0.000000</td>\n      <td>0.000000</td>\n      <td>0.000000</td>\n      <td>0.142857</td>\n      <td>0.0</td>\n      <td>0.000000</td>\n      <td>0.000000</td>\n      <td>0.000000</td>\n    </tr>\n    <tr>\n      <td>(2, ac)</td>\n      <td>0.043011</td>\n      <td>0.000000</td>\n      <td>0.000000</td>\n      <td>0.000000</td>\n      <td>0.064516</td>\n      <td>0.0</td>\n      <td>0.000000</td>\n      <td>0.172043</td>\n      <td>0.021505</td>\n      <td>0.193548</td>\n      <td>...</td>\n      <td>0.075269</td>\n      <td>0.000000</td>\n      <td>0.000000</td>\n      <td>0.000000</td>\n      <td>0.010753</td>\n      <td>0.010753</td>\n      <td>0.0</td>\n      <td>0.000000</td>\n      <td>0.236559</td>\n      <td>0.161290</td>\n    </tr>\n    <tr>\n      <td>(3, ad)</td>\n      <td>0.230769</td>\n      <td>0.000000</td>\n      <td>0.000000</td>\n      <td>0.000000</td>\n      <td>0.076923</td>\n      <td>0.0</td>\n      <td>0.000000</td>\n      <td>0.000000</td>\n      <td>0.000000</td>\n      <td>0.000000</td>\n      <td>...</td>\n      <td>0.269231</td>\n      <td>0.000000</td>\n      <td>0.038462</td>\n      <td>0.000000</td>\n      <td>0.000000</td>\n      <td>0.000000</td>\n      <td>0.0</td>\n      <td>0.038462</td>\n      <td>0.076923</td>\n      <td>0.153846</td>\n    </tr>\n    <tr>\n      <td>(4, af)</td>\n      <td>0.000000</td>\n      <td>0.000000</td>\n      <td>0.000000</td>\n      <td>0.000000</td>\n      <td>0.000000</td>\n      <td>0.0</td>\n      <td>0.000000</td>\n      <td>0.000000</td>\n      <td>0.000000</td>\n      <td>0.000000</td>\n      <td>...</td>\n      <td>1.000000</td>\n      <td>0.000000</td>\n      <td>0.000000</td>\n      <td>0.000000</td>\n      <td>0.000000</td>\n      <td>0.000000</td>\n      <td>0.0</td>\n      <td>0.000000</td>\n      <td>0.000000</td>\n      <td>0.000000</td>\n    </tr>\n    <tr>\n      <td>...</td>\n      <td>...</td>\n      <td>...</td>\n      <td>...</td>\n      <td>...</td>\n      <td>...</td>\n      <td>...</td>\n      <td>...</td>\n      <td>...</td>\n      <td>...</td>\n      <td>...</td>\n      <td>...</td>\n      <td>...</td>\n      <td>...</td>\n      <td>...</td>\n      <td>...</td>\n      <td>...</td>\n      <td>...</td>\n      <td>...</td>\n      <td>...</td>\n      <td>...</td>\n      <td>...</td>\n    </tr>\n    <tr>\n      <td>(322, zs)</td>\n      <td>0.000000</td>\n      <td>0.000000</td>\n      <td>0.000000</td>\n      <td>0.000000</td>\n      <td>0.000000</td>\n      <td>0.0</td>\n      <td>0.000000</td>\n      <td>0.000000</td>\n      <td>0.000000</td>\n      <td>0.000000</td>\n      <td>...</td>\n      <td>0.000000</td>\n      <td>0.000000</td>\n      <td>0.666667</td>\n      <td>0.000000</td>\n      <td>0.000000</td>\n      <td>0.000000</td>\n      <td>0.0</td>\n      <td>0.000000</td>\n      <td>0.000000</td>\n      <td>0.333333</td>\n    </tr>\n    <tr>\n      <td>(323, zt)</td>\n      <td>0.666667</td>\n      <td>0.000000</td>\n      <td>0.000000</td>\n      <td>0.000000</td>\n      <td>0.000000</td>\n      <td>0.0</td>\n      <td>0.000000</td>\n      <td>0.000000</td>\n      <td>0.000000</td>\n      <td>0.000000</td>\n      <td>...</td>\n      <td>0.000000</td>\n      <td>0.000000</td>\n      <td>0.000000</td>\n      <td>0.000000</td>\n      <td>0.000000</td>\n      <td>0.000000</td>\n      <td>0.0</td>\n      <td>0.333333</td>\n      <td>0.000000</td>\n      <td>0.000000</td>\n    </tr>\n    <tr>\n      <td>(324, zu)</td>\n      <td>0.000000</td>\n      <td>0.000000</td>\n      <td>0.300000</td>\n      <td>0.000000</td>\n      <td>0.000000</td>\n      <td>0.0</td>\n      <td>0.000000</td>\n      <td>0.000000</td>\n      <td>0.000000</td>\n      <td>0.100000</td>\n      <td>...</td>\n      <td>0.000000</td>\n      <td>0.000000</td>\n      <td>0.100000</td>\n      <td>0.000000</td>\n      <td>0.000000</td>\n      <td>0.000000</td>\n      <td>0.0</td>\n      <td>0.000000</td>\n      <td>0.000000</td>\n      <td>0.000000</td>\n    </tr>\n    <tr>\n      <td>(325, zw)</td>\n      <td>0.100000</td>\n      <td>0.000000</td>\n      <td>0.000000</td>\n      <td>0.000000</td>\n      <td>0.000000</td>\n      <td>0.0</td>\n      <td>0.000000</td>\n      <td>0.000000</td>\n      <td>0.700000</td>\n      <td>0.000000</td>\n      <td>...</td>\n      <td>0.200000</td>\n      <td>0.000000</td>\n      <td>0.000000</td>\n      <td>0.000000</td>\n      <td>0.000000</td>\n      <td>0.000000</td>\n      <td>0.0</td>\n      <td>0.000000</td>\n      <td>0.000000</td>\n      <td>0.000000</td>\n    </tr>\n    <tr>\n      <td>(326, zy)</td>\n      <td>0.000000</td>\n      <td>0.064103</td>\n      <td>0.217949</td>\n      <td>0.051282</td>\n      <td>0.000000</td>\n      <td>0.0</td>\n      <td>0.012821</td>\n      <td>0.000000</td>\n      <td>0.000000</td>\n      <td>0.038462</td>\n      <td>...</td>\n      <td>0.000000</td>\n      <td>0.038462</td>\n      <td>0.000000</td>\n      <td>0.166667</td>\n      <td>0.025641</td>\n      <td>0.000000</td>\n      <td>0.0</td>\n      <td>0.064103</td>\n      <td>0.000000</td>\n      <td>0.025641</td>\n    </tr>\n  </tbody>\n</table>\n<p>327 rows × 24 columns</p>\n</div>"
     },
     "metadata": {},
     "output_type": "execute_result",
     "execution_count": 23
    }
   ],
   "source": [
    "three_matrix, tripa = matrix(trigrams)\n",
    "three_matrix"
   ],
   "metadata": {
    "collapsed": false,
    "pycharm": {
     "name": "#%%\n",
     "is_executing": false
    }
   }
  },
  {
   "cell_type": "code",
   "execution_count": 24,
   "outputs": [
    {
     "data": {
      "text/plain": "           prog. ability\n(0, aa)         1.000000\n(1, ab)         0.512335\n(2, ac)         0.373335\n(3, ad)         0.410319\n(4, af)         1.000000\n...                  ...\n(322, zs)       0.799716\n(323, zt)       0.799716\n(324, zu)       0.526506\n(325, zw)       0.747701\n(326, zy)       0.267712\n\n[327 rows x 1 columns]",
      "text/html": "<div>\n<style scoped>\n    .dataframe tbody tr th:only-of-type {\n        vertical-align: middle;\n    }\n\n    .dataframe tbody tr th {\n        vertical-align: top;\n    }\n\n    .dataframe thead th {\n        text-align: right;\n    }\n</style>\n<table border=\"1\" class=\"dataframe\">\n  <thead>\n    <tr style=\"text-align: right;\">\n      <th></th>\n      <th>prog. ability</th>\n    </tr>\n  </thead>\n  <tbody>\n    <tr>\n      <td>(0, aa)</td>\n      <td>1.000000</td>\n    </tr>\n    <tr>\n      <td>(1, ab)</td>\n      <td>0.512335</td>\n    </tr>\n    <tr>\n      <td>(2, ac)</td>\n      <td>0.373335</td>\n    </tr>\n    <tr>\n      <td>(3, ad)</td>\n      <td>0.410319</td>\n    </tr>\n    <tr>\n      <td>(4, af)</td>\n      <td>1.000000</td>\n    </tr>\n    <tr>\n      <td>...</td>\n      <td>...</td>\n    </tr>\n    <tr>\n      <td>(322, zs)</td>\n      <td>0.799716</td>\n    </tr>\n    <tr>\n      <td>(323, zt)</td>\n      <td>0.799716</td>\n    </tr>\n    <tr>\n      <td>(324, zu)</td>\n      <td>0.526506</td>\n    </tr>\n    <tr>\n      <td>(325, zw)</td>\n      <td>0.747701</td>\n    </tr>\n    <tr>\n      <td>(326, zy)</td>\n      <td>0.267712</td>\n    </tr>\n  </tbody>\n</table>\n<p>327 rows × 1 columns</p>\n</div>"
     },
     "metadata": {},
     "output_type": "execute_result",
     "execution_count": 24
    }
   ],
   "source": [
    "tripa"
   ],
   "metadata": {
    "collapsed": false,
    "pycharm": {
     "name": "#%%\n",
     "is_executing": false
    }
   }
  }
 ],
 "metadata": {
  "kernelspec": {
   "display_name": "Python 3",
   "language": "python",
   "name": "python3"
  },
  "language_info": {
   "codemirror_mode": {
    "name": "ipython",
    "version": 2
   },
   "file_extension": ".py",
   "mimetype": "text/x-python",
   "name": "python",
   "nbconvert_exporter": "python",
   "pygments_lexer": "ipython2",
   "version": "2.7.6"
  },
  "pycharm": {
   "stem_cell": {
    "cell_type": "raw",
    "source": [],
    "metadata": {
     "collapsed": false
    }
   }
  }
 },
 "nbformat": 4,
 "nbformat_minor": 0
}