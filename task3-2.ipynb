{
 "cells": [
  {
   "cell_type": "markdown",
   "metadata": {
    "collapsed": true,
    "pycharm": {
     "is_executing": false,
     "name": "#%% md\n"
    }
   },
   "source": [
    "# Статистичні методи\n",
    "Індивідуальне завдання 3(B)\n",
    "\n",
    "Токарєв Павло, МФ-51"
   ]
  },
  {
   "cell_type": "markdown",
   "source": [
    "## Вхідні дані"
   ],
   "metadata": {
    "collapsed": false
   }
  },
  {
   "cell_type": "code",
   "execution_count": 27,
   "outputs": [],
   "source": [
    "N = 4\n",
    "M = 8\n",
    "\n",
    "import numpy as np\n",
    "A = np.array([0.3432, 0.4382, 0.1013, 0.1174,\n",
    "              0.0522, 0.4995, 0.4016, 0.0467,\n",
    "              0.2966, 0.0331, 0.4173, 0.2531,\n",
    "              0.2616, 0.1974, 0.3512, 0.1897,])\\\n",
    "    .reshape(N,N)\n",
    "\n",
    "B = np.array([0.1220, 0.0626, 0.1789, 0.0155, 0.1142, 0.2100, 0.2205, 0.0763,\n",
    "              0.1574, 0.0489, 0.1684, 0.1164, 0.1187, 0.0816, 0.1648, 0.1439,\n",
    "              0.1569, 0.0714, 0.1722, 0.1665, 0.0386, 0.1947, 0.0171, 0.1825,\n",
    "              0.1900, 0.1871, 0.2042, 0.0159, 0.1904, 0.0869, 0.0201, 0.1053,\n",
    "])\\\n",
    "    .reshape(N,M)\n",
    "\n",
    "P = [0.2741, 0.3051, 0.2858, 0.1350]\n",
    "O = np.array([6, 5, 5, 7, 6, 8, 2, 7, 6, 4, 1, 8, 7, 1, 8, 3, 7, 2, 2, 4, 3, 7, 1, 8, 8, 3, 5, 1, 4, 5])"
   ],
   "metadata": {
    "collapsed": false,
    "pycharm": {
     "name": "#%%\n",
     "is_executing": false
    }
   }
  },
  {
   "cell_type": "code",
   "execution_count": 28,
   "outputs": [
    {
     "data": {
      "text/plain": "array([[0.3432, 0.4382, 0.1013, 0.1174],\n       [0.0522, 0.4995, 0.4016, 0.0467],\n       [0.2966, 0.0331, 0.4173, 0.2531],\n       [0.2616, 0.1974, 0.3512, 0.1897]])"
     },
     "metadata": {},
     "output_type": "execute_result",
     "execution_count": 28
    }
   ],
   "source": [
    "A"
   ],
   "metadata": {
    "collapsed": false,
    "pycharm": {
     "name": "#%%\n",
     "is_executing": false
    }
   }
  },
  {
   "cell_type": "code",
   "execution_count": 29,
   "outputs": [
    {
     "data": {
      "text/plain": "array([[0.122 , 0.0626, 0.1789, 0.0155, 0.1142, 0.21  , 0.2205, 0.0763],\n       [0.1574, 0.0489, 0.1684, 0.1164, 0.1187, 0.0816, 0.1648, 0.1439],\n       [0.1569, 0.0714, 0.1722, 0.1665, 0.0386, 0.1947, 0.0171, 0.1825],\n       [0.19  , 0.1871, 0.2042, 0.0159, 0.1904, 0.0869, 0.0201, 0.1053]])"
     },
     "metadata": {},
     "output_type": "execute_result",
     "execution_count": 29
    }
   ],
   "source": [
    "B"
   ],
   "metadata": {
    "collapsed": false,
    "pycharm": {
     "name": "#%%\n",
     "is_executing": false
    }
   }
  },
  {
   "cell_type": "code",
   "execution_count": 30,
   "outputs": [
    {
     "data": {
      "text/plain": "[0.2741, 0.3051, 0.2858, 0.135]"
     },
     "metadata": {},
     "output_type": "execute_result",
     "execution_count": 30
    }
   ],
   "source": [
    "P"
   ],
   "metadata": {
    "collapsed": false,
    "pycharm": {
     "name": "#%%\n",
     "is_executing": false
    }
   }
  },
  {
   "cell_type": "code",
   "execution_count": 31,
   "outputs": [
    {
     "data": {
      "text/plain": "array([6, 5, 5, 7, 6, 8, 2, 7, 6, 4, 1, 8, 7, 1, 8, 3, 7, 2, 2, 4, 3, 7,\n       1, 8, 8, 3, 5, 1, 4, 5])"
     },
     "metadata": {},
     "output_type": "execute_result",
     "execution_count": 31
    }
   ],
   "source": [
    "O"
   ],
   "metadata": {
    "collapsed": false,
    "pycharm": {
     "name": "#%%\n",
     "is_executing": false
    }
   }
  },
  {
   "cell_type": "code",
   "execution_count": 32,
   "outputs": [
    {
     "data": {
      "text/plain": "[0.057561, 0.02489616, 0.05564526, 0.0117315]"
     },
     "metadata": {},
     "output_type": "execute_result",
     "execution_count": 32
    }
   ],
   "source": [
    "D0 = [P[i]*B[i, O[0]-1] for i in range(N)]\n",
    "D0"
   ],
   "metadata": {
    "collapsed": false,
    "pycharm": {
     "name": "#%%\n",
     "is_executing": false
    }
   }
  },
  {
   "cell_type": "code",
   "execution_count": 33,
   "outputs": [
    {
     "data": {
      "text/plain": "[0, 0, 0, 0]"
     },
     "metadata": {},
     "output_type": "execute_result",
     "execution_count": 33
    }
   ],
   "source": [
    "PSI0 = [0 for _ in range(N)]\n",
    "PSI0"
   ],
   "metadata": {
    "collapsed": false,
    "pycharm": {
     "name": "#%%\n",
     "is_executing": false
    }
   }
  },
  {
   "cell_type": "markdown",
   "source": [
    "## Обчислення дельта та псі"
   ],
   "metadata": {
    "collapsed": false,
    "pycharm": {
     "name": "#%% md\n"
    }
   }
  },
  {
   "cell_type": "code",
   "execution_count": 34,
   "outputs": [],
   "source": [
    "from typing import List\n",
    "\n",
    "def next_delta(delta: List[float], t: int) -> List[float]:\n",
    "    return [max([delta[i]*A[i,j] for i in range(N)])*B[j, O[t]-1] for j in range(N)]\n",
    "\n",
    "def next_psi(delta: List[float], t: int) -> List[float]:\n",
    "    return [np.array([delta[i]*A[i,j] for i in range(N)]).argmax() for j in range(N)]\n",
    "\n",
    "D = D0\n",
    "PSI = PSI0\n",
    "APSI = [PSI0]\n",
    "for i in range(len(O)-1):\n",
    "    PSI = next_psi(D, i+1)\n",
    "    APSI.append(PSI)\n",
    "    D = next_delta(D, i+1)"
   ],
   "metadata": {
    "collapsed": false,
    "pycharm": {
     "name": "#%%\n",
     "is_executing": false
    }
   }
  },
  {
   "cell_type": "markdown",
   "source": [
    "## Результати\n",
    "### Вірогідність $P^*$"
   ],
   "metadata": {
    "collapsed": false,
    "pycharm": {
     "name": "#%% md\n"
    }
   }
  },
  {
   "cell_type": "code",
   "execution_count": 35,
   "outputs": [
    {
     "data": {
      "text/plain": "2.8587598025631146e-36"
     },
     "metadata": {},
     "output_type": "execute_result",
     "execution_count": 35
    }
   ],
   "source": [
    "p = max(D)\n",
    "p"
   ],
   "metadata": {
    "collapsed": false,
    "pycharm": {
     "name": "#%%\n",
     "is_executing": false
    }
   }
  },
  {
   "cell_type": "markdown",
   "source": [
    "### Останній елемент $q^*_T$"
   ],
   "metadata": {
    "collapsed": false,
    "pycharm": {
     "name": "#%% md\n",
     "is_executing": false
    }
   }
  },
  {
   "cell_type": "code",
   "execution_count": 36,
   "outputs": [
    {
     "data": {
      "text/plain": "4"
     },
     "metadata": {},
     "output_type": "execute_result",
     "execution_count": 36
    }
   ],
   "source": [
    "q = len(PSI) - np.array(PSI[::-1]).argmax()\n",
    "q"
   ],
   "metadata": {
    "collapsed": false,
    "pycharm": {
     "name": "#%%\n",
     "is_executing": false
    }
   }
  },
  {
   "cell_type": "markdown",
   "source": [
    "### Стани послідовності ($Q$)"
   ],
   "metadata": {
    "collapsed": false,
    "pycharm": {
     "name": "#%% md\n"
    }
   }
  },
  {
   "cell_type": "code",
   "execution_count": 37,
   "outputs": [
    {
     "data": {
      "text/plain": "[1,\n 2,\n 2,\n 2,\n 3,\n 3,\n 4,\n 1,\n 1,\n 2,\n 2,\n 2,\n 2,\n 2,\n 2,\n 2,\n 2,\n 3,\n 4,\n 3,\n 3,\n 1,\n 2,\n 2,\n 2,\n 2,\n 2,\n 2,\n 3,\n 4]"
     },
     "metadata": {},
     "output_type": "execute_result",
     "execution_count": 37
    }
   ],
   "source": [
    "Q = [q]\n",
    "for i in range(len(O)-1, 0, -1):\n",
    "    q = APSI[i][q-1]+1\n",
    "    Q.append(q)\n",
    "Q = Q[::-1]\n",
    "Q"
   ],
   "metadata": {
    "collapsed": false,
    "pycharm": {
     "name": "#%%\n",
     "is_executing": false
    }
   }
  },
  {
   "cell_type": "markdown",
   "source": [
    "### Вірогідність послідовності ($\\overline{P^*}$)"
   ],
   "metadata": {
    "collapsed": false,
    "pycharm": {
     "name": "#%% md\n"
    }
   }
  },
  {
   "cell_type": "code",
   "execution_count": 38,
   "outputs": [
    {
     "data": {
      "text/plain": "2.672206484798075e-36"
     },
     "metadata": {},
     "output_type": "execute_result",
     "execution_count": 38
    }
   ],
   "source": [
    "def probability(trace: List[int]) -> float:\n",
    "    t = trace[0]-1\n",
    "    result = P[t]*B[t, O[0]-1]\n",
    "    for i in range(len(trace)-1):\n",
    "        qi = trace[i]-1\n",
    "        qip = trace[i+1]-1\n",
    "        result *= A[qi, qip] *B[qip, O[i+1]-1]\n",
    "    return result\n",
    "\n",
    "probability(Q)"
   ],
   "metadata": {
    "collapsed": false,
    "pycharm": {
     "name": "#%%\n",
     "is_executing": false
    }
   }
  }
 ],
 "metadata": {
  "kernelspec": {
   "display_name": "Python 3",
   "language": "python",
   "name": "python3"
  },
  "language_info": {
   "codemirror_mode": {
    "name": "ipython",
    "version": 2
   },
   "file_extension": ".py",
   "mimetype": "text/x-python",
   "name": "python",
   "nbconvert_exporter": "python",
   "pygments_lexer": "ipython2",
   "version": "2.7.6"
  },
  "pycharm": {
   "stem_cell": {
    "cell_type": "raw",
    "source": [],
    "metadata": {
     "collapsed": false
    }
   }
  }
 },
 "nbformat": 4,
 "nbformat_minor": 0
}