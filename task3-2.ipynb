{
 "cells": [
  {
   "cell_type": "markdown",
   "metadata": {
    "collapsed": true,
    "pycharm": {
     "is_executing": false,
     "name": "#%% md\n"
    }
   },
   "source": [
    "# Статистичні методи\n",
    "Індивідуальне завдання 3(B)\n",
    "\n",
    "Токарєв Павло, МФ-51"
   ]
  },
  {
   "cell_type": "markdown",
   "source": [
    "## Вхідні дані"
   ],
   "metadata": {
    "collapsed": false
   }
  },
  {
   "cell_type": "code",
   "execution_count": 25,
   "outputs": [],
   "source": [
    "N = 4\n",
    "M = 8\n",
    "\n",
    "import numpy as np\n",
    "A = np.array([0.3432, 0.4382, 0.1013, 0.1174,\n",
    "              0.0522, 0.4995, 0.4016, 0.0467,\n",
    "              0.2966, 0.0331, 0.4173, 0.2531,\n",
    "              0.2616, 0.1974, 0.3512, 0.1897,])\\\n",
    "    .reshape(N,N)\n",
    "\n",
    "B = np.array([0.1220, 0.0626, 0.1789, 0.0155, 0.1142, 0.2100, 0.2205, 0.0763,\n",
    "              0.1574, 0.0489, 0.1684, 0.1164, 0.1187, 0.0816, 0.1648, 0.1439,\n",
    "              0.1569, 0.0714, 0.1722, 0.1665, 0.0386, 0.1947, 0.0171, 0.1825,\n",
    "              0.1900, 0.1871, 0.2042, 0.0159, 0.1904, 0.0869, 0.0201, 0.1053,\n",
    "])\\\n",
    "    .reshape(N,M)\n",
    "\n",
    "P = [0.2741, 0.3051, 0.2858, 0.1350]\n",
    "O = np.array([6, 5, 5, 7, 6, 8, 2, 7, 6, 4, 1, 8, 7, 1, 8, 3, 7, 2, 2, 4, 3, 7, 1, 8, 8, 3, 5, 1, 4, 5])"
   ],
   "metadata": {
    "collapsed": false,
    "pycharm": {
     "name": "#%%\n",
     "is_executing": false
    }
   }
  },
  {
   "cell_type": "code",
   "execution_count": 26,
   "outputs": [
    {
     "data": {
      "text/plain": "array([[0.3432, 0.4382, 0.1013, 0.1174],\n       [0.0522, 0.4995, 0.4016, 0.0467],\n       [0.2966, 0.0331, 0.4173, 0.2531],\n       [0.2616, 0.1974, 0.3512, 0.1897]])"
     },
     "metadata": {},
     "output_type": "execute_result",
     "execution_count": 26
    }
   ],
   "source": [
    "A"
   ],
   "metadata": {
    "collapsed": false,
    "pycharm": {
     "name": "#%%\n",
     "is_executing": false
    }
   }
  },
  {
   "cell_type": "code",
   "execution_count": 27,
   "outputs": [
    {
     "data": {
      "text/plain": "array([[0.122 , 0.0626, 0.1789, 0.0155, 0.1142, 0.21  , 0.2205, 0.0763],\n       [0.1574, 0.0489, 0.1684, 0.1164, 0.1187, 0.0816, 0.1648, 0.1439],\n       [0.1569, 0.0714, 0.1722, 0.1665, 0.0386, 0.1947, 0.0171, 0.1825],\n       [0.19  , 0.1871, 0.2042, 0.0159, 0.1904, 0.0869, 0.0201, 0.1053]])"
     },
     "metadata": {},
     "output_type": "execute_result",
     "execution_count": 27
    }
   ],
   "source": [
    "B"
   ],
   "metadata": {
    "collapsed": false,
    "pycharm": {
     "name": "#%%\n",
     "is_executing": false
    }
   }
  },
  {
   "cell_type": "code",
   "execution_count": 28,
   "outputs": [
    {
     "data": {
      "text/plain": "[0.2741, 0.3051, 0.2858, 0.135]"
     },
     "metadata": {},
     "output_type": "execute_result",
     "execution_count": 28
    }
   ],
   "source": [
    "P"
   ],
   "metadata": {
    "collapsed": false,
    "pycharm": {
     "name": "#%%\n",
     "is_executing": false
    }
   }
  },
  {
   "cell_type": "code",
   "execution_count": 29,
   "outputs": [
    {
     "data": {
      "text/plain": "array([6, 5, 5, 7, 6, 8, 2, 7, 6, 4, 1, 8, 7, 1, 8, 3, 7, 2, 2, 4, 3, 7,\n       1, 8, 8, 3, 5, 1, 4, 5])"
     },
     "metadata": {},
     "output_type": "execute_result",
     "execution_count": 29
    }
   ],
   "source": [
    "O"
   ],
   "metadata": {
    "collapsed": false,
    "pycharm": {
     "name": "#%%\n",
     "is_executing": false
    }
   }
  },
  {
   "cell_type": "code",
   "execution_count": 30,
   "outputs": [
    {
     "data": {
      "text/plain": "[0.057561, 0.02489616, 0.05564526, 0.0117315]"
     },
     "metadata": {},
     "output_type": "execute_result",
     "execution_count": 30
    }
   ],
   "source": [
    "D0 = [P[i]*B[i, O[0]-1] for i in range(N)]\n",
    "D0"
   ],
   "metadata": {
    "collapsed": false,
    "pycharm": {
     "name": "#%%\n",
     "is_executing": false
    }
   }
  },
  {
   "cell_type": "code",
   "execution_count": 31,
   "outputs": [
    {
     "data": {
      "text/plain": "[0, 0, 0, 0]"
     },
     "metadata": {},
     "output_type": "execute_result",
     "execution_count": 31
    }
   ],
   "source": [
    "PSI0 = [0 for _ in range(N)]\n",
    "PSI0"
   ],
   "metadata": {
    "collapsed": false,
    "pycharm": {
     "name": "#%%\n",
     "is_executing": false
    }
   }
  },
  {
   "cell_type": "markdown",
   "source": [
    "## Обчислення дельта та псі"
   ],
   "metadata": {
    "collapsed": false,
    "pycharm": {
     "name": "#%% md\n"
    }
   }
  },
  {
   "cell_type": "code",
   "execution_count": 32,
   "outputs": [
    {
     "name": "stdout",
     "text": [
      "[0.057561, 0.02489616, 0.05564526, 0.0117315]\n[0.00225601359984, 0.0029939974247399997, 0.0008963216061228001, 0.0026815584342624]\n[8.842093366451305e-05, 0.00017751605341116065, 4.641222951893754e-05, 9.685488730011152e-05]\n[6.691307207622224e-06, 1.461269547827856e-05, 1.2190666445536684e-06, 3.6930477962870626e-07]\n[4.822558930677489e-07, 5.956017775382515e-07, 1.1425888707437275e-06, 6.826511761059439e-08]\n[2.5857448846475585e-08, 4.281069434598332e-08, 8.701642627644774e-08, 3.0451627307405505e-08]\n[1.6156479093030094e-09, 1.0456747552825328e-09, 2.5926735645205413e-09, 4.120663736485445e-09]\n[2.3769142217894263e-10, 1.3405145475675098e-10, 2.474672848273807e-11, 1.5711967207306908e-11]\n[1.713089617928075e-11, 8.499160705823114e-12, 1.0481687005641592e-11, 2.4249421505549037e-12]\n[9.112951531530189e-14, 8.737867133505601e-13, 7.282723299111303e-13, 4.21813481999334e-14]\n[2.635267991230023e-14, 6.869824732634839e-14, 5.5058209546400677e-14, 3.5021888073096343e-14]\n[1.2459992157965843e-15, 4.937896056235636e-15, 5.035031943042726e-15, 1.4673800176512294e-15]\n[3.2929259958457717e-16, 4.064757523987826e-16, 3.592913199012258e-17, 2.5614768354160688e-17]\n[1.378761286164608e-17, 3.1957652072070406e-17, 2.561245989342979e-17, 7.345200726333579e-18]\n[5.796248226150543e-19, 2.2970537135188803e-18, 2.342240235666184e-18, 6.826086819775515e-19]\n[1.2428334240245778e-19, 1.9321851075561142e-19, 1.6831118162915046e-19, 1.210540489447401e-19]\n[1.1007601771900927e-20, 1.590528408097612e-20, 1.326901072022656e-21, 8.562511574137935e-22]\n[2.3649083890008653e-22, 3.884953115840863e-22, 4.560719330060887e-22, 2.417879170247607e-22]\n[8.46796055163333e-24, 9.489211657862679e-24, 1.3588763579741675e-23, 2.1597290948222662e-23]\n[8.757269533685324e-26, 5.517198463691203e-25, 1.2628972687391306e-24, 6.514239687675765e-26]\n[6.701152652054587e-26, 4.640835625321564e-26, 9.075061060816131e-26, 6.527034479818986e-26]\n[5.935117158956932e-27, 4.8392615118307675e-27, 6.475809296960358e-28, 4.616764888530052e-28]\n[2.4850572949239035e-28, 4.093609365672456e-28, 3.0492690069242904e-28, 1.3238872334769333e-28]\n[6.900672620272071e-30, 2.942406586662731e-29, 3.000288176288657e-29, 8.126737948921224e-30]\n[6.789826159655456e-31, 2.114944477564731e-30, 2.284936967136593e-30, 7.99619703101848e-31]\n[1.2124273126659043e-31, 1.779002466859394e-31, 1.6419342261768646e-31, 1.1809244297125986e-31]\n[5.5615136367479415e-33, 1.0547821261169692e-32, 2.7577669280662283e-33, 7.912520442367738e-33]\n[2.5252967242225483e-34, 8.292834197208008e-34, 6.6462918740041395e-34, 2.851909743042604e-34]\n[3.055499763235923e-36, 4.821603073272286e-35, 5.545119685641896e-35, 2.6746605925636118e-36]\n[1.8782274135855033e-36, 2.8587598025631146e-36, 8.931956796998882e-37, 2.6722064847980756e-36]\n"
     ],
     "output_type": "stream"
    }
   ],
   "source": [
    "from typing import List\n",
    "\n",
    "def next_delta(delta: List[float], t: int) -> List[float]:\n",
    "    return [max([delta[i]*A[i,j] for i in range(N)])*B[j, O[t]-1] for j in range(N)]\n",
    "\n",
    "def next_psi(delta: List[float], t: int) -> List[float]:\n",
    "    return [np.array([delta[i]*A[i,j] for i in range(N)]).argmax() for j in range(N)]\n",
    "\n",
    "D = D0\n",
    "PSI = PSI0\n",
    "APSI = [PSI0]\n",
    "for i in range(len(O)-1):\n",
    "    PSI = next_psi(D, i+1)\n",
    "    APSI.append(PSI)\n",
    "    print(D)\n",
    "    D = next_delta(D, i+1)\n",
    "print(D)"
   ],
   "metadata": {
    "collapsed": false,
    "pycharm": {
     "name": "#%%\n",
     "is_executing": false
    }
   }
  },
  {
   "cell_type": "markdown",
   "source": [
    "## Результати\n",
    "### Вірогідність $P^*$"
   ],
   "metadata": {
    "collapsed": false,
    "pycharm": {
     "name": "#%% md\n"
    }
   }
  },
  {
   "cell_type": "code",
   "execution_count": 33,
   "outputs": [
    {
     "data": {
      "text/plain": "2.8587598025631146e-36"
     },
     "metadata": {},
     "output_type": "execute_result",
     "execution_count": 33
    }
   ],
   "source": [
    "p = max(D)\n",
    "p"
   ],
   "metadata": {
    "collapsed": false,
    "pycharm": {
     "name": "#%%\n",
     "is_executing": false
    }
   }
  },
  {
   "cell_type": "markdown",
   "source": [
    "### Останній елемент $q^*_T$"
   ],
   "metadata": {
    "collapsed": false,
    "pycharm": {
     "name": "#%% md\n",
     "is_executing": false
    }
   }
  },
  {
   "cell_type": "code",
   "execution_count": 34,
   "outputs": [
    {
     "data": {
      "text/plain": "2"
     },
     "metadata": {},
     "output_type": "execute_result",
     "execution_count": 34
    }
   ],
   "source": [
    "q = np.array(D[::-1]).argmax()\n",
    "q"
   ],
   "metadata": {
    "collapsed": false,
    "pycharm": {
     "name": "#%%\n",
     "is_executing": false
    }
   }
  },
  {
   "cell_type": "markdown",
   "source": [
    "### Стани послідовності ($Q$)"
   ],
   "metadata": {
    "collapsed": false,
    "pycharm": {
     "name": "#%% md\n"
    }
   }
  },
  {
   "cell_type": "code",
   "execution_count": 35,
   "outputs": [
    {
     "data": {
      "text/plain": "[1,\n 2,\n 2,\n 2,\n 3,\n 3,\n 4,\n 1,\n 1,\n 2,\n 2,\n 2,\n 2,\n 2,\n 2,\n 2,\n 2,\n 3,\n 4,\n 3,\n 3,\n 1,\n 2,\n 2,\n 2,\n 2,\n 2,\n 2,\n 2,\n 2]"
     },
     "metadata": {},
     "output_type": "execute_result",
     "execution_count": 35
    }
   ],
   "source": [
    "Q = [q]\n",
    "for i in range(len(O)-1, 0, -1):\n",
    "    q = APSI[i][q-1]+1\n",
    "    Q.append(q)\n",
    "Q = Q[::-1]\n",
    "Q"
   ],
   "metadata": {
    "collapsed": false,
    "pycharm": {
     "name": "#%%\n",
     "is_executing": false
    }
   }
  },
  {
   "cell_type": "markdown",
   "source": [
    "### Вірогідність послідовності ($\\overline{P^*}$)"
   ],
   "metadata": {
    "collapsed": false,
    "pycharm": {
     "name": "#%% md\n"
    }
   }
  },
  {
   "cell_type": "code",
   "execution_count": 36,
   "outputs": [
    {
     "data": {
      "text/plain": "2.858759802563114e-36"
     },
     "metadata": {},
     "output_type": "execute_result",
     "execution_count": 36
    }
   ],
   "source": [
    "def probability(trace: List[int]) -> float:\n",
    "    t = trace[0]-1\n",
    "    result = P[t]*B[t, O[0]-1]\n",
    "    for i in range(len(trace)-1):\n",
    "        qi = trace[i]-1\n",
    "        qip = trace[i+1]-1\n",
    "        result *= A[qi, qip] * B[qip, O[i+1]-1]\n",
    "    return result\n",
    "\n",
    "probability(Q)"
   ],
   "metadata": {
    "collapsed": false,
    "pycharm": {
     "name": "#%%\n",
     "is_executing": false
    }
   }
  }
 ],
 "metadata": {
  "kernelspec": {
   "display_name": "Python 3",
   "language": "python",
   "name": "python3"
  },
  "language_info": {
   "codemirror_mode": {
    "name": "ipython",
    "version": 2
   },
   "file_extension": ".py",
   "mimetype": "text/x-python",
   "name": "python",
   "nbconvert_exporter": "python",
   "pygments_lexer": "ipython2",
   "version": "2.7.6"
  },
  "pycharm": {
   "stem_cell": {
    "cell_type": "raw",
    "source": [],
    "metadata": {
     "collapsed": false
    }
   }
  }
 },
 "nbformat": 4,
 "nbformat_minor": 0
}