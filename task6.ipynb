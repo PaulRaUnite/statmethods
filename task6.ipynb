{
 "cells": [
  {
   "cell_type": "markdown",
   "metadata": {
    "collapsed": true,
    "pycharm": {
     "name": "#%% md\n"
    }
   },
   "source": [
    "# Статистичні методи\n",
    "Індивідуальне завдання 6\n",
    "\n",
    "Токарєв Павло, МФ-51"
   ]
  },
  {
   "cell_type": "markdown",
   "source": [
    "## Вхідні дані"
   ],
   "metadata": {
    "collapsed": false
   }
  },
  {
   "cell_type": "code",
   "execution_count": 96,
   "outputs": [],
   "source": [
    "from functools import reduce\n",
    "from random import seed\n",
    "TEXT1= open(\"data/ukrainian/1.txt\").read()\n",
    "TEXT2 = open(\"data/ukrainian/2.txt\").read()\n",
    "TEXT3 = open(\"data/ukrainian/3.txt\").read()\n",
    "TEXT4 = open(\"data/ukrainian/4.txt\").read()\n",
    "TEXT5 = open(\"data/ukrainian/5.txt\").read()\n",
    "TEXT6 = open(\"data/ukrainian/6.txt\").read()\n",
    "\n",
    "TEXTS = [TEXT1, TEXT2, TEXT3, TEXT4, TEXT5, TEXT6]"
   ],
   "metadata": {
    "collapsed": false,
    "pycharm": {
     "name": "#%%\n",
     "is_executing": false
    }
   }
  },
  {
   "cell_type": "markdown",
   "source": [
    "## Довжини текстів"
   ],
   "metadata": {
    "collapsed": false,
    "pycharm": {
     "name": "#%% md\n",
     "is_executing": false
    }
   }
  },
  {
   "cell_type": "code",
   "execution_count": 97,
   "outputs": [
    {
     "data": {
      "text/plain": "[7283, 11477, 8447, 8988, 6283, 7830]"
     },
     "metadata": {},
     "output_type": "execute_result",
     "execution_count": 97
    }
   ],
   "source": [
    "[len(text) for text in TEXTS]"
   ],
   "metadata": {
    "collapsed": false,
    "pycharm": {
     "name": "#%%\n",
     "is_executing": false
    }
   }
  },
  {
   "cell_type": "markdown",
   "source": [
    "## Вилучення непотрібних символів"
   ],
   "metadata": {
    "collapsed": false,
    "pycharm": {
     "name": "#%% md\n"
    }
   }
  },
  {
   "cell_type": "code",
   "execution_count": 98,
   "outputs": [],
   "source": [
    "import re\n",
    "exclude = r\"[0123456789/%²°+()]\"\n",
    "replace = r\"[;:?.!,«»\\n“”]\"\n",
    "\n",
    "def process(text: str) -> str:\n",
    "    text = re.compile(exclude).sub(\"\", text)\n",
    "    text = re.compile(replace).sub(\" \", text)\n",
    "    text = text.lower()\n",
    "    return text\n",
    "\n",
    "TEXTS = [process(text) for text in TEXTS]"
   ],
   "metadata": {
    "collapsed": false,
    "pycharm": {
     "name": "#%%\n",
     "is_executing": false
    }
   }
  },
  {
   "cell_type": "markdown",
   "source": [
    "## Наявні символи"
   ],
   "metadata": {
    "collapsed": false,
    "pycharm": {
     "name": "#%% md\n",
     "is_executing": false
    }
   }
  },
  {
   "cell_type": "code",
   "execution_count": 99,
   "outputs": [
    {
     "data": {
      "text/plain": "{' ',\n '\"',\n \"'\",\n '-',\n 'a',\n 'b',\n 'c',\n 'd',\n 'e',\n 'f',\n 'g',\n 'h',\n 'i',\n 'k',\n 'l',\n 'm',\n 'n',\n 'o',\n 'p',\n 'r',\n 's',\n 't',\n 'u',\n 'v',\n 'x',\n 'y',\n 'z',\n 'а',\n 'б',\n 'в',\n 'г',\n 'д',\n 'е',\n 'ж',\n 'з',\n 'и',\n 'й',\n 'к',\n 'л',\n 'м',\n 'н',\n 'о',\n 'п',\n 'р',\n 'с',\n 'т',\n 'у',\n 'ф',\n 'х',\n 'ц',\n 'ч',\n 'ш',\n 'щ',\n 'ь',\n 'ю',\n 'я',\n 'є',\n 'і',\n 'ї',\n 'ґ',\n '–',\n '—',\n '’'}"
     },
     "metadata": {},
     "output_type": "execute_result",
     "execution_count": 99
    }
   ],
   "source": [
    "import itertools\n",
    "symbols = set(itertools.chain.from_iterable(TEXTS))\n",
    "symbols"
   ],
   "metadata": {
    "collapsed": false,
    "pycharm": {
     "name": "#%%\n",
     "is_executing": false
    }
   }
  },
  {
   "cell_type": "markdown",
   "source": [
    "## Токенізація"
   ],
   "metadata": {
    "collapsed": false,
    "pycharm": {
     "name": "#%% md\n",
     "is_executing": false
    }
   }
  },
  {
   "cell_type": "code",
   "execution_count": 100,
   "outputs": [
    {
     "data": {
      "text/plain": "['бюджетна',\n 'криза',\n 'чому',\n 'уряд',\n 'заблокував',\n 'видатки',\n 'і',\n 'до',\n 'чого',\n 'це',\n 'може',\n 'привести',\n 'кабмін',\n 'зіткнувся',\n 'з',\n 'бюджетними',\n 'проблемами',\n 'і',\n 'тепер',\n 'вимушений',\n 'притримати',\n 'видатки',\n 'що',\n 'це',\n 'означає',\n 'скільки',\n 'коштів',\n 'не',\n 'вистачає',\n 'кого']"
     },
     "metadata": {},
     "output_type": "execute_result",
     "execution_count": 100
    }
   ],
   "source": [
    "from typing import List\n",
    "\n",
    "def tokenize(text: str) -> List[str]:\n",
    "    return [m.group(0) for m in re.compile(r\"[\\w’']+\").finditer(text)]\n",
    "\n",
    "tokens = [tokenize(text) for text in TEXTS]\n",
    "tokens[0][:30]"
   ],
   "metadata": {
    "collapsed": false,
    "pycharm": {
     "name": "#%%\n",
     "is_executing": false
    }
   }
  },
  {
   "cell_type": "code",
   "execution_count": 101,
   "outputs": [
    {
     "data": {
      "text/plain": "[575, 843, 679, 848, 548, 607]"
     },
     "metadata": {},
     "output_type": "execute_result",
     "execution_count": 101
    }
   ],
   "source": [
    "[len(set(text_tokens)) for text_tokens in tokens]"
   ],
   "metadata": {
    "collapsed": false,
    "pycharm": {
     "name": "#%%\n",
     "is_executing": false
    }
   }
  },
  {
   "cell_type": "code",
   "execution_count": 102,
   "outputs": [
    {
     "data": {
      "text/plain": "3156"
     },
     "metadata": {},
     "output_type": "execute_result",
     "execution_count": 102
    }
   ],
   "source": [
    "len(set(itertools.chain.from_iterable(tokens)))"
   ],
   "metadata": {
    "collapsed": false,
    "pycharm": {
     "name": "#%%\n",
     "is_executing": false
    }
   }
  },
  {
   "cell_type": "markdown",
   "source": [
    "## Побудова матриці частот"
   ],
   "metadata": {
    "collapsed": false,
    "pycharm": {
     "name": "#%% md\n",
     "is_executing": false
    }
   }
  },
  {
   "cell_type": "code",
   "execution_count": 103,
   "outputs": [
    {
     "data": {
      "text/plain": "array([[0., 0., 3., 0., 0., 0.],\n       [0., 3., 0., 0., 0., 0.],\n       [1., 0., 0., 0., 0., 0.],\n       ...,\n       [0., 0., 1., 0., 0., 0.],\n       [0., 0., 0., 0., 0., 1.],\n       [0., 0., 1., 0., 0., 0.]])"
     },
     "metadata": {},
     "output_type": "execute_result",
     "execution_count": 103
    }
   ],
   "source": [
    "import numpy as np\n",
    "\n",
    "def build_table(tokens: List[List[str]]) -> (List[str], np.array):\n",
    "    lexicon = list(set(itertools.chain.from_iterable(tokens)))\n",
    "    n = len(lexicon)\n",
    "    k = len(tokens)\n",
    "    \n",
    "    index = {w: i for i, w in enumerate(lexicon)}\n",
    "    matrix = np.zeros((n,k))\n",
    "    for i, token_set in enumerate(tokens):\n",
    "        for word in token_set:\n",
    "            matrix[index[word]][i]+=1\n",
    "    return lexicon, matrix\n",
    "\n",
    "lexicon, matrix = build_table(tokens)\n",
    "matrix"
   ],
   "metadata": {
    "collapsed": false,
    "pycharm": {
     "name": "#%%\n",
     "is_executing": false
    }
   }
  },
  {
   "cell_type": "markdown",
   "source": [
    "## Нормалізація $\\sqrt{x}$"
   ],
   "metadata": {
    "collapsed": false,
    "pycharm": {
     "name": "#%% md\n"
    }
   }
  },
  {
   "cell_type": "code",
   "execution_count": 104,
   "outputs": [
    {
     "data": {
      "text/plain": "array([[0.        , 0.        , 1.73205081, 0.        , 0.        ,\n        0.        ],\n       [0.        , 1.73205081, 0.        , 0.        , 0.        ,\n        0.        ],\n       [1.        , 0.        , 0.        , 0.        , 0.        ,\n        0.        ],\n       ...,\n       [0.        , 0.        , 1.        , 0.        , 0.        ,\n        0.        ],\n       [0.        , 0.        , 0.        , 0.        , 0.        ,\n        1.        ],\n       [0.        , 0.        , 1.        , 0.        , 0.        ,\n        0.        ]])"
     },
     "metadata": {},
     "output_type": "execute_result",
     "execution_count": 104
    }
   ],
   "source": [
    "matrix = np.sqrt(matrix)\n",
    "matrix"
   ],
   "metadata": {
    "collapsed": false,
    "pycharm": {
     "name": "#%%\n",
     "is_executing": false
    }
   }
  },
  {
   "cell_type": "markdown",
   "source": [
    "## Нормалізація за допомогою зворотнії частот"
   ],
   "metadata": {
    "collapsed": false,
    "pycharm": {
     "name": "#%% md\n"
    }
   }
  },
  {
   "cell_type": "code",
   "execution_count": 105,
   "outputs": [
    {
     "data": {
      "text/plain": "array([[0.        , 0.        , 3.10341844, 0.        , 0.        ,\n        0.        ],\n       [0.        , 3.10341844, 0.        , 0.        , 0.        ,\n        0.        ],\n       [1.79175947, 0.        , 0.        , 0.        , 0.        ,\n        0.        ],\n       ...,\n       [0.        , 0.        , 1.79175947, 0.        , 0.        ,\n        0.        ],\n       [0.        , 0.        , 0.        , 0.        , 0.        ,\n        1.79175947],\n       [0.        , 0.        , 1.79175947, 0.        , 0.        ,\n        0.        ]])"
     },
     "metadata": {},
     "output_type": "execute_result",
     "execution_count": 105
    }
   ],
   "source": [
    "def normalize(m : np.array) -> np.array:\n",
    "    a = np.zeros(m.shape)\n",
    "    n, k = m.shape\n",
    "    for i in range(n):\n",
    "        ni = 0\n",
    "        for j in range(k):\n",
    "            if m[i][j] > 0:\n",
    "                ni +=1\n",
    "        id = np.log(k/ni)\n",
    "        for j in range(k):\n",
    "            a[i][j] = m[i][j] * id\n",
    "    return a\n",
    "matrix = normalize(matrix)\n",
    "matrix"
   ],
   "metadata": {
    "collapsed": false,
    "pycharm": {
     "name": "#%%\n",
     "is_executing": false
    }
   }
  },
  {
   "cell_type": "markdown",
   "source": [
    "## Видалення спільних термів"
   ],
   "metadata": {
    "collapsed": false,
    "pycharm": {
     "name": "#%% md\n",
     "is_executing": false
    }
   }
  },
  {
   "cell_type": "code",
   "execution_count": 106,
   "outputs": [
    {
     "data": {
      "text/plain": "array([[0.        , 0.        , 3.10341844, 0.        , 0.        ,\n        0.        ],\n       [0.        , 3.10341844, 0.        , 0.        , 0.        ,\n        0.        ],\n       [1.79175947, 0.        , 0.        , 0.        , 0.        ,\n        0.        ],\n       ...,\n       [0.        , 0.        , 1.79175947, 0.        , 0.        ,\n        0.        ],\n       [0.        , 0.        , 0.        , 0.        , 0.        ,\n        1.79175947],\n       [0.        , 0.        , 1.79175947, 0.        , 0.        ,\n        0.        ]])"
     },
     "metadata": {},
     "output_type": "execute_result",
     "execution_count": 106
    }
   ],
   "source": [
    "def remove_common(a: np.array) -> np.array:\n",
    "    return a[np.prod(a, axis=1) == 0]\n",
    "\n",
    "matrix = remove_common(matrix)\n",
    "matrix"
   ],
   "metadata": {
    "collapsed": false,
    "pycharm": {
     "name": "#%%\n",
     "is_executing": false
    }
   }
  },
  {
   "cell_type": "markdown",
   "source": [
    "## Назви статей\n",
    "0. Бюджетна криза: чому уряд заблокував видатки і до чого це може привести\n",
    "1. Округи та префекти. Як в Україні можуть з'явитися \"смотрящіє\" від Зеленського\n",
    "2. Максим Поляков, Firefly: Космічний бізнес — це бізнес політичний і йому потрібна державна підтримка\n",
    "3. Українські \"Схованки\": чим бере справді крутий перший наш серіал\n",
    "4. Боротьба за вибори: що покладе край протестам у Грузії\n",
    "5. Другий референдум за Brexit: які наслідки матиме історична перемога Бориса Джонсона"
   ],
   "metadata": {
    "collapsed": false,
    "pycharm": {
     "name": "#%% md\n"
    }
   }
  },
  {
   "cell_type": "markdown",
   "source": [
    "## Обчислення $cos$ відстаней"
   ],
   "metadata": {
    "collapsed": false,
    "pycharm": {
     "name": "#%% md\n"
    }
   }
  },
  {
   "cell_type": "code",
   "execution_count": 107,
   "outputs": [
    {
     "data": {
      "text/plain": "array([[1.        , 0.02602841, 0.03075456, 0.01303655, 0.01942801,\n        0.02636176],\n       [0.02602841, 1.        , 0.04490818, 0.02916655, 0.0466422 ,\n        0.04162933],\n       [0.03075456, 0.04490818, 1.        , 0.02616161, 0.01731084,\n        0.02190851],\n       [0.01303655, 0.02916655, 0.02616161, 1.        , 0.01967823,\n        0.02112593],\n       [0.01942801, 0.0466422 , 0.01731084, 0.01967823, 1.        ,\n        0.05111553],\n       [0.02636176, 0.04162933, 0.02190851, 0.02112593, 0.05111553,\n        1.        ]])"
     },
     "metadata": {},
     "output_type": "execute_result",
     "execution_count": 107
    }
   ],
   "source": [
    "def calc_distances(matrix: np.array) -> np.array:\n",
    "    n, k = matrix.shape\n",
    "    d = np.zeros((k,k))\n",
    "    for i in range(k):\n",
    "        for j in range(k):\n",
    "            a = matrix[:, i]\n",
    "            b = matrix[:, j]\n",
    "            d[i][j] = np.dot(a.reshape((1,n)), b.reshape((n,1)))/\\\n",
    "                      (np.sqrt(np.sum(np.power(a, 2)))*np.sqrt(np.sum(np.power(b, 2))))\n",
    "    return d\n",
    "\n",
    "distances = calc_distances(matrix)\n",
    "distances"
   ],
   "metadata": {
    "collapsed": false,
    "pycharm": {
     "name": "#%%\n",
     "is_executing": false
    }
   }
  },
  {
   "cell_type": "markdown",
   "source": [
    "## Обчислення $Jaccard$ відстаней"
   ],
   "metadata": {
    "collapsed": false,
    "pycharm": {
     "name": "#%% md\n"
    }
   }
  },
  {
   "cell_type": "code",
   "execution_count": 108,
   "outputs": [
    {
     "data": {
      "text/plain": "array([[1.        , 0.07996954, 0.08477509, 0.0611484 , 0.08188825,\n        0.09242144],\n       [0.07996954, 1.        , 0.10289855, 0.08466966, 0.10748408,\n        0.11452729],\n       [0.08477509, 0.10289855, 1.        , 0.07915194, 0.08488064,\n        0.08983051],\n       [0.0611484 , 0.08466966, 0.07915194, 1.        , 0.07384615,\n        0.08098068],\n       [0.08188825, 0.10748408, 0.08488064, 0.07384615, 1.        ,\n        0.13346418],\n       [0.09242144, 0.11452729, 0.08983051, 0.08098068, 0.13346418,\n        1.        ]])"
     },
     "metadata": {},
     "output_type": "execute_result",
     "execution_count": 108
    }
   ],
   "source": [
    "def calc_jaccard() -> np.array:\n",
    "    k = len(tokens)\n",
    "    sets = list(map(set, tokens))\n",
    "    m = np.zeros((k,k))\n",
    "    for i, t1 in enumerate(sets):\n",
    "        for j, t2 in enumerate(sets):\n",
    "            if i == j:\n",
    "                res = 1\n",
    "            else:\n",
    "                res = (len(t1.intersection(t2))/len(t1.union(t2)))\n",
    "            m[i][j] = res\n",
    "    return m\n",
    "jaccard = calc_jaccard()\n",
    "jaccard"
   ],
   "metadata": {
    "collapsed": false,
    "pycharm": {
     "name": "#%%\n",
     "is_executing": false
    }
   }
  }
 ],
 "metadata": {
  "kernelspec": {
   "display_name": "Python 3",
   "language": "python",
   "name": "python3"
  },
  "language_info": {
   "codemirror_mode": {
    "name": "ipython",
    "version": 2
   },
   "file_extension": ".py",
   "mimetype": "text/x-python",
   "name": "python",
   "nbconvert_exporter": "python",
   "pygments_lexer": "ipython2",
   "version": "2.7.6"
  },
  "pycharm": {
   "stem_cell": {
    "cell_type": "raw",
    "source": [],
    "metadata": {
     "collapsed": false
    }
   }
  }
 },
 "nbformat": 4,
 "nbformat_minor": 0
}