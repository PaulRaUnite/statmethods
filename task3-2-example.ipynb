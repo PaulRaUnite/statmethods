{
 "cells": [
  {
   "cell_type": "code",
   "execution_count": 119,
   "metadata": {
    "collapsed": true,
    "pycharm": {
     "is_executing": false
    }
   },
   "outputs": [],
   "source": []
  },
  {
   "cell_type": "code",
   "execution_count": 120,
   "outputs": [],
   "source": [
    "N = 8\n",
    "M = 7\n",
    "\n",
    "import numpy as np\n",
    "A = np.array([0.0274, 0.0423, 0.0422, 0.2179, 0.0907, 0.1588, 0.1224, 0.1328, \n",
    "              0.2051, 0.1931, 0.2740, 0.1961, 0.1543, 0.1198, 0.0493, 0.1543, \n",
    "              0.0499, 0.2146, 0.2051, 0.0783, 0.2446, 0.1794, 0.2286, 0.0492, \n",
    "              0.2296, 0.1016, 0.0474, 0.1570, 0.0471, 0.0793, 0.1461, 0.1232, \n",
    "              0.3293, 0.1833, 0.1511, 0.2024, 0.0595, 0.0844, 0.0061, 0.0926, \n",
    "              0.0398, 0.0712, 0.0816, 0.0116, 0.1612, 0.1690, 0.0034, 0.1865, \n",
    "              0.0851, 0.0262, 0.0789, 0.0703, 0.1381, 0.1756, 0.2503, 0.1156, \n",
    "              0.0339, 0.1677, 0.1196, 0.0665, 0.1045, 0.0336, 0.1938, 0.1457])\\\n",
    "    .reshape(N,N).transpose()\n",
    "\n",
    "B = np.array([0.0605, 0.3109, 0.0590, 0.0376, 0.1825, 0.0261, 0.2058, 0.2154, \n",
    "              0.1446, 0.0571, 0.0683, 0.1466, 0.1128, 0.2507, 0.1070, 0.2028, \n",
    "              0.1246, 0.1009, 0.2346, 0.1232, 0.2114, 0.0303, 0.0738, 0.1206, \n",
    "              0.1717, 0.0224, 0.2067, 0.0498, 0.0758, 0.0049, 0.1097, 0.1434, \n",
    "              0.0945, 0.1751, 0.1429, 0.1775, 0.0852, 0.2538, 0.2383, 0.1738, \n",
    "              0.1328, 0.0174, 0.1520, 0.2908, 0.0775, 0.2217, 0.1783, 0.0002, \n",
    "              0.2712, 0.3163, 0.1367, 0.1743, 0.2548, 0.2125, 0.0872, 0.1437])\\\n",
    "    .reshape(M,N).transpose()\n",
    "\n",
    "P = [0.2260, 0.2888 ,0.2999, 0.0890, 0.0029, 0.0571, 0.0335, 0.0026]\n",
    "O = np.array([6,2,7,5,1,3,3,4,6,6,2,6,2,7,7,5,1,5,7,6,2,2,1,5,1,3,7,6,6,1,5,2,7,4,2])"
   ],
   "metadata": {
    "collapsed": false,
    "pycharm": {
     "name": "#%%\n",
     "is_executing": false
    }
   }
  },
  {
   "cell_type": "code",
   "execution_count": 121,
   "outputs": [
    {
     "data": {
      "text/plain": "array([[0.0274, 0.2051, 0.0499, 0.2296, 0.3293, 0.0398, 0.0851, 0.0339],\n       [0.0423, 0.1931, 0.2146, 0.1016, 0.1833, 0.0712, 0.0262, 0.1677],\n       [0.0422, 0.274 , 0.2051, 0.0474, 0.1511, 0.0816, 0.0789, 0.1196],\n       [0.2179, 0.1961, 0.0783, 0.157 , 0.2024, 0.0116, 0.0703, 0.0665],\n       [0.0907, 0.1543, 0.2446, 0.0471, 0.0595, 0.1612, 0.1381, 0.1045],\n       [0.1588, 0.1198, 0.1794, 0.0793, 0.0844, 0.169 , 0.1756, 0.0336],\n       [0.1224, 0.0493, 0.2286, 0.1461, 0.0061, 0.0034, 0.2503, 0.1938],\n       [0.1328, 0.1543, 0.0492, 0.1232, 0.0926, 0.1865, 0.1156, 0.1457]])"
     },
     "metadata": {},
     "output_type": "execute_result",
     "execution_count": 121
    }
   ],
   "source": [
    "A"
   ],
   "metadata": {
    "collapsed": false,
    "pycharm": {
     "name": "#%%\n",
     "is_executing": false
    }
   }
  },
  {
   "cell_type": "code",
   "execution_count": 122,
   "outputs": [
    {
     "data": {
      "text/plain": "array([[6.050e-02, 1.446e-01, 1.246e-01, 1.717e-01, 9.450e-02, 1.328e-01,\n        2.712e-01],\n       [3.109e-01, 5.710e-02, 1.009e-01, 2.240e-02, 1.751e-01, 1.740e-02,\n        3.163e-01],\n       [5.900e-02, 6.830e-02, 2.346e-01, 2.067e-01, 1.429e-01, 1.520e-01,\n        1.367e-01],\n       [3.760e-02, 1.466e-01, 1.232e-01, 4.980e-02, 1.775e-01, 2.908e-01,\n        1.743e-01],\n       [1.825e-01, 1.128e-01, 2.114e-01, 7.580e-02, 8.520e-02, 7.750e-02,\n        2.548e-01],\n       [2.610e-02, 2.507e-01, 3.030e-02, 4.900e-03, 2.538e-01, 2.217e-01,\n        2.125e-01],\n       [2.058e-01, 1.070e-01, 7.380e-02, 1.097e-01, 2.383e-01, 1.783e-01,\n        8.720e-02],\n       [2.154e-01, 2.028e-01, 1.206e-01, 1.434e-01, 1.738e-01, 2.000e-04,\n        1.437e-01]])"
     },
     "metadata": {},
     "output_type": "execute_result",
     "execution_count": 122
    }
   ],
   "source": [
    "B"
   ],
   "metadata": {
    "collapsed": false,
    "pycharm": {
     "name": "#%%\n",
     "is_executing": false
    }
   }
  },
  {
   "cell_type": "code",
   "execution_count": 123,
   "outputs": [
    {
     "data": {
      "text/plain": "[0.226, 0.2888, 0.2999, 0.089, 0.0029, 0.0571, 0.0335, 0.0026]"
     },
     "metadata": {},
     "output_type": "execute_result",
     "execution_count": 123
    }
   ],
   "source": [
    "P"
   ],
   "metadata": {
    "collapsed": false,
    "pycharm": {
     "name": "#%%\n",
     "is_executing": false
    }
   }
  },
  {
   "cell_type": "code",
   "execution_count": 124,
   "outputs": [
    {
     "data": {
      "text/plain": "array([6, 2, 7, 5, 1, 3, 3, 4, 6, 6, 2, 6, 2, 7, 7, 5, 1, 5, 7, 6, 2, 2,\n       1, 5, 1, 3, 7, 6, 6, 1, 5, 2, 7, 4, 2])"
     },
     "metadata": {},
     "output_type": "execute_result",
     "execution_count": 124
    }
   ],
   "source": [
    "O"
   ],
   "metadata": {
    "collapsed": false,
    "pycharm": {
     "name": "#%%\n",
     "is_executing": false
    }
   }
  },
  {
   "cell_type": "code",
   "execution_count": 125,
   "outputs": [
    {
     "data": {
      "text/plain": "[0.030012800000000003,\n 0.005025119999999999,\n 0.0455848,\n 0.0258812,\n 0.00022475,\n 0.01265907,\n 0.00597305,\n 5.2e-07]"
     },
     "metadata": {},
     "output_type": "execute_result",
     "execution_count": 125
    }
   ],
   "source": [
    "D0 = [P[i]*B[i, O[0]-1] for i in range(N)]\n",
    "D0"
   ],
   "metadata": {
    "collapsed": false,
    "pycharm": {
     "name": "#%%\n",
     "is_executing": false
    }
   }
  },
  {
   "cell_type": "code",
   "execution_count": 126,
   "outputs": [
    {
     "data": {
      "text/plain": "[0, 0, 0, 0, 0, 0, 0, 0]"
     },
     "metadata": {},
     "output_type": "execute_result",
     "execution_count": 126
    }
   ],
   "source": [
    "PSI0 = [0 for _ in range(N)]\n",
    "PSI0"
   ],
   "metadata": {
    "collapsed": false,
    "pycharm": {
     "name": "#%%\n",
     "is_executing": false
    }
   }
  },
  {
   "cell_type": "code",
   "execution_count": 127,
   "outputs": [],
   "source": [
    "from typing import List\n",
    "\n",
    "def next_delta(delta: List[float], t: int) -> List[float]:\n",
    "    return [max([delta[i]*A[i,j] for i in range(N)])*B[j, O[t]-1] for j in range(N)]\n",
    "\n",
    "def next_psi(delta: List[float], t: int) -> List[float]:\n",
    "    return [np.array([delta[i]*A[i,j] for i in range(N)]).argmax() for j in range(N)]\n",
    "\n",
    "D = D0\n",
    "PSI = PSI0\n",
    "APSI = [PSI0]\n",
    "for i in range(len(O)-1):\n",
    "    PSI = next_psi(D, i+1)\n",
    "    APSI.append(PSI)\n",
    "    D = next_delta(D, i+1)"
   ],
   "metadata": {
    "collapsed": false,
    "pycharm": {
     "name": "#%%\n",
     "is_executing": false
    }
   }
  },
  {
   "cell_type": "code",
   "execution_count": 128,
   "outputs": [
    {
     "data": {
      "text/plain": "3.51741495536172e-48"
     },
     "metadata": {},
     "output_type": "execute_result",
     "execution_count": 128
    }
   ],
   "source": [
    "p = max(D)\n",
    "p"
   ],
   "metadata": {
    "collapsed": false,
    "pycharm": {
     "name": "#%%\n",
     "is_executing": false
    }
   }
  },
  {
   "cell_type": "code",
   "execution_count": 129,
   "outputs": [
    {
     "data": {
      "text/plain": "6"
     },
     "metadata": {},
     "output_type": "execute_result",
     "execution_count": 129
    }
   ],
   "source": [
    "q = len(PSI) - np.array(PSI[::-1]).argmax()\n",
    "q"
   ],
   "metadata": {
    "collapsed": false,
    "pycharm": {
     "name": "#%%\n",
     "is_executing": false
    }
   }
  },
  {
   "cell_type": "code",
   "execution_count": 130,
   "outputs": [],
   "source": [
    "Q = [q]\n",
    "for i in range(len(O)-1, 0, -1):\n",
    "    q = APSI[i][q-1]+1\n",
    "    Q.append(q)\n",
    "Q = Q[::-1]"
   ],
   "metadata": {
    "collapsed": false,
    "pycharm": {
     "name": "#%%\n",
     "is_executing": false
    }
   }
  },
  {
   "cell_type": "code",
   "execution_count": 131,
   "outputs": [
    {
     "data": {
      "text/plain": "3.5174149553617195e-48"
     },
     "metadata": {},
     "output_type": "execute_result",
     "execution_count": 131
    }
   ],
   "source": [
    "def probability(trace: List[int]) -> float:\n",
    "    t = trace[0]-1\n",
    "    result = P[t]*B[t, O[0]-1]\n",
    "    for i in range(len(trace)-1):\n",
    "        qip = trace[i+1]-1\n",
    "        qi = trace[i]-1\n",
    "        result *= A[qi, qip] *B[qip, O[i+1]-1]\n",
    "    return result\n",
    "\n",
    "probability(Q)"
   ],
   "metadata": {
    "collapsed": false,
    "pycharm": {
     "name": "#%%\n",
     "is_executing": false
    }
   }
  }
 ],
 "metadata": {
  "kernelspec": {
   "display_name": "Python 3",
   "language": "python",
   "name": "python3"
  },
  "language_info": {
   "codemirror_mode": {
    "name": "ipython",
    "version": 2
   },
   "file_extension": ".py",
   "mimetype": "text/x-python",
   "name": "python",
   "nbconvert_exporter": "python",
   "pygments_lexer": "ipython2",
   "version": "2.7.6"
  },
  "pycharm": {
   "stem_cell": {
    "cell_type": "raw",
    "source": [],
    "metadata": {
     "collapsed": false
    }
   }
  }
 },
 "nbformat": 4,
 "nbformat_minor": 0
}