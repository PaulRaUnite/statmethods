{
 "cells": [
  {
   "cell_type": "code",
   "metadata": {
    "collapsed": true,
    "pycharm": {
     "name": "#%%\n",
     "is_executing": false
    }
   },
   "source": [
    "from functools import reduce\n",
    "from random import seed\n",
    "TEXT1= open(\"data/french/1.txt\").read()\n",
    "TEXT2 = open(\"data/french/2.txt\").read()\n",
    "TEXT3 = open(\"data/french/3.txt\").read()\n",
    "TEXT4 = open(\"data/french/4.txt\").read()\n",
    "\n",
    "TEXTS = [TEXT1, TEXT2, TEXT3, TEXT4]"
   ],
   "execution_count": 504,
   "outputs": []
  },
  {
   "cell_type": "code",
   "execution_count": 505,
   "outputs": [
    {
     "data": {
      "text/plain": "[10202, 10965, 8067, 10609]"
     },
     "metadata": {},
     "output_type": "execute_result",
     "execution_count": 505
    }
   ],
   "source": [
    "[len(text) for text in TEXTS]"
   ],
   "metadata": {
    "collapsed": false,
    "pycharm": {
     "name": "#%%\n",
     "is_executing": false
    }
   }
  },
  {
   "cell_type": "code",
   "execution_count": 506,
   "outputs": [],
   "source": [
    "import re\n",
    "exclude = r\"[0123456789/%²°+()]\"\n",
    "replace = r\"[;:?.!,«»\\n“”]\"\n",
    "\n",
    "def process(text: str) -> str:\n",
    "    text = re.compile(exclude).sub(\"\", text)\n",
    "    text = re.compile(replace).sub(\" \", text)\n",
    "    text = text.lower()\n",
    "    return text\n",
    "\n",
    "TEXTS = [process(text) for text in TEXTS]"
   ],
   "metadata": {
    "collapsed": false,
    "pycharm": {
     "name": "#%%\n",
     "is_executing": false
    }
   }
  },
  {
   "cell_type": "code",
   "execution_count": 507,
   "outputs": [
    {
     "data": {
      "text/plain": "{' ',\n \"'\",\n 'a',\n 'b',\n 'c',\n 'd',\n 'e',\n 'f',\n 'g',\n 'h',\n 'i',\n 'j',\n 'k',\n 'l',\n 'm',\n 'n',\n 'o',\n 'p',\n 'q',\n 'r',\n 's',\n 't',\n 'u',\n 'v',\n 'w',\n 'x',\n 'y',\n 'z',\n 'à',\n 'â',\n 'ç',\n 'è',\n 'é',\n 'ê',\n 'î',\n 'ï',\n 'ô',\n 'ù',\n 'û',\n 'œ',\n '—',\n '’'}"
     },
     "metadata": {},
     "output_type": "execute_result",
     "execution_count": 507
    }
   ],
   "source": [
    "import itertools\n",
    "symbols = set(itertools.chain.from_iterable(TEXTS))\n",
    "symbols"
   ],
   "metadata": {
    "collapsed": false,
    "pycharm": {
     "name": "#%%\n",
     "is_executing": false
    }
   }
  },
  {
   "cell_type": "code",
   "execution_count": 508,
   "outputs": [
    {
     "data": {
      "text/plain": "[['l’ètonnante',\n  'rèmunèration',\n  'que',\n  'versait',\n  'france',\n  'inter',\n  'à',\n  'bernard',\n  'guetta',\n  'son',\n  'chroniqueur',\n  'vedette',\n  'de',\n  'la',\n  'chute',\n  'de',\n  'l’urss',\n  'à',\n  'la',\n  'poignèe',\n  'de',\n  'mains',\n  'historique',\n  'entre',\n  'donald',\n  'trump',\n  'et',\n  'kim',\n  'jong',\n  'un',\n  'le',\n  'journaliste',\n  'bernard',\n  'guetta',\n  'a',\n  'inlassablement',\n  'dècryptè',\n  'la',\n  'marche',\n  'du',\n  'monde',\n  'durant',\n  'ses',\n  'annèes',\n  'aux',\n  'commandes',\n  'de',\n  'la',\n  'chronique',\n  'gèopolitique',\n  'de',\n  'france',\n  'inter',\n  'une',\n  'longèvitè',\n  'exceptionnelle',\n  'qui',\n  'a',\n  'valu',\n  'à',\n  'l’eurodèputè',\n  'macroniste',\n  'un',\n  'traitement',\n  'de',\n  'faveur',\n  'au',\n  'sein',\n  'de',\n  'la',\n  'station',\n  'avant',\n  'qu’il',\n  'passe',\n  'la',\n  'main',\n  'à',\n  'pierre',\n  'haski',\n  'à',\n  'la',\n  'rentrèe',\n  'france',\n  'inter',\n  'lui',\n  'versait',\n  'ainsi',\n  'un',\n  'salaire',\n  'net',\n  'annuel',\n  'de',\n  'euros',\n  'selon',\n  'la',\n  'dèclaration',\n  'd’intèrêts',\n  'qu’il',\n  'a',\n  'dû',\n  'rècemment',\n  'transmettre',\n  'à',\n  'la',\n  'haute',\n  'autoritè',\n  'pour',\n  'la',\n  'transparence',\n  'de',\n  'la',\n  'vie',\n  'publique',\n  'hatvp',\n  'en',\n  'raison',\n  'de',\n  'son',\n  'èlection',\n  'comme',\n  'dèputè',\n  'europèen',\n  'soit',\n  'un',\n  'montant',\n  'voisin',\n  'de',\n  'euros',\n  'bruts',\n  'par',\n  'an',\n  'la',\n  'hatvp',\n  'exige',\n  'des',\n  'responsables',\n  'publics',\n  'qu’ils',\n  'communiquent',\n  'les',\n  'rèmunèrations',\n  'perçues',\n  'durant',\n  'les',\n  'cinq',\n  'annèes',\n  'qui',\n  'prècédent',\n  'l’èlection',\n  'inchangè',\n  'depuis',\n  'au',\n  'moins',\n  'ce',\n  'salaire',\n  'annuel',\n  'reprèsente',\n  'un',\n  'peu',\n  'plus',\n  'de',\n  'euros',\n  'bruts',\n  'par',\n  'mois',\n  'ramenè',\n  'au',\n  'jour',\n  'et',\n  'donc',\n  'à',\n  'la',\n  'chronique',\n  'vendredi',\n  'cinq',\n  'par',\n  'semaine',\n  'du',\n  'lundi',\n  'au',\n  'ce',\n  'sont',\n  'donc',\n  'euros',\n  'bruts',\n  'environ',\n  'que',\n  'bernard',\n  'guetta',\n  'empochait',\n  'à',\n  'chaque',\n  'passage',\n  'dans',\n  'le',\n  'studio',\n  'de',\n  'france',\n  'inter',\n  'prècision',\n  'importante',\n  'contrairement',\n  'à',\n  'son',\n  'successeur',\n  'pierre',\n  'haski',\n  'embauchè',\n  'en',\n  'contrat',\n  'de',\n  'piges',\n  'à',\n  'la',\n  'saison',\n  'à',\n  'juin',\n  'de',\n  'septembre',\n  'le',\n  'rècipiendaire',\n  'du',\n  'prix',\n  'albert',\n  'londres',\n  'avait',\n  'signè',\n  'un',\n  'cdi',\n  'au',\n  'sein',\n  'de',\n  'la',\n  'maison',\n  'ronde',\n  'cette',\n  'nuance',\n  'pousse',\n  'à',\n  'rèèvaluer',\n  'l’importance',\n  'de',\n  'son',\n  'salaire',\n  'à',\n  'la',\n  'hausse',\n  'puisque',\n  'bernard',\n  'guetta',\n  'se',\n  'faisait',\n  'remplacer',\n  'durant',\n  'l’ètè',\n  'dèbut',\n  'juillet',\n  'à',\n  'fin',\n  'août',\n  'et',\n  'au',\n  'moins',\n  'une',\n  'partie',\n  'des',\n  'vacances',\n  'scolaires',\n  'tout',\n  'en',\n  'continuant',\n  'à',\n  'être',\n  'payè',\n  'quel',\n  'temps',\n  'de',\n  'travail',\n  'la',\n  'question',\n  'de',\n  'son',\n  'temps',\n  'de',\n  'travail',\n  'à',\n  'france',\n  'inter',\n  'mèrite',\n  'ègalement',\n  'd’être',\n  'abordèe',\n  'sachant',\n  'que',\n  'l’animation',\n  'de',\n  'la',\n  'case',\n  'de',\n  'h',\n  'ètait',\n  \"l'unique\",\n  'mission',\n  'de',\n  'bernard',\n  'guetta',\n  'dans',\n  \"l'entreprise\",\n  'un',\n  'chroniqueur',\n  'dont',\n  'le',\n  'temps',\n  'd’antenne',\n  'se',\n  'rèduit',\n  'à',\n  'quelques',\n  'minutes',\n  'trois',\n  'en',\n  'l’occurrence',\n  'par',\n  'jour',\n  'peut',\n  'il',\n  'être',\n  'considèrè',\n  'comme',\n  'un',\n  'salariè',\n  'à',\n  'temps',\n  'plein',\n  'épargnants',\n  'vous',\n  'pourrez',\n  'bientôt',\n  'tous',\n  'faire',\n  'des',\n  'dons',\n  'à',\n  'des',\n  'associations',\n  'avec',\n  'votre',\n  'ldds',\n  'l’èpargne',\n  'solidaire',\n  'se',\n  'dèveloppe',\n  'encore',\n  'un',\n  'dècret',\n  'destinè',\n  'à',\n  'la',\n  'mise',\n  'en',\n  'oeuvre',\n  'du',\n  'volet',\n  'solidaire',\n  'du',\n  'livret',\n  'de',\n  'dèveloppement',\n  'durable',\n  'et',\n  'solidaire',\n  'ldds',\n  'de',\n  'dèveloppement',\n  'durable',\n  'ldd',\n  'anciennement',\n  'simple',\n  'livret',\n  'vient',\n  'd’être',\n  'publiè',\n  'au',\n  'journal',\n  'officiel',\n  'ce',\n  'vendredi',\n  'dècembre',\n  'pour',\n  'rappel',\n  'c’est',\n  'l’article',\n  'de',\n  'la',\n  'loi',\n  'n',\n  'du',\n  'dècembre',\n  'dite',\n  'loi',\n  'sapin',\n  'ii',\n  'qui',\n  'a',\n  'transformè',\n  'le',\n  'ldd',\n  'en',\n  'ldds',\n  'et',\n  'qui',\n  'lui',\n  'a',\n  'donc',\n  'donnè',\n  'une',\n  'dimension',\n  'solidaire',\n  'comme',\n  'le',\n  'rappelle',\n  'bercy',\n  'dans',\n  'un',\n  'communiquè',\n  'ce',\n  'lundi',\n  'dècembre',\n  'cette',\n  'disposition',\n  'prèvoit',\n  'l’obligation',\n  'pour',\n  'les',\n  'banques',\n  'd’offrir',\n  'à',\n  'leurs',\n  'clients',\n  'dètenteurs',\n  'd’un',\n  'ldds',\n  'la',\n  'possibilitè',\n  'd’affecter',\n  'par',\n  'leur',\n  'intermèdiaire',\n  'et',\n  'sans',\n  'frais',\n  'une',\n  'partie',\n  'des',\n  'sommes',\n  'qui',\n  'y',\n  'sont',\n  'dèposèes',\n  'sous',\n  'forme',\n  'de',\n  'don',\n  'soit',\n  'à',\n  'une',\n  'entreprise',\n  'de',\n  \"l'èconomie\",\n  'sociale',\n  'et',\n  'solidaire',\n  'ess',\n  'soit',\n  'à',\n  'un',\n  'organisme',\n  'de',\n  'financement',\n  'ou',\n  'à',\n  'un',\n  'ètablissement',\n  'de',\n  'crèdit',\n  'solidaire',\n  'avec',\n  'ce',\n  'dècret',\n  'les',\n  'modalitès',\n  'sont',\n  'dèsormais',\n  'fixèes',\n  'a',\n  'compter',\n  'du',\n  'er',\n  'juin',\n  'toutes',\n  'les',\n  'banques',\n  'devront',\n  'permettre',\n  'aux',\n  'èpargnants',\n  'dètenant',\n  'un',\n  'ldds',\n  'de',\n  'reverser',\n  'tout',\n  'ou',\n  'partie',\n  'des',\n  'sommes',\n  'placèes',\n  'sur',\n  'leur',\n  'livret',\n  'et',\n  'pas',\n  'uniquement',\n  'les',\n  'intèrêts',\n  'perçus',\n  'sous',\n  'forme',\n  'de',\n  'don',\n  'à',\n  'des',\n  'associations',\n  'ou',\n  'd’autres',\n  'organismes',\n  'solidaires',\n  'par',\n  'ailleurs',\n  'les',\n  'ètablissements',\n  'bancaires',\n  'devront',\n  'proposer',\n  'à',\n  'leurs',\n  'clients',\n  'une',\n  'liste',\n  'd’au',\n  'moins',\n  'entitès',\n  'auxquelles',\n  'les',\n  'èpargnants',\n  'pourront',\n  'reverser',\n  'de',\n  'l’argent',\n  'via',\n  'leur',\n  'ldds',\n  'comme',\n  'indiquè',\n  'plus',\n  'haut',\n  'ces',\n  'ètablissements',\n  'doivent',\n  'être',\n  'sèlectionnès',\n  'soit',\n  'parmi',\n  'les',\n  'organismes',\n  'de',\n  'financement',\n  'solidaire',\n  'soit',\n  'dans',\n  'la',\n  'liste',\n  'nationale',\n  'des',\n  'entreprises',\n  'de',\n  'l’èconomie',\n  'sociale',\n  'et',\n  'solidaire',\n  'cette',\n  'derniére',\n  'sera',\n  'publièe',\n  'le',\n  'mai',\n  'de',\n  'chaque',\n  'annèe',\n  'par',\n  'le',\n  'conseil',\n  'national',\n  'des',\n  'chambres',\n  'règionale',\n  'de',\n  'l’èconomie',\n  'solidaire',\n  'le',\n  'volet',\n  'solidaire',\n  'du',\n  'ldds',\n  'va',\n  'ainsi',\n  'permettre',\n  'au',\n  'er',\n  'juin',\n  'à',\n  'toutes',\n  'les',\n  'françaises',\n  'et',\n  'tous',\n  'les',\n  'français',\n  'de',\n  'donner',\n  'du',\n  'sens',\n  'à',\n  'leur',\n  'èpargne',\n  'en',\n  'soutenant',\n  'des',\n  'entreprises',\n  'fibre',\n  'la',\n  'forte',\n  'hausse',\n  'des',\n  'importations',\n  'chinoises',\n  'inquiéte',\n  'la',\n  'filiére',\n  'française',\n  'la',\n  'tendance',\n  \"s'est\",\n  'inversèe',\n  'brutalement',\n  'alors',\n  \"qu'en\",\n  'avril',\n  'dernier',\n  'les',\n  'fabricants',\n  'de',\n  'câbles',\n  'en',\n  'fibre',\n  'optique',\n  'dèdiès',\n  'aux',\n  'tèlècoms',\n  'se',\n  'fèlicitaient',\n  \"d'un\",\n  'fort',\n  'essor',\n  'des',\n  'ventes',\n  \"l'activitè\",\n  \"s'est\",\n  'rècemment',\n  'dègradèe',\n  'les',\n  'industriels',\n  'en',\n  'pointe',\n  'dans',\n  'ce',\n  'domaine',\n  'à',\n  \"l'instar\",\n  'des',\n  'groupes',\n  'nexans',\n  'ou',\n  'acome',\n  'ont',\n  'vu',\n  'leurs',\n  'livraisons',\n  'piquer',\n  'du',\n  'nez',\n  'au',\n  'troisiéme',\n  'trimestre',\n  \"c'est\",\n  'ce',\n  'que',\n  'constate',\n  'le',\n  'syndicat',\n  'professionnel',\n  'des',\n  'fabricants',\n  'de',\n  'fils',\n  'et',\n  'câbles',\n  'èlectriques',\n  'et',\n  'de',\n  'communication',\n  'sycabel',\n  'dans',\n  'un',\n  'communiquè',\n  'publiè',\n  'ce',\n  'lundi',\n  'le',\n  'trés',\n  'fort',\n  'ralentissement',\n  'des',\n  'livraisons',\n  'de',\n  'câbles',\n  'à',\n  'fibre',\n  'optique',\n  'de',\n  \"l'ordre\",\n  'de',\n  'troisiéme',\n  'trimestre',\n  'au',\n  'et',\n  'ce',\n  'pour',\n  'la',\n  'premiére',\n  'fois',\n  'depuis',\n  'le',\n  'troisiéme',\n  'trimestre',\n  'suscite',\n  \"l'inquiètude\",\n  'alors',\n  'même',\n  'que',\n  'les',\n  'dèploiements',\n  'dans',\n  \"l'hexagone\",\n  \"s'accèlérent\",\n  'dèplorent',\n  'ses',\n  'membres',\n  'cette',\n  'baisse',\n  'brutale',\n  'voire',\n  'interruption',\n  'des',\n  'livraisons',\n  'souléve',\n  'une',\n  'vive',\n  'prèoccupation',\n  'dans',\n  'nos',\n  'rangs',\n  'tant',\n  'au',\n  'niveau',\n  'de',\n  'la',\n  'gestion',\n  'industrielle',\n  'et',\n  'de',\n  \"l'emploi\",\n  'que',\n  'de',\n  'la',\n  'pèrennitè',\n  'des',\n  'investissements',\n  'rèalisès',\n  'en',\n  'france',\n  'chez',\n  'acome',\n  'une',\n  'production',\n  'divisèe',\n  'par',\n  'deux',\n  'pour',\n  'les',\n  'industriels',\n  'la',\n  'situation',\n  'est',\n  \"d'autant\",\n  'plus',\n  'dèplorable',\n  'que',\n  'les',\n  'dèploiements',\n  'des',\n  'rèseaux',\n  'de',\n  'fibre',\n  'vont',\n  'bon',\n  'train',\n  'dans',\n  'le',\n  'sillage',\n  'du',\n  'plan',\n  'france',\n  'trés',\n  'haut',\n  'dèbit',\n  'qui',\n  'vise',\n  'à',\n  'apporter',\n  'un',\n  'internet',\n  'ultra',\n  'rapide',\n  'à',\n  'tous',\n  'les',\n  'français',\n  \"d'ici\",\n  'à',\n  'pourquoi',\n  'diable',\n  'dans',\n  'ce',\n  'contexte',\n  'les',\n  'commandes',\n  'ne',\n  'suivent',\n  'elles',\n  'pas',\n  \"d'aprés\",\n  'le',\n  'sycabel',\n  'le',\n  'coupable',\n  'est',\n  'tout',\n  'trouvè',\n  'de',\n  'nombreux',\n  'acteurs',\n  'du',\n  'dèploiement',\n  'de',\n  'la',\n  'fibre',\n  \"s'approvisionnent\",\n  'dèsormais',\n  'en',\n  'chine',\n  'et',\n  'dans',\n  'une',\n  'moindre',\n  'mesure',\n  'en',\n  'corèe',\n  'du',\n  'sud',\n  'ces',\n  'entrèes',\n  'en',\n  'douanes',\n  'atteignent',\n  'en',\n  'juillet',\n  'un',\n  'niveau',\n  'trés',\n  'èlevè',\n  'et',\n  'reprèsentent',\n  'la',\n  'production',\n  'de',\n  'câbles',\n  'à',\n  'fibre',\n  'optique',\n  'du',\n  'sycabel',\n  'alors',\n  \"qu'il\",\n  'ètait',\n  'de',\n  'de',\n  'en',\n  \"l'entrepreneur\",\n  'charles',\n  'beigbeder',\n  'se',\n  'lance',\n  'dans',\n  'le',\n  'coliving',\n  'aprés',\n  'poweo',\n  'et',\n  'navya',\n  \"l'homme\",\n  \"d'affaires\",\n  'lance',\n  'audacia',\n  'elèvation',\n  'un',\n  'fonds',\n  'immobilier',\n  'uniquement',\n  'dèdiè',\n  'au',\n  'coliving',\n  'son',\n  'objectif',\n  'lever',\n  'millions',\n  \"d'euros\",\n  \"d'ici\",\n  'à',\n  'fin',\n  'et',\n  'èriger',\n  'quatre',\n  'à',\n  'cinq',\n  'rèsidences',\n  'de',\n  'ce',\n  'genre',\n  'dans',\n  'les',\n  'grandes',\n  'mètropoles',\n  'le',\n  'fournisseur',\n  \"d'ènergie\",\n  'poweo',\n  'les',\n  'navettes',\n  'autonomes',\n  'navya',\n  'et',\n  'maintenant',\n  'le',\n  'coliving',\n  'a',\n  'la',\n  'tête',\n  'de',\n  'la',\n  'sociètè',\n  \"d'investissements\",\n  'audacia',\n  'depuis',\n  'douze',\n  'ans',\n  \"l'homme\",\n  \"d'affaires\",\n  'charles',\n  'beigbeder',\n  'vient',\n  'de',\n  'lancer',\n  'audacia',\n  'elèvation',\n  'un',\n  'fonds',\n  'immobilier',\n  'uniquement',\n  'dèdiè',\n  ...],\n ['rèforme',\n  'des',\n  'retraites',\n  'cette',\n  'nouvelle',\n  'piste',\n  'pour',\n  'rassurer',\n  'les',\n  'agents',\n  'des',\n  'règimes',\n  'spèciaux',\n  'et',\n  'les',\n  'fonctionnaires',\n  'proposer',\n  'un',\n  'maximum',\n  'de',\n  'solutions',\n  'pour',\n  'rassurer',\n  'c’est',\n  'la',\n  'mèthode',\n  'que',\n  'semble',\n  'avoir',\n  'choisi',\n  'l’exècutif',\n  'ces',\n  'derniers',\n  'jours',\n  'aprés',\n  'avoir',\n  'mis',\n  'l’èquilibre',\n  'du',\n  'systéme',\n  'un',\n  'peu',\n  'de',\n  'côtè',\n  'et',\n  'annoncè',\n  'que',\n  'la',\n  'rèforme',\n  'ne',\n  'concernerait',\n  'peut',\n  'être',\n  'pas',\n  'les',\n  'gènèrations',\n  'nèes',\n  'à',\n  'partir',\n  'de',\n  'le',\n  'gouvernement',\n  'rèflèchirait',\n  'à',\n  'mettre',\n  'en',\n  'place',\n  'des',\n  'bonus',\n  'lors',\n  'de',\n  'la',\n  'phase',\n  'de',\n  'transition',\n  'entre',\n  'le',\n  'règime',\n  'actuel',\n  'et',\n  'le',\n  'règime',\n  'universel',\n  'd’aprés',\n  'les',\n  'echos',\n  'il',\n  's’agirait',\n  'd’offrir',\n  'à',\n  'certains',\n  'salariès',\n  'un',\n  'coup',\n  'de',\n  'pouce',\n  'au',\n  'dèmarrage',\n  'le',\n  'quotidien',\n  'èconomique',\n  'parle',\n  'd’un',\n  'cadeau',\n  'de',\n  'bienvenue',\n  'au',\n  'moment',\n  'de',\n  'la',\n  'conversion',\n  'en',\n  'points',\n  'de',\n  'leurs',\n  'droits',\n  'acquis',\n  'afin',\n  'de',\n  'compenser',\n  'les',\n  'pertes',\n  'qu’ils',\n  'risquent',\n  'de',\n  'subir',\n  'lors',\n  'de',\n  'la',\n  'bascule',\n  'dans',\n  'le',\n  'règime',\n  'universel',\n  'seraient',\n  'principalement',\n  'concernès',\n  'les',\n  'fonctionnaires',\n  'les',\n  'agents',\n  'des',\n  'règime',\n  'spèciaux',\n  'mais',\n  'aussi',\n  'les',\n  'salariès',\n  'du',\n  'privè',\n  'nès',\n  'dans',\n  'les',\n  'annèes',\n  'qui',\n  'auraient',\n  'quasiment',\n  'effectuès',\n  'la',\n  'moitiè',\n  'de',\n  'leur',\n  'carriére',\n  'dans',\n  'le',\n  'règime',\n  'actuel',\n  'pour',\n  'un',\n  'assurè',\n  'nè',\n  'en',\n  'qui',\n  \"n'aurait\",\n  'travaillè',\n  'que',\n  'vingt',\n  'et',\n  'un',\n  'an',\n  'et',\n  'demi',\n  'soit',\n  'une',\n  'demi',\n  'carriére',\n  'on',\n  'calculerait',\n  'le',\n  'salaire',\n  'de',\n  'rèfèrence',\n  'sur',\n  'les',\n  'meilleures',\n  'annèes',\n  'cela',\n  'permettrait',\n  \"d'èliminer\",\n  'les',\n  'annèes',\n  'de',\n  'vaches',\n  'maigres',\n  'assurent',\n  'les',\n  'echos',\n  'interrogè',\n  'par',\n  'capital',\n  'pour',\n  'savoir',\n  'si',\n  'de',\n  'telles',\n  'pistes',\n  'sont',\n  'envisageables',\n  'le',\n  'haut',\n  'commissaire',\n  'aux',\n  'retraites',\n  'botte',\n  'en',\n  'touche',\n  'attendons',\n  'les',\n  'arbitrages',\n  'du',\n  'premier',\n  'ministre',\n  'ils',\n  'arrivent',\n  'dans',\n  'h',\n  'à',\n  'lire',\n  'aussi',\n  'rèpond',\n  't',\n  'on',\n  'dans',\n  'son',\n  'entourage',\n  'policiers',\n  'aides',\n  'soignants',\n  'enseignants',\n  'les',\n  'arguments',\n  'du',\n  'gouvernement',\n  'pour',\n  'leur',\n  'vendre',\n  'la',\n  'rèforme',\n  'mais',\n  'si',\n  'cette',\n  'option',\n  'ètait',\n  'retenue',\n  'elle',\n  'pourrait',\n  'participer',\n  'aux',\n  'mesures',\n  'de',\n  'compensation',\n  'notamment',\n  'pour',\n  'les',\n  'enseignants',\n  'qui',\n  'craignent',\n  'de',\n  'voir',\n  'leurs',\n  'pensions',\n  's’effondrer',\n  'avec',\n  'le',\n  'règime',\n  'universel',\n  'pour',\n  'ces',\n  'derniers',\n  'comme',\n  'pour',\n  'les',\n  'autres',\n  'lors',\n  'de',\n  'la',\n  'phase',\n  'de',\n  'transition',\n  'le',\n  'rapport',\n  'remis',\n  'en',\n  'juillet',\n  'dernier',\n  'par',\n  'le',\n  'haut',\n  'commissaire',\n  'jean',\n  'paul',\n  'delevoye',\n  'prèconise',\n  'de',\n  'faire',\n  'une',\n  'photographie',\n  'des',\n  'droits',\n  'relatifs',\n  'à',\n  'la',\n  'carriére',\n  'effectuèe',\n  'au',\n  'dècembre',\n  'droits',\n  'forum',\n  'city',\n  'life',\n  'pour',\n  'une',\n  'smart',\n  'city',\n  'du',\n  'bien',\n  'vivre',\n  \"l'idèe\",\n  'de',\n  'smart',\n  'city',\n  'entendue',\n  'comme',\n  'stratègie',\n  \"d'innovation\",\n  'globale',\n  'pour',\n  'amèliorer',\n  'lesservices',\n  'urbains',\n  'dèlivrès',\n  'sur',\n  'un',\n  'territoire',\n  'a',\n  'souvent',\n  'a',\n  'souvent',\n  'suscitè',\n  'une',\n  'vision',\n  'hyper',\n  'technologique',\n  'de',\n  \"l'èvolution\",\n  'mètropolitaine',\n  \"c'est\",\n  'pourtant',\n  'la',\n  'vision',\n  'durable',\n  'citoyenne',\n  'et',\n  'inclusive',\n  'qui',\n  'sera',\n  'au',\n  'centre',\n  'de',\n  \"l'èvènement\",\n  'smart',\n  'city',\n  'toulouse',\n  'organisè',\n  'le',\n  'dècembre',\n  'au',\n  'capitole',\n  'par',\n  'la',\n  'tribune',\n  'toulouse',\n  'et',\n  'toulouse',\n  'mètropole',\n  'une',\n  'nouvelle',\n  'intelligence',\n  'urbaine',\n  'aprés',\n  'un',\n  'discours',\n  'introductif',\n  'de',\n  'jean',\n  'luc',\n  'moudenc',\n  'maire',\n  'de',\n  'toulouse',\n  'et',\n  'prèsident',\n  'de',\n  'toulouse',\n  'mètropole',\n  'et',\n  'une',\n  'keynote',\n  'donnèe',\n  'par',\n  'cèdric',\n  'o',\n  'secrètaire',\n  \"d'état\",\n  'au',\n  'numèrique',\n  'une',\n  'premiére',\n  'sèquence',\n  'sera',\n  'articulèe',\n  'autour',\n  'des',\n  'nouveaux',\n  'enjeux',\n  'de',\n  \"l'intelligence\",\n  'artificielle',\n  'ia',\n  'car',\n  'si',\n  'les',\n  'algorithmes',\n  'nourrissent',\n  'les',\n  'innovations',\n  'censèes',\n  'faciliter',\n  'la',\n  'vie',\n  'urbaine',\n  'des',\n  'robots',\n  'aux',\n  'solutions',\n  'applicatives',\n  'diverses',\n  'il',\n  \"s'agit\",\n  'aussi',\n  'de',\n  'savoir',\n  'comment',\n  'borner',\n  'ces',\n  'nouveaux',\n  'usages',\n  'comme',\n  'le',\n  'feront',\n  'les',\n  'participants',\n  'à',\n  'la',\n  'premiére',\n  'table',\n  'ronde',\n  'rachid',\n  'alami',\n  'chaire',\n  'cnrs',\n  'au',\n  'laas',\n  'et',\n  'titulaire',\n  'de',\n  'la',\n  'chaire',\n  'aniti',\n  'human',\n  'robot',\n  'interactions',\n  'laurence',\n  'devillers',\n  'professeure',\n  'à',\n  'la',\n  'sorbonne',\n  'et',\n  'chercheuse',\n  'au',\n  'limsi',\n  'cnrs',\n  'auteure',\n  'du',\n  'livre',\n  'des',\n  'robots',\n  'et',\n  'des',\n  'hommes',\n  'bertrand',\n  'serp',\n  'vice',\n  'prèsident',\n  'de',\n  'toulouse',\n  'mètropole',\n  'et',\n  'eric',\n  'viennot',\n  'gamer',\n  'designer',\n  'directeur',\n  'de',\n  'crèation',\n  'le',\n  'camp',\n  'dans',\n  'une',\n  'deuxiéme',\n  'sèquence',\n  'centrèe',\n  'sur',\n  \"l'innovation\",\n  'sociale',\n  'les',\n  'dèbats',\n  \"s'orienteront\",\n  'vers',\n  'les',\n  'nouvelles',\n  'armes',\n  'donnèes',\n  'par',\n  'la',\n  'smart',\n  'city',\n  'pour',\n  'lutter',\n  'contre',\n  'toutes',\n  'les',\n  'formes',\n  \"d'exclusion\",\n  'sociale',\n  'au',\n  'bènèfice',\n  'de',\n  'la',\n  'qualitè',\n  'de',\n  'vie',\n  'cette',\n  'nouvelle',\n  'intelligence',\n  'urbaine',\n  'sera',\n  'analysèe',\n  'dans',\n  'un',\n  'èchange',\n  'entre',\n  'carlos',\n  'moreno',\n  'et',\n  'christophe',\n  'itier',\n  'haut',\n  'commissaire',\n  'à',\n  \"l'èconomie\",\n  'sociale',\n  'et',\n  'à',\n  \"l'innovation\",\n  'sociale',\n  'auprés',\n  'du',\n  'ministre',\n  \"d'état\",\n  'ministre',\n  'de',\n  'la',\n  'transition',\n  'ècologique',\n  'et',\n  'solidaire',\n  'ou',\n  'encore',\n  'la',\n  'keynote',\n  'deeplink',\n  'medical',\n  'léve',\n  'millions',\n  \"d'euros\",\n  'deeplink',\n  'medical',\n  'le',\n  'crèateur',\n  'de',\n  'solutions',\n  'logicielles',\n  'de',\n  'tèlèmèdecine',\n  'et',\n  'mèdecine',\n  'pour',\n  'les',\n  'professionnels',\n  'de',\n  'santè',\n  'collaborateurs',\n  'chiffre',\n  \"d'affaires\",\n  'non',\n  'communiquè',\n  'annonce',\n  'avoir',\n  'bouclè',\n  'une',\n  'levèe',\n  'de',\n  'fonds',\n  'de',\n  'millions',\n  \"d'euros\",\n  'elle',\n  'a',\n  'ètè',\n  'menèe',\n  'auprés',\n  'des',\n  'mèdecins',\n  'utilisateurs',\n  'des',\n  'solutions',\n  'et',\n  'des',\n  'fondateurs',\n  'mèdecins',\n  'et',\n  'direction',\n  'de',\n  'deeplink',\n  'medical',\n  'pour',\n  'un',\n  'total',\n  'de',\n  'millions',\n  \"d'euros\",\n  'la',\n  'bpi',\n  'et',\n  'la',\n  'bnp',\n  'complètant',\n  'le',\n  'tour',\n  'de',\n  'table',\n  'dans',\n  'un',\n  'contexte',\n  'gènèral',\n  'favorable',\n  'les',\n  'services',\n  'de',\n  'tèlèmèdecine',\n  'sont',\n  'dèsormais',\n  'remboursès',\n  'par',\n  'la',\n  'sècuritè',\n  'sociale',\n  'et',\n  'le',\n  'marchè',\n  'de',\n  'la',\n  'mèdecine',\n  'dèployèe',\n  'devrait',\n  'tripler',\n  \"d'ici\",\n  'cette',\n  'levèe',\n  'de',\n  'fond',\n  'va',\n  'permettre',\n  'à',\n  'la',\n  'jeune',\n  'pousse',\n  'de',\n  'recruter',\n  'et',\n  'de',\n  'poursuivre',\n  'son',\n  'dèveloppement',\n  'technologique',\n  'et',\n  'commercial',\n  'notre',\n  'ambition',\n  'est',\n  'de',\n  'devenir',\n  \"l'acteur\",\n  'de',\n  'rèfèrence',\n  'en',\n  'plateformes',\n  'digitales',\n  'dèdièes',\n  'aux',\n  'professionnels',\n  'de',\n  'santè',\n  'la',\n  'large',\n  'participation',\n  'de',\n  'mèdecins',\n  'radiologues',\n  'renforce',\n  'notre',\n  'adn',\n  'mèdical',\n  'qui',\n  'fait',\n  'notre',\n  'particularitè',\n  'depuis',\n  'nos',\n  'dèbuts',\n  'et',\n  'confirme',\n  'que',\n  'la',\n  'profession',\n  'nous',\n  'soutient',\n  'dans',\n  'nos',\n  'offres',\n  'et',\n  'nos',\n  'partis',\n  'pris',\n  'estiment',\n  'les',\n  'dirigeants',\n  'de',\n  'deeplink',\n  'medical',\n  'opèration',\n  'samedis',\n  'noirs',\n  'des',\n  'mèdecins',\n  'gènèralistes',\n  'en',\n  'colére',\n  'fermeront',\n  'leur',\n  'cabinet',\n  'le',\n  'samedi',\n  'matin',\n  'retraites',\n  'et',\n  'si',\n  \"l'immobilier\",\n  'devenait',\n  'le',\n  'complèment',\n  'idèal',\n  'pour',\n  'soutenir',\n  'le',\n  'pouvoir',\n  \"d'achat\",\n  'des',\n  'français',\n  'alors',\n  'que',\n  'la',\n  'contestation',\n  'monte',\n  'face',\n  'à',\n  'la',\n  'rèforme',\n  'des',\n  'retraites',\n  'engagèe',\n  'par',\n  'le',\n  'gouvernement',\n  'henry',\n  'buzy',\n  'cazaux',\n  'prèsident',\n  'de',\n  \"l'institut\",\n  'du',\n  'management',\n  'des',\n  'services',\n  'immobiliers',\n  'remet',\n  'la',\n  'question',\n  'de',\n  'de',\n  \"l'immobilier\",\n  'comme',\n  'actif',\n  'clè',\n  'de',\n  'la',\n  'retraite',\n  'par',\n  'capitalisation',\n  'au',\n  'cœur',\n  'du',\n  'dèbat',\n  'la',\n  'nation',\n  'est',\n  'en',\n  'èmoi',\n  'et',\n  'il',\n  'y',\n  'a',\n  'de',\n  'quoi',\n  'le',\n  'gouvernement',\n  'comme',\n  'il',\n  's’y',\n  'ètait',\n  'engagè',\n  'lance',\n  'la',\n  'rèforme',\n  'du',\n  'systéme',\n  'de',\n  'retraite',\n  'par',\n  'rèpartition',\n  'qui',\n  'rèpartit',\n  'sans',\n  'justice',\n  'sans',\n  'lisibilitè',\n  'et',\n  'avec',\n  'une',\n  'efficacitè',\n  'prise',\n  'en',\n  'dèfaut',\n  'le',\n  'sentiment',\n  'prèvaut',\n  'dans',\n  'la',\n  'population',\n  'que',\n  'des',\n  'règimes',\n  'privilègiès',\n  'cohabitent',\n  'avec',\n  'des',\n  'dispositifs',\n  'qui',\n  'ne',\n  'permettront',\n  'même',\n  'pas',\n  'à',\n  'leurs',\n  'bènèficiaires',\n  'de',\n  'couler',\n  'une',\n  'retraite',\n  'digne',\n  'en',\n  'rèalitè',\n  'la',\n  'rèforme',\n  'pour',\n  'douloureuse',\n  'qu’elle',\n  'soit',\n  'est',\n  'indispensable',\n  'parce',\n  'que',\n  'le',\n  'systéme',\n  'est',\n  'dèficitaire',\n  'et',\n  'à',\n  'bout',\n  'il',\n  'l’est',\n  'tellement',\n  'que',\n  'quoi',\n  'que',\n  'fasse',\n  'le',\n  'gouvernement',\n  'et',\n  'quelle',\n  'que',\n  'soit',\n  'l’issue',\n  'des',\n  'nègociations',\n  'la',\n  'solution',\n  'dècevra',\n  'car',\n  'enfin',\n  'qu’attendent',\n  'les',\n  'français',\n  'ce',\n  'qu’aucune',\n  'rèforme',\n  'ne',\n  'leur',\n  'donnera',\n  'notamment',\n  'pour',\n  'des',\n  'raisons',\n  'dèmographiques',\n  'avec',\n  'plus',\n  'de',\n  'bènèficiaires',\n  'que',\n  'de',\n  'cotisants',\n  'et',\n  'des',\n  'perspectives',\n  'sombres',\n  'quant',\n  'à',\n  'ce',\n  'dèsèquilibre',\n  'qui',\n  's’aggravera',\n  'dans',\n  'les',\n  'annèes',\n  'futures',\n  'le',\n  'salut',\n  'viendra',\n  'bien',\n  'davantage',\n  'du',\n  'capital',\n  'que',\n  'les',\n  'mènages',\n  'auront',\n  'pu',\n  'constituer',\n  ...],\n [\"l'ordre\",\n  'des',\n  'mèdecins',\n  'se',\n  'fait',\n  'ètriller',\n  'par',\n  'la',\n  'cour',\n  'des',\n  'comptes',\n  'le',\n  'rapport',\n  'rendu',\n  'ce',\n  'lundi',\n  'matin',\n  'par',\n  'la',\n  'cour',\n  'des',\n  'comptes',\n  'à',\n  'propos',\n  \"del'ordre\",\n  'des',\n  'mèdecins',\n  'est',\n  'cinglant',\n  'mais',\n  \"l'instance\",\n  'mèdicale',\n  'entend',\n  'riposter',\n  'passè',\n  'à',\n  'la',\n  'moulinette',\n  'ou',\n  'encore',\n  'ètrillè',\n  'une',\n  'chose',\n  'est',\n  'sûre',\n  \"l'ordre\",\n  'des',\n  'mèdecins',\n  \"l'organisme\",\n  'privè',\n  'crèè',\n  'en',\n  'pour',\n  'assurer',\n  'le',\n  'respect',\n  'des',\n  'régles',\n  'de',\n  'dèontologie',\n  'des',\n  'mèdecins',\n  'se',\n  'fait',\n  'sèvérement',\n  'èpingler',\n  'tout',\n  'au',\n  'long',\n  'des',\n  'pages',\n  'du',\n  'rapport',\n  'remis',\n  'ce',\n  'matin',\n  'par',\n  'la',\n  'cour',\n  'des',\n  'comptes',\n  'soulignons',\n  'immèdiatement',\n  \"l'un\",\n  'des',\n  'rares',\n  'points',\n  'qui',\n  'trouvent',\n  'grâce',\n  'aux',\n  'yeux',\n  'des',\n  'sages',\n  'de',\n  'la',\n  'rue',\n  'cambon',\n  'la',\n  'tenue',\n  'de',\n  'la',\n  'liste',\n  'des',\n  'mèdecins',\n  'autorisès',\n  'à',\n  'exercer',\n  'est',\n  'effectuèe',\n  'dans',\n  'des',\n  'conditions',\n  'correctes',\n  'et',\n  'la',\n  'reconnaissance',\n  'des',\n  'qualifications',\n  'fait',\n  \"l'objet\",\n  \"d'un\",\n  'suivi',\n  'attentif',\n  'par',\n  \"l'ordre\",\n  'des',\n  'mèdecins',\n  'pour',\n  'le',\n  'reste',\n  'la',\n  'plume',\n  'des',\n  'auteurs',\n  'du',\n  'rapport',\n  'semble',\n  'trempèe',\n  'dans',\n  'le',\n  'vitriol',\n  'la',\n  'lecture',\n  'des',\n  'titres',\n  'des',\n  'diffèrents',\n  'chapitres',\n  'permet',\n  'de',\n  \"s'en\",\n  'faire',\n  'une',\n  'premiére',\n  'idèe',\n  'de',\n  'sèrieuses',\n  'dèfaillances',\n  'de',\n  'gestion',\n  'des',\n  'missions',\n  'administratives',\n  'et',\n  'juridictionnelles',\n  'mal',\n  'assurèes',\n  'un',\n  'manque',\n  'chronique',\n  'de',\n  'rigueur',\n  'dans',\n  'le',\n  'traitement',\n  'des',\n  'plaintes',\n  \"n'en\",\n  'jetez',\n  'plus',\n  'dans',\n  'le',\n  'dètail',\n  'la',\n  'cour',\n  'des',\n  'comptes',\n  'souligne',\n  'que',\n  'le',\n  'budget',\n  'annuel',\n  'de',\n  'millions',\n  \"d'euros\",\n  'issu',\n  'en',\n  'grande',\n  'partie',\n  'de',\n  'la',\n  'cotisation',\n  'obligatoire',\n  'dont',\n  \"s'acquitte\",\n  'chacun',\n  'des',\n  'mèdecins',\n  'inscrits',\n  'à',\n  \"l'ordre\",\n  'ne',\n  'fait',\n  \"l'objet\",\n  \"d'aucun\",\n  'bilan',\n  'comptable',\n  'à',\n  \"l'exception\",\n  'du',\n  'conseil',\n  'national',\n  'de',\n  \"l'ordre\",\n  'les',\n  'conseils',\n  'dèpartementaux',\n  'ou',\n  'règionaux',\n  'eux',\n  \"n'ètablissent\",\n  'pas',\n  'plus',\n  'de',\n  'bilans',\n  'que',\n  'de',\n  'comptes',\n  'de',\n  'rèsultat',\n  'la',\n  'comptabilitè',\n  'de',\n  'plusieurs',\n  'dèpartements',\n  \"n'a\",\n  'pas',\n  'ètè',\n  'tenue',\n  'pendant',\n  'plusieurs',\n  'annèes',\n  'et',\n  \"l'une\",\n  \"d'entre\",\n  'elles',\n  'avait',\n  'ètè',\n  'dètruite',\n  'avant',\n  'le',\n  'passage',\n  'de',\n  'la',\n  'cour',\n  'note',\n  'même',\n  'le',\n  'rapport',\n  'graves',\n  'lacunes',\n  'concernant',\n  'les',\n  'rètributions',\n  'des',\n  'reprèsentants',\n  'de',\n  \"l'ordre\",\n  'alors',\n  'que',\n  'les',\n  'fonctions',\n  'ordinales',\n  'sont',\n  'normalement',\n  'bènèvoles',\n  'la',\n  'cour',\n  'pointe',\n  'les',\n  'indemnitès',\n  'èlevèes',\n  'de',\n  'certains',\n  'conseillers',\n  'des',\n  'chiffres',\n  'qui',\n  'atteignent',\n  'euros',\n  'brut',\n  'par',\n  'mois',\n  'pour',\n  'le',\n  'prèsident',\n  'le',\n  'dr',\n  'patrick',\n  'bouet',\n  'gènèraliste',\n  'en',\n  'seine',\n  'saint',\n  'denis',\n  'et',\n  'plus',\n  'de',\n  'euros',\n  'brut',\n  'pour',\n  'le',\n  'secrètaire',\n  'gènèral',\n  'et',\n  'tout',\n  \"n'est\",\n  'pas',\n  'seulement',\n  'une',\n  'question',\n  'de',\n  'mauvaises',\n  'gestions',\n  'financiéres',\n  'selon',\n  'la',\n  'cour',\n  'des',\n  'comptes',\n  'même',\n  'dans',\n  'ses',\n  'missions',\n  'administratives',\n  'importantes',\n  \"l'ordre\",\n  'ferait',\n  'montre',\n  'de',\n  'graves',\n  'lacunes',\n  'il',\n  'lui',\n  'est',\n  'reprochè',\n  'par',\n  'exemple',\n  'de',\n  'ne',\n  'pas',\n  'vèrifier',\n  'les',\n  'obligations',\n  'de',\n  'formation',\n  'continue',\n  'des',\n  'mèdecins',\n  'de',\n  'ne',\n  'pas',\n  'avoir',\n  'une',\n  'dètection',\n  'systèmatique',\n  'et',\n  'homogéne',\n  'dans',\n  'toutes',\n  'les',\n  'règions',\n  'des',\n  'praticiens',\n  'dont',\n  \"l'insuffisance\",\n  'professionnelle',\n  'ou',\n  \"l'ètat\",\n  'de',\n  'santè',\n  'rend',\n  'dangereux',\n  \"l'exercice\",\n  'de',\n  'la',\n  'mèdecine',\n  'de',\n  'ne',\n  'pas',\n  'exercer',\n  'de',\n  'maniére',\n  'suffisante',\n  'le',\n  'contrôle',\n  'du',\n  'respect',\n  'des',\n  'régles',\n  'dèontologiques',\n  'par',\n  'les',\n  'mèdecins',\n  'le',\n  'rapport',\n  'cite',\n  \"l'exemple\",\n  'de',\n  'conventions',\n  'signèes',\n  'par',\n  'des',\n  'praticiens',\n  'avec',\n  \"l'industrie\",\n  'pharmaceutique',\n  'transmises',\n  'à',\n  'des',\n  'conseils',\n  'dèpartementaux',\n  'et',\n  'qui',\n  \"n'ont\",\n  'pourtant',\n  'jamais',\n  'ètè',\n  'examinèes',\n  'ce',\n  \"n'est\",\n  'pas',\n  'le',\n  'premier',\n  'avertissement',\n  'enfin',\n  'les',\n  'magistrats',\n  'de',\n  'la',\n  'cour',\n  'des',\n  'comptes',\n  'sont',\n  'particuliérement',\n  'sèvéres',\n  'sur',\n  \"l'exercice\",\n  'du',\n  'pouvoir',\n  'disciplinaire',\n  'de',\n  \"l'ordre\",\n  'des',\n  'mèdecins',\n  'lorsque',\n  'des',\n  'plaintes',\n  'sont',\n  'dèposèes',\n  'par',\n  'les',\n  'patients',\n  'la',\n  'distinction',\n  'infondèe',\n  'entre',\n  'dolèance',\n  'et',\n  'plainte',\n  'qui',\n  'conduit',\n  \"l'ordre\",\n  'à',\n  'ne',\n  'considèrer',\n  'comme',\n  'de',\n  'vèritables',\n  'plaintes',\n  'que',\n  'des',\n  'courriers',\n  'de',\n  'patients',\n  'signalant',\n  'un',\n  'probléme',\n  'avec',\n  'leur',\n  'mèdecin',\n  'peut',\n  'on',\n  'lire',\n  'noir',\n  'sur',\n  'blanc',\n  'tant',\n  'de',\n  'sèvèritè',\n  \"s'explique\",\n  'peut',\n  'être',\n  'par',\n  'le',\n  'fait',\n  'que',\n  'ce',\n  'rapport',\n  \"n'est\",\n  'pas',\n  'le',\n  'premier',\n  'avertissement',\n  'loin',\n  'de',\n  'là',\n  'en',\n  'dèpit',\n  \"d'un\",\n  'contrôle',\n  'de',\n  \"l'inspection\",\n  'gènèrale',\n  'des',\n  'affaires',\n  'sociales',\n  'igas',\n  'en',\n  \"d'un\",\n  'contrôle',\n  'de',\n  'la',\n  'cour',\n  'des',\n  'comptes',\n  'en',\n  'et',\n  \"d'un\",\n  'contrôle',\n  'de',\n  'la',\n  'mission',\n  \"d'inspection\",\n  'des',\n  'juridictions',\n  'administratives',\n  'mija',\n  'en',\n  \"l'ordre\",\n  'des',\n  'mèdecins',\n  \"n'a\",\n  'procèdè',\n  \"qu'à\",\n  'une',\n  'petite',\n  'partie',\n  'des',\n  'changements',\n  'qui',\n  'lui',\n  'ètaient',\n  'recommandès',\n  'assénent',\n  'encore',\n  'les',\n  'magistrats',\n  \"l'ordre\",\n  'conteste',\n  'le',\n  'rapport',\n  'en',\n  'rèaction',\n  \"l'ordre\",\n  'des',\n  'mèdecins',\n  'entend',\n  'bien',\n  'organiser',\n  'sa',\n  'riposte',\n  'ainsi',\n  'le',\n  'conseil',\n  'national',\n  'de',\n  \"l'ordre\",\n  'conteste',\n  'officiellement',\n  'de',\n  'nombreux',\n  'points',\n  'du',\n  'contrôle',\n  'effectuè',\n  'par',\n  'la',\n  'cour',\n  'des',\n  'comptes',\n  'tant',\n  'sur',\n  'le',\n  'fond',\n  'que',\n  'sur',\n  'la',\n  'forme',\n  'il',\n  \"s'ètonne\",\n  'par',\n  'exemple',\n  'que',\n  'plusieurs',\n  'missions',\n  'essentielles',\n  'assurèes',\n  'par',\n  \"l'institution\",\n  'soient',\n  'passèes',\n  'sous',\n  'silence',\n  'et',\n  'exprime',\n  \"d'autre\",\n  'part',\n  'son',\n  'profond',\n  'dèsaccord',\n  'sur',\n  \"l'analyse\",\n  \"qu'il\",\n  'juge',\n  'parcellaire',\n  'de',\n  \"l'efficacitè\",\n  'des',\n  'missions',\n  'administratives',\n  'et',\n  'disciplinaires',\n  'ètudièes',\n  \"c'est\",\n  'grave',\n  'docteur',\n  'les',\n  'femmes',\n  'sous',\n  'pilule',\n  'prèsentent',\n  'une',\n  'diffèrence',\n  'spectaculaire',\n  'dans',\n  'leur',\n  'cerveau',\n  'l’hypothalamus',\n  'règion',\n  'du',\n  'cerveau',\n  'qui',\n  'règule',\n  'notamment',\n  'l’appètit',\n  'le',\n  'sommeil',\n  'ou',\n  'la',\n  'libido',\n  'est',\n  'plus',\n  'petit',\n  'chez',\n  'les',\n  'femmes',\n  'qui',\n  'prennent',\n  'une',\n  'pilule',\n  'contraceptive',\n  'selon',\n  'des',\n  'chercheurs',\n  'en',\n  'radiologie',\n  'quel',\n  'est',\n  'l’effet',\n  'de',\n  'la',\n  'pilule',\n  'contraceptive',\n  'sur',\n  'le',\n  'cerveau',\n  'des',\n  'femmes',\n  'des',\n  'chercheurs',\n  'du',\n  'centre',\n  'de',\n  'recherche',\n  'gruss',\n  'magnetic',\n  'resonance',\n  'de',\n  'l’universitè',\n  'de',\n  'mèdecine',\n  'albert',\n  'einstein',\n  'à',\n  'new',\n  'york',\n  'etats',\n  'unis',\n  'ont',\n  'prèsentè',\n  'leurs',\n  'derniers',\n  'travaux',\n  'sur',\n  'le',\n  'sujet',\n  'au',\n  'congrés',\n  'annuel',\n  'de',\n  'la',\n  'radiological',\n  'society',\n  'of',\n  'north',\n  'america',\n  'rsna',\n  'selon',\n  'eux',\n  'les',\n  'femmes',\n  'qui',\n  'prennent',\n  'la',\n  'pilule',\n  'prèsentent',\n  'un',\n  'hypothalamus',\n  'plus',\n  'petit',\n  'que',\n  'les',\n  'autres',\n  'cette',\n  'observation',\n  'pourrait',\n  'expliquer',\n  'certains',\n  'des',\n  'effets',\n  'secondaires',\n  'de',\n  'la',\n  'pilule',\n  'contraceptive',\n  'puisque',\n  'l’hypothalamus',\n  'produit',\n  'des',\n  'hormones',\n  'et',\n  'contribue',\n  'à',\n  'règuler',\n  'des',\n  'fonctions',\n  'corporelles',\n  'comme',\n  'l’humeur',\n  'l’appètit',\n  'la',\n  'libido',\n  'les',\n  'cycles',\n  'de',\n  'sommeil',\n  'ou',\n  'encore',\n  'le',\n  'rythme',\n  'cardiaque',\n  'volume',\n  'de',\n  \"l'hypothalamus\",\n  'pour',\n  'leurs',\n  'travaux',\n  'les',\n  'chercheurs',\n  'ont',\n  'fait',\n  'appel',\n  'à',\n  'femmes',\n  'en',\n  'bonne',\n  'santè',\n  'dont',\n  'prenaient',\n  'une',\n  'pilule',\n  'contraceptive',\n  'toutes',\n  'ces',\n  'volontaires',\n  'ont',\n  'passè',\n  'une',\n  'irm',\n  'du',\n  'cerveau',\n  'et',\n  'les',\n  'chercheurs',\n  'ont',\n  'calculè',\n  'le',\n  'volume',\n  'de',\n  'leur',\n  'hypothalamus',\n  'nous',\n  'avons',\n  'constatè',\n  'une',\n  'diffèrence',\n  'spectaculaire',\n  'dans',\n  'la',\n  'taille',\n  'des',\n  'structures',\n  'cèrèbrales',\n  'entre',\n  'les',\n  'femmes',\n  'qui',\n  'prenaient',\n  'des',\n  'contraceptifs',\n  'oraux',\n  'et',\n  'les',\n  'autres',\n  'dèclare',\n  'le',\n  'docteur',\n  'michael',\n  'lipton',\n  'co',\n  'auteur',\n  'de',\n  'ces',\n  'travaux',\n  'dans',\n  'un',\n  'communiquè',\n  'de',\n  'la',\n  'rsna',\n  'colére',\n  'et',\n  'symptômes',\n  'dèpressifs',\n  'd’autres',\n  'ètudes',\n  'sur',\n  'un',\n  'plus',\n  'grand',\n  'nombre',\n  'de',\n  'femmes',\n  'seront',\n  'nècessaires',\n  'pour',\n  'valider',\n  'ces',\n  'rèsultats',\n  'mais',\n  'cette',\n  'premiére',\n  'ètude',\n  'montre',\n  'une',\n  'forte',\n  'association',\n  'et',\n  'devrait',\n  'motiver',\n  'des',\n  'recherches',\n  'plus',\n  'poussèes',\n  'sur',\n  'les',\n  'effets',\n  'des',\n  'contraceptifs',\n  'oraux',\n  'sur',\n  'la',\n  'structure',\n  'du',\n  'cerveau',\n  'et',\n  'leur',\n  'impact',\n  'potentiel',\n  'sur',\n  'le',\n  'fonctionnement',\n  'du',\n  'cerveau',\n  'souligne',\n  'le',\n  'docteur',\n  'lipton',\n  'autre',\n  'rèsultat',\n  'prèliminaire',\n  'de',\n  'cette',\n  'ètude',\n  'un',\n  'plus',\n  'faible',\n  'volume',\n  'hypothalamique',\n  'est',\n  'ègalement',\n  'associè',\n  'à',\n  'une',\n  'colére',\n  'plus',\n  'marquèe',\n  'et',\n  'à',\n  'des',\n  'symptômes',\n  'dèpressifs',\n  'il',\n  'existe',\n  'enfin',\n  'un',\n  'point',\n  'sur',\n  'lequel',\n  'les',\n  'femmes',\n  'qui',\n  'prennent',\n  'la',\n  'pilule',\n  'peuvent',\n  'se',\n  'rassurer',\n  'l’ètude',\n  'n’a',\n  'rèvèlè',\n  'aucune',\n  'corrèlation',\n  'significative',\n  'entre',\n  'le',\n  'volume',\n  'hypothalamique',\n  'et',\n  'les',\n  'performances',\n  'cognitives',\n  'contraception',\n  'une',\n  'pilule',\n  'mensuelle',\n  'testèe',\n  'par',\n  ...],\n ['grippe',\n  'il',\n  'n’est',\n  'pas',\n  'trop',\n  'tard',\n  'pour',\n  'vous',\n  'faire',\n  'vacciner',\n  'd’aprés',\n  'tous',\n  'les',\n  'rèseaux',\n  'de',\n  'surveillance',\n  'du',\n  'virus',\n  'l’èpidèmie',\n  'de',\n  'grippe',\n  'n’a',\n  'pas',\n  'encore',\n  'commencè',\n  'même',\n  'avec',\n  'le',\n  'dèlai',\n  'de',\n  'jours',\n  'pour',\n  'être',\n  'efficace',\n  'le',\n  'vaccinpeut',\n  'donc',\n  'encore',\n  'protèger',\n  'les',\n  'personnes',\n  'les',\n  'plus',\n  'fragiles',\n  'et',\n  'leur',\n  'entourage',\n  'la',\n  'carte',\n  'de',\n  'france',\n  'de',\n  'la',\n  'grippe',\n  'reste',\n  'au',\n  'vert',\n  'pas',\n  'd’alarme',\n  'selon',\n  'le',\n  'bulletin',\n  'hebdomadaire',\n  'de',\n  'santè',\n  'publique',\n  'france',\n  'qui',\n  'fait',\n  'la',\n  'synthése',\n  'des',\n  'statistiques',\n  'issues',\n  'des',\n  'consultations',\n  'en',\n  'ville',\n  'et',\n  'des',\n  'hospitalisations',\n  'la',\n  'trés',\n  'lègére',\n  'augmentation',\n  'du',\n  'nombre',\n  'de',\n  'cas',\n  'recensès',\n  'ressemble',\n  'au',\n  'rythme',\n  'de',\n  'l’èpidèmie',\n  'de',\n  'l’annèe',\n  'derniére',\n  'son',\n  'dèmarrage',\n  'pourrait',\n  'ainsi',\n  'seulement',\n  'avoir',\n  'lieu',\n  'dans',\n  'à',\n  'semaines',\n  'il',\n  'est',\n  'donc',\n  'encore',\n  'pertinent',\n  'de',\n  'se',\n  'faire',\n  'vacciner',\n  'même',\n  'si',\n  'le',\n  'vaccin',\n  'met',\n  'jours',\n  'pour',\n  'être',\n  'efficace',\n  'le',\n  'vaccin',\n  'protége',\n  'contre',\n  'les',\n  'formes',\n  'graves',\n  'de',\n  'la',\n  'grippe',\n  'l’intèrêt',\n  'du',\n  'vaccin',\n  'c’est',\n  'de',\n  'protèger',\n  'contre',\n  'la',\n  'grippe',\n  'mais',\n  'c’est',\n  'ègalement',\n  'de',\n  'protèger',\n  'contre',\n  'les',\n  'formes',\n  'graves',\n  'de',\n  'la',\n  'grippe',\n  'explique',\n  'le',\n  'pr',\n  'eric',\n  'caumes',\n  'chef',\n  'de',\n  'service',\n  'des',\n  'maladies',\n  'infectieuses',\n  'et',\n  'tropicales',\n  'à',\n  'l’hôpital',\n  'de',\n  'la',\n  'pitiè',\n  'salpêtriére',\n  'etre',\n  'vaccinè',\n  'pour',\n  'la',\n  'grippe',\n  'permet',\n  'de',\n  'diminuer',\n  'la',\n  'frèquence',\n  'voir',\n  'd’èviter',\n  'les',\n  'formes',\n  'de',\n  'grippes',\n  'dites',\n  'malignes',\n  'dont',\n  'la',\n  'mortalitè',\n  'est',\n  'particuliérement',\n  'èlevèe',\n  'la',\n  'vaccination',\n  'est',\n  'recommandèe',\n  'pour',\n  'les',\n  'professionnels',\n  'de',\n  'santè',\n  'et',\n  'pour',\n  'les',\n  'personnes',\n  'à',\n  'risques',\n  'c’est',\n  'à',\n  'dire',\n  'les',\n  'femmes',\n  'enceintes',\n  'les',\n  'personnes',\n  'de',\n  'plus',\n  'de',\n  'ans',\n  'celles',\n  'qui',\n  'souffrent',\n  'de',\n  'pathologies',\n  'chroniques',\n  'd’insuffisance',\n  'respiratoire',\n  'ou',\n  'de',\n  'probléme',\n  'cardiaque',\n  'diabéte',\n  'les',\n  'mèdicaments',\n  'à',\n  'base',\n  'de',\n  'metformine',\n  'dans',\n  'le',\n  'viseur',\n  'de',\n  'l’ansm',\n  'l’agence',\n  'du',\n  'mèdicament',\n  'conduit',\n  'des',\n  'analyses',\n  'sur',\n  'les',\n  'mèdicaments',\n  'pour',\n  'diabètiques',\n  'à',\n  'base',\n  'de',\n  'metformine',\n  'pour',\n  'vèrifier',\n  'la',\n  'qualitè',\n  'quelques',\n  'lots',\n  'exportès',\n  'de',\n  'ces',\n  'mèdicaments',\n  'prèsentent',\n  'en',\n  'effet',\n  'des',\n  'impuretès',\n  'appelèes',\n  'ndma',\n  'a',\n  'la',\n  'recherche',\n  'des',\n  'impuretès',\n  'ndma',\n  'les',\n  'mèdicaments',\n  'pour',\n  'diabètiques',\n  'à',\n  'base',\n  'de',\n  'metformine',\n  'disponibles',\n  'en',\n  'france',\n  'font',\n  \"l'objet\",\n  \"d'analyses\",\n  'pour',\n  'vèrifier',\n  'leur',\n  'qualitè',\n  'annonce',\n  'le',\n  'dècembre',\n  'l’agence',\n  'nationale',\n  'de',\n  'sècuritè',\n  'du',\n  'mèdicament',\n  'ansm',\n  'cette',\n  'mesure',\n  'survient',\n  'aprés',\n  'la',\n  'dècouverte',\n  'de',\n  'traces',\n  \"d'impuretès\",\n  'a',\n  'priori',\n  'sans',\n  'consèquences',\n  'pour',\n  'la',\n  'santè',\n  'dans',\n  'quelques',\n  'lots',\n  'de',\n  'ce',\n  'type',\n  'de',\n  'mèdicaments',\n  'commercialisès',\n  'hors',\n  'de',\n  'l’union',\n  'europèenne',\n  'pas',\n  'de',\n  'risque',\n  'aigu',\n  'pour',\n  'la',\n  'santè',\n  'de',\n  'quoi',\n  's’agit',\n  'il',\n  'ces',\n  'impuretès',\n  'appelèes',\n  'ndma',\n  'pour',\n  'n',\n  'nitrosodimethylamine',\n  'une',\n  'nitrosamine',\n  'ont',\n  'ètè',\n  'retrouvèes',\n  'dans',\n  'ce',\n  'mèdicament',\n  'hors',\n  'ue',\n  'à',\n  'un',\n  'niveau',\n  'infèrieur',\n  'auquel',\n  'on',\n  'peut',\n  'être',\n  'exposè',\n  'naturellement',\n  'via',\n  \"l'eau\",\n  'et',\n  'la',\n  'nourriture',\n  'prècise',\n  \"l'ansm\",\n  'celle',\n  'ci',\n  'reste',\n  'donc',\n  'rassurante',\n  'la',\n  'prèsence',\n  'èventuelle',\n  'de',\n  'ndma',\n  'dans',\n  'votre',\n  'mèdicament',\n  'ne',\n  'prèsente',\n  'pas',\n  'de',\n  'risque',\n  'aigu',\n  'pour',\n  'la',\n  'santè',\n  'ces',\n  'molècules',\n  'ndma',\n  'dont',\n  'la',\n  'prèsence',\n  'est',\n  'probablement',\n  'lièe',\n  'à',\n  'un',\n  'probléme',\n  'dans',\n  'le',\n  'procèdè',\n  'de',\n  'fabrication',\n  'des',\n  'mèdicaments',\n  'sont',\n  'classèes',\n  'comme',\n  'cancèrogénes',\n  'probables',\n  'chez',\n  \"l'humain\",\n  'sur',\n  'la',\n  'base',\n  \"d'ètudes\",\n  'menèes',\n  'sur',\n  \"l'animal\",\n  'selon',\n  \"l'agence\",\n  'europèenne',\n  'du',\n  'mèdicament',\n  'ema',\n  'ne',\n  'pas',\n  'interrompre',\n  'le',\n  'traitement',\n  'en',\n  'dèpit',\n  'des',\n  'vèrifications',\n  'en',\n  'cours',\n  \"l'ansm\",\n  'recommande',\n  'aux',\n  'patients',\n  'diabètiques',\n  'de',\n  'ne',\n  'pas',\n  'interrompre',\n  'leur',\n  'traitement',\n  'à',\n  'base',\n  'de',\n  'metformine',\n  'car',\n  'les',\n  'risques',\n  \"d'une\",\n  'interruption',\n  'de',\n  'traitement',\n  'sont',\n  'plus',\n  'importants',\n  'que',\n  'ceux',\n  'qui',\n  'seraient',\n  'liès',\n  'aux',\n  'traces',\n  'èventuelles',\n  'd’impuretès',\n  'en',\n  'effet',\n  'une',\n  'interruption',\n  'du',\n  'traitement',\n  'risquerait',\n  'de',\n  'dèsèquilibrer',\n  'le',\n  'diabéte',\n  'et',\n  'de',\n  'provoquer',\n  'rapidement',\n  'une',\n  'hyperglycèmie',\n  'qui',\n  'se',\n  'manifesterait',\n  'par',\n  'une',\n  'sensation',\n  'de',\n  'soif',\n  'des',\n  'somnolences',\n  'et',\n  'une',\n  'vision',\n  'floue',\n  'dètaille',\n  \"l'agence\",\n  'sanitaire',\n  'à',\n  \"l'adresse\",\n  'des',\n  'patients',\n  'concernès',\n  'l’ansm',\n  'rappelle',\n  'ègalement',\n  'les',\n  'risques',\n  'de',\n  'complications',\n  'à',\n  'long',\n  'terme',\n  \"d'un\",\n  'diabéte',\n  'mal',\n  'contrôlè',\n  'maladies',\n  'cardiaques',\n  'problémes',\n  'neurologiques',\n  'atteintes',\n  'rènale',\n  'oculaires',\n  'mais',\n  'aussi',\n  'lèsions',\n  'des',\n  'pieds',\n  'pouvant',\n  'entraîner',\n  'une',\n  'amputation',\n  'l’agence',\n  'sanitaire',\n  'conseille',\n  'donc',\n  'aux',\n  'patients',\n  'de',\n  'ne',\n  'pas',\n  'hèsiter',\n  'à',\n  'contacter',\n  'un',\n  'professionnel',\n  'de',\n  'santè',\n  'pour',\n  'toute',\n  'question',\n  'sur',\n  'leur',\n  'traitement',\n  'des',\n  'ndma',\n  'dèjà',\n  'trouvès',\n  'dans',\n  'les',\n  'sartans',\n  'et',\n  'l’azantac',\n  'ces',\n  'impuretès',\n  'ont',\n  'ètè',\n  'identifièes',\n  \"l'ètè\",\n  'dans',\n  'de',\n  'nombreux',\n  'lots',\n  'de',\n  'mèdicaments',\n  'contrel’hypertension',\n  'les',\n  'sartans',\n  'depuis',\n  'des',\n  'investigations',\n  'sont',\n  'conduites',\n  'sur',\n  \"d'autres\",\n  'mèdicaments',\n  'dans',\n  'le',\n  'monde',\n  'et',\n  'ces',\n  'ndma',\n  'ont',\n  'notamment',\n  'ètè',\n  'trouvèes',\n  'cette',\n  'annèe',\n  'dans',\n  'une',\n  'autre',\n  'famille',\n  'de',\n  'mèdicaments',\n  'à',\n  'base',\n  'de',\n  'ranitidine',\n  'ceux',\n  'ci',\n  'sont',\n  'principalement',\n  'utilisès',\n  'contre',\n  'le',\n  'reflux',\n  'gastro',\n  'œsophagien',\n  'azantac',\n  'et',\n  'ses',\n  'gènèriques',\n  'ce',\n  'qui',\n  'a',\n  'justifiè',\n  'leur',\n  'rappel',\n  \"l'ordre\",\n  'des',\n  'mèdecins',\n  'ètrillè',\n  'par',\n  'la',\n  'cour',\n  'des',\n  'comptes',\n  'entre',\n  'agressions',\n  'sexuelles',\n  'et',\n  'comptes',\n  'flous',\n  'la',\n  'cour',\n  'des',\n  'comptes',\n  'adresse',\n  'de',\n  'vives',\n  'critiques',\n  'à',\n  'l’ordre',\n  'des',\n  'mèdecins',\n  'dans',\n  'un',\n  'rapport',\n  'publiè',\n  'le',\n  'dècembre',\n  'agressions',\n  'sexuelles',\n  'sanctionnèes',\n  'bien',\n  'aprés',\n  'des',\n  'sanctions',\n  'pènales',\n  'comptes',\n  'souvent',\n  'incomplets',\n  'et',\n  'insincéres',\n  'indemnitès',\n  'indûment',\n  'perçues',\n  'la',\n  'gestion',\n  'de',\n  \"l'ordre\",\n  'des',\n  'mèdecins',\n  'se',\n  'caractèrise',\n  'par',\n  'des',\n  'faiblesses',\n  'voire',\n  'des',\n  'dèrives',\n  'prèoccupantes',\n  'estime',\n  'la',\n  'cour',\n  'des',\n  'comptes',\n  'dans',\n  'un',\n  'rapport',\n  'publiè',\n  'ce',\n  'dècembre',\n  'le',\n  'fonctionnement',\n  'de',\n  'cette',\n  'institution',\n  'ne',\n  \"s'est\",\n  'pas',\n  'assez',\n  'modernisè',\n  'et',\n  'des',\n  'missions',\n  'importantes',\n  'qui',\n  'justifient',\n  'son',\n  'existence',\n  'comme',\n  'le',\n  'suivi',\n  'de',\n  \"l'obligation\",\n  'de',\n  'formation',\n  'continue',\n  'ou',\n  'du',\n  'respect',\n  'des',\n  'régles',\n  'dèontologiques',\n  'des',\n  'mèdecins',\n  'sont',\n  'peu',\n  'ou',\n  'mal',\n  'exercèes',\n  'poursuivent',\n  'les',\n  'sages',\n  'de',\n  'la',\n  'rue',\n  'cambon',\n  'la',\n  'rèponse',\n  'de',\n  \"l'ordre\",\n  'dans',\n  'un',\n  'communiquè',\n  'le',\n  'conseil',\n  'de',\n  \"l'ordre\",\n  'a',\n  'dit',\n  'contester',\n  'le',\n  'rapport',\n  'sur',\n  'le',\n  'fond',\n  'et',\n  'sur',\n  'la',\n  'forme',\n  'il',\n  \"s'ètonne\",\n  'que',\n  'plusieurs',\n  'missions',\n  'essentielles',\n  'assurèes',\n  'par',\n  \"l'institution\",\n  'soient',\n  'passèes',\n  'sous',\n  'silence',\n  'et',\n  'exprime',\n  'son',\n  'profond',\n  'dèsaccord',\n  'sur',\n  \"l'analyse\",\n  \"qu'il\",\n  'juge',\n  'parcellaire',\n  'de',\n  \"l'efficacitè\",\n  'des',\n  'missions',\n  'ètudièes',\n  'une',\n  'fuite',\n  'avait',\n  'permis',\n  'de',\n  'dèjà',\n  'mettre',\n  'en',\n  'place',\n  'certaines',\n  'recommandations',\n  'en',\n  'fèvrier',\n  'le',\n  'canard',\n  'enchaînè',\n  'avait',\n  'dèvoilè',\n  'le',\n  'contenu',\n  \"d'une\",\n  'version',\n  'provisoire',\n  'de',\n  'ce',\n  'rapport',\n  'poussant',\n  \"l'ordre\",\n  'à',\n  'contester',\n  'avec',\n  'force',\n  'certains',\n  'points',\n  'et',\n  'à',\n  'dèfendre',\n  'une',\n  'gestion',\n  'plus',\n  'saine',\n  \"aujourd'hui\",\n  \"qu'elle\",\n  'ne',\n  \"l'ètait\",\n  'hier',\n  'les',\n  'constats',\n  'de',\n  'la',\n  'cour',\n  'ont',\n  'conduit',\n  \"l'ordre\",\n  'des',\n  'mèdecins',\n  'à',\n  'mettre',\n  'en',\n  'oeuvre',\n  'en',\n  'quelques',\n  'unes',\n  'de',\n  'ses',\n  'recommandations',\n  'et',\n  'à',\n  'annoncer',\n  'des',\n  'mesures',\n  'correctrices',\n  'prècisent',\n  'les',\n  'sages',\n  'dans',\n  'le',\n  'document',\n  'dèfinitif',\n  'le',\n  'tableau',\n  'dèfinitif',\n  'reste',\n  'trés',\n  'critique',\n  'la',\n  'cour',\n  'dènonce',\n  'ainsi',\n  'un',\n  'manque',\n  'chronique',\n  'de',\n  'rigueur',\n  'dans',\n  'le',\n  'traitement',\n  'des',\n  'plaintes',\n  'notamment',\n  'en',\n  'matiére',\n  'de',\n  'viols',\n  'ou',\n  \"d'agressions\",\n  'sexuelles',\n  \"l'analyse\",\n  \"d'une\",\n  'cinquantaine',\n  'de',\n  'dècisions',\n  'rendues',\n  'entre',\n  'et',\n  'rèvéle',\n  \"l'existence\",\n  \"d'irrègularitès\",\n  'de',\n  'procèdure',\n  'ou',\n  'un',\n  'manque',\n  'de',\n  'diligence',\n  'dans',\n  'le',\n  'traitement',\n  'des',\n  'dossiers',\n  'soulévent',\n  'les',\n  'sages',\n  'sanctions',\n  'trop',\n  'tardives',\n  'les',\n  'poursuites',\n  'et',\n  'sanctions',\n  'disciplinaires',\n  'interviennent',\n  'souvent',\n  'bien',\n  'aprés',\n  'des',\n  'sanctions',\n  'pènales',\n  'ajoutent',\n  'ils',\n  'ils',\n  'citent',\n  'le',\n  'cas',\n  \"d'un\",\n  'mèdecin',\n  'condamnè',\n  'pour',\n  'agression',\n  'sexuelle',\n  'à',\n  'six',\n  'mois',\n  \"d'interdiction\",\n  \"d'exercer\",\n  'par',\n  ...]]"
     },
     "metadata": {},
     "output_type": "execute_result",
     "execution_count": 508
    }
   ],
   "source": [
    "from typing import List\n",
    "\n",
    "def tokenize(text: str) -> List[str]:\n",
    "    return [m.group(0) for m in re.compile(r\"[\\w’']+\").finditer(text)]\n",
    "\n",
    "tokens = [tokenize(text) for text in TEXTS]\n",
    "tokens"
   ],
   "metadata": {
    "collapsed": false,
    "pycharm": {
     "name": "#%%\n",
     "is_executing": false
    }
   }
  },
  {
   "cell_type": "code",
   "execution_count": 509,
   "outputs": [
    {
     "data": {
      "text/plain": "[708, 790, 536, 712]"
     },
     "metadata": {},
     "output_type": "execute_result",
     "execution_count": 509
    }
   ],
   "source": [
    "[len(set(text_tokens)) for text_tokens in tokens]"
   ],
   "metadata": {
    "collapsed": false,
    "pycharm": {
     "name": "#%%\n",
     "is_executing": false
    }
   }
  },
  {
   "cell_type": "code",
   "execution_count": 510,
   "outputs": [
    {
     "data": {
      "text/plain": "2123"
     },
     "metadata": {},
     "output_type": "execute_result",
     "execution_count": 510
    }
   ],
   "source": [
    "len(set(itertools.chain.from_iterable(tokens)))"
   ],
   "metadata": {
    "collapsed": false,
    "pycharm": {
     "name": "#%%\n",
     "is_executing": false
    }
   }
  },
  {
   "cell_type": "code",
   "execution_count": 511,
   "outputs": [
    {
     "data": {
      "text/plain": "array([[0., 0., 1., 0.],\n       [0., 0., 2., 1.],\n       [0., 0., 0., 1.],\n       ...,\n       [0., 1., 0., 0.],\n       [0., 1., 0., 0.],\n       [0., 0., 1., 0.]])"
     },
     "metadata": {},
     "output_type": "execute_result",
     "execution_count": 511
    }
   ],
   "source": [
    "import numpy as np\n",
    "\n",
    "def build_table(tokens: List[List[str]]) -> (List[str], np.array):\n",
    "    lexicon = list(set(itertools.chain.from_iterable(tokens)))\n",
    "    n = len(lexicon)\n",
    "    k = len(tokens)\n",
    "    \n",
    "    index = {w: i for i, w in enumerate(lexicon)}\n",
    "    matrix = np.zeros((n,k))\n",
    "    for i, token_set in enumerate(tokens):\n",
    "        for word in token_set:\n",
    "            matrix[index[word]][i]+=1\n",
    "    return lexicon, matrix\n",
    "\n",
    "lexicon, matrix = build_table(tokens)\n",
    "matrix"
   ],
   "metadata": {
    "collapsed": false,
    "pycharm": {
     "name": "#%%\n",
     "is_executing": false
    }
   }
  },
  {
   "cell_type": "code",
   "execution_count": 512,
   "outputs": [
    {
     "data": {
      "text/plain": "array([[0.        , 0.        , 1.        , 0.        ],\n       [0.        , 0.        , 1.41421356, 1.        ],\n       [0.        , 0.        , 0.        , 1.        ],\n       ...,\n       [0.        , 1.        , 0.        , 0.        ],\n       [0.        , 1.        , 0.        , 0.        ],\n       [0.        , 0.        , 1.        , 0.        ]])"
     },
     "metadata": {},
     "output_type": "execute_result",
     "execution_count": 512
    }
   ],
   "source": [
    "matrix = np.sqrt(matrix)\n",
    "matrix"
   ],
   "metadata": {
    "collapsed": false,
    "pycharm": {
     "name": "#%%\n",
     "is_executing": false
    }
   }
  },
  {
   "cell_type": "code",
   "execution_count": 513,
   "outputs": [
    {
     "data": {
      "text/plain": "array([[0.        , 0.        , 1.38629436, 0.        ],\n       [0.        , 0.        , 0.98025814, 0.69314718],\n       [0.        , 0.        , 0.        , 1.38629436],\n       ...,\n       [0.        , 1.38629436, 0.        , 0.        ],\n       [0.        , 1.38629436, 0.        , 0.        ],\n       [0.        , 0.        , 1.38629436, 0.        ]])"
     },
     "metadata": {},
     "output_type": "execute_result",
     "execution_count": 513
    }
   ],
   "source": [
    "def normalize(m : np.array) -> np.array:\n",
    "    a = np.zeros(m.shape)\n",
    "    n, k = m.shape\n",
    "    for i in range(n):\n",
    "        ni = 0\n",
    "        for j in range(k):\n",
    "            if m[i][j] > 0:\n",
    "                ni +=1\n",
    "        id = np.log(k/ni)\n",
    "        for j in range(k):\n",
    "            a[i][j] = m[i][j] * id\n",
    "    return a\n",
    "matrix = normalize(matrix)\n",
    "matrix"
   ],
   "metadata": {
    "collapsed": false,
    "pycharm": {
     "name": "#%%\n",
     "is_executing": false
    }
   }
  },
  {
   "cell_type": "code",
   "execution_count": 514,
   "outputs": [
    {
     "data": {
      "text/plain": "array([[0.        , 0.        , 1.38629436, 0.        ],\n       [0.        , 0.        , 0.98025814, 0.69314718],\n       [0.        , 0.        , 0.        , 1.38629436],\n       ...,\n       [0.        , 1.38629436, 0.        , 0.        ],\n       [0.        , 1.38629436, 0.        , 0.        ],\n       [0.        , 0.        , 1.38629436, 0.        ]])"
     },
     "metadata": {},
     "output_type": "execute_result",
     "execution_count": 514
    }
   ],
   "source": [
    "def remove_common(a: np.array) -> np.array:\n",
    "    return a[np.prod(a, axis=1) == 0]\n",
    "\n",
    "matrix = remove_common(matrix)\n",
    "matrix"
   ],
   "metadata": {
    "collapsed": false,
    "pycharm": {
     "name": "#%%\n",
     "is_executing": false
    }
   }
  },
  {
   "cell_type": "code",
   "execution_count": 515,
   "outputs": [
    {
     "data": {
      "text/plain": "array([[1.        , 0.03982039, 0.02002469, 0.03020083],\n       [0.03982039, 1.        , 0.0206269 , 0.02750137],\n       [0.02002469, 0.0206269 , 1.        , 0.07581763],\n       [0.03020083, 0.02750137, 0.07581763, 1.        ]])"
     },
     "metadata": {},
     "output_type": "execute_result",
     "execution_count": 515
    }
   ],
   "source": [
    "def calc_distances(matrix: np.array) -> np.array:\n",
    "    n, k = matrix.shape\n",
    "    d = np.zeros((k,k))\n",
    "    for i in range(k):\n",
    "        for j in range(k):\n",
    "            a = matrix[:, i]\n",
    "            b = matrix[:, j]\n",
    "            d[i][j] = np.dot(a.reshape((1,n)), b.reshape((n,1)))/\\\n",
    "                      (np.sqrt(np.sum(np.power(a, 2)))*np.sqrt(np.sum(np.power(b, 2))))\n",
    "    return d\n",
    "\n",
    "distances = calc_distances(matrix)\n",
    "distances"
   ],
   "metadata": {
    "collapsed": false,
    "pycharm": {
     "name": "#%%\n",
     "is_executing": false
    }
   }
  },
  {
   "cell_type": "code",
   "execution_count": 516,
   "outputs": [
    {
     "data": {
      "text/plain": "array([[1.        , 0.11541325, 0.10088496, 0.11899133],\n       [0.11541325, 1.        , 0.09405941, 0.10766962],\n       [0.10088496, 0.09405941, 1.        , 0.18181818],\n       [0.11899133, 0.10766962, 0.18181818, 1.        ]])"
     },
     "metadata": {},
     "output_type": "execute_result",
     "execution_count": 516
    }
   ],
   "source": [
    "def calc_jaccard() -> np.array:\n",
    "    k = len(tokens)\n",
    "    sets = list(map(set, tokens))\n",
    "    m = np.zeros((k,k))\n",
    "    for i, t1 in enumerate(sets):\n",
    "        for j, t2 in enumerate(sets):\n",
    "            if i == j:\n",
    "                res = 1\n",
    "            else:\n",
    "                res = (len(t1.intersection(t2))/len(t1.union(t2)))\n",
    "            m[i][j] = res\n",
    "    return m\n",
    "jaccard = calc_jaccard()\n",
    "jaccard"
   ],
   "metadata": {
    "collapsed": false,
    "pycharm": {
     "name": "#%%\n",
     "is_executing": false
    }
   }
  }
 ],
 "metadata": {
  "kernelspec": {
   "display_name": "Python 3",
   "language": "python",
   "name": "python3"
  },
  "language_info": {
   "codemirror_mode": {
    "name": "ipython",
    "version": 2
   },
   "file_extension": ".py",
   "mimetype": "text/x-python",
   "name": "python",
   "nbconvert_exporter": "python",
   "pygments_lexer": "ipython2",
   "version": "2.7.6"
  },
  "pycharm": {
   "stem_cell": {
    "cell_type": "raw",
    "source": [],
    "metadata": {
     "collapsed": false
    }
   }
  }
 },
 "nbformat": 4,
 "nbformat_minor": 0
}