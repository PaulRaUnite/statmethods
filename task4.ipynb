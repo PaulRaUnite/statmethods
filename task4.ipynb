{
 "cells": [
  {
   "cell_type": "markdown",
   "metadata": {
    "collapsed": true,
    "pycharm": {
     "name": "#%% md\n"
    }
   },
   "source": [
    "# Статистичні методи\n",
    "Індивідуальне завдання 4\n",
    "\n",
    "Токарєв Павло, МФ-51"
   ]
  },
  {
   "cell_type": "markdown",
   "source": [
    "## Вхідні дані"
   ],
   "metadata": {
    "collapsed": false
   }
  },
  {
   "cell_type": "code",
   "execution_count": 9,
   "outputs": [],
   "source": [
    "alpha, beta = 0.07, 0.05\n",
    "sample = [-0.222362915676639,1.56061777965557,0.486413313363857,\n",
    "          -0.664078961055463,0.693305504620116,0.504679892289926,\n",
    "          -0.075334622837921,0.722872236671769,-0.499956325497213]\n",
    "\n",
    "param_0 = (0.6, 0.5)\n",
    "param_1 = (0.74, 0.34)"
   ],
   "metadata": {
    "collapsed": false,
    "pycharm": {
     "name": "#%%\n",
     "is_executing": false
    }
   }
  },
  {
   "cell_type": "code",
   "execution_count": 10,
   "outputs": [],
   "source": [
    "import numpy as np\n",
    "\n",
    "def laplase(x: float, a: float, b: float) -> float:\n",
    "    return np.exp(-np.abs(x-a)/b)/(2*b)"
   ],
   "metadata": {
    "collapsed": false,
    "pycharm": {
     "name": "#%%\n",
     "is_executing": false
    }
   }
  },
  {
   "cell_type": "markdown",
   "source": [
    "## Алгоритм"
   ],
   "metadata": {
    "collapsed": false,
    "pycharm": {
     "name": "#%% md\n"
    }
   }
  },
  {
   "cell_type": "code",
   "execution_count": 11,
   "outputs": [],
   "source": [
    "from typing import List\n",
    "\n",
    "bound_0 = np.log(beta/(1-alpha))\n",
    "bound_1 = np.log((1-beta)/alpha)\n",
    "\n",
    "def solve() -> str:\n",
    "    statistics = 0\n",
    "    for x in sample:\n",
    "        statistics += np.log(laplase(x, *param_1)/laplase(x, *param_0))\n",
    "        print(statistics)\n",
    "        if statistics <= bound_0:\n",
    "            return \"zero\"\n",
    "        elif statistics >= bound_1:\n",
    "            return \"first\"\n",
    "    return \"neither\""
   ],
   "metadata": {
    "collapsed": false,
    "pycharm": {
     "name": "#%%\n",
     "is_executing": false
    }
   }
  },
  {
   "cell_type": "markdown",
   "source": [
    "## Рішення"
   ],
   "metadata": {
    "collapsed": false,
    "pycharm": {
     "name": "#%% md\n",
     "is_executing": false
    }
   }
  },
  {
   "cell_type": "code",
   "execution_count": 12,
   "outputs": [
    {
     "name": "stdout",
     "text": [
      "-0.8000908515895577\n",
      "-0.9067745163357568\n",
      "-1.0397818582401421\n",
      "-2.2556054584215337\n",
      "-1.8206687194866231\n",
      "-1.9364839871076494\n",
      "-2.598195268966649\n",
      "-2.0171640893059233\n",
      "-3.078519326608963\n"
     ],
     "output_type": "stream"
    },
    {
     "data": {
      "text/plain": "'zero'"
     },
     "metadata": {},
     "output_type": "execute_result",
     "execution_count": 12
    }
   ],
   "source": [
    "solve()"
   ],
   "metadata": {
    "collapsed": false,
    "pycharm": {
     "name": "#%%\n",
     "is_executing": false
    }
   }
  },
  {
   "cell_type": "markdown",
   "source": [
    "Таким чином ми приймаємо першу з гіпотез."
   ],
   "metadata": {
    "collapsed": false,
    "pycharm": {
     "name": "#%% md\n"
    }
   }
  }
 ],
 "metadata": {
  "kernelspec": {
   "display_name": "Python 3",
   "language": "python",
   "name": "python3"
  },
  "language_info": {
   "codemirror_mode": {
    "name": "ipython",
    "version": 2
   },
   "file_extension": ".py",
   "mimetype": "text/x-python",
   "name": "python",
   "nbconvert_exporter": "python",
   "pygments_lexer": "ipython2",
   "version": "2.7.6"
  },
  "pycharm": {
   "stem_cell": {
    "cell_type": "raw",
    "source": [],
    "metadata": {
     "collapsed": false
    }
   }
  }
 },
 "nbformat": 4,
 "nbformat_minor": 0
}