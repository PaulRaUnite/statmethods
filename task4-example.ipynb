{
 "cells": [
  {
   "cell_type": "markdown",
   "source": [
    "Inputs"
   ],
   "metadata": {
    "collapsed": false,
    "pycharm": {
     "name": "#%% md\n"
    }
   }
  },
  {
   "cell_type": "code",
   "execution_count": 5,
   "outputs": [],
   "source": [
    "alpha, beta = 0.03, 0.07\n",
    "sample = [0.568600089, 0.785936733, 1.085380847, 0.527281092, 0.958812122, 0.075300754,\n",
    "0.989436915, 0.914055786, 0.87382642, 0.716292563, 0.642531039, 0.846336738,\n",
    "1.048821817, 0.397196046, 0.763721472, 0.901917562]\n",
    "\n",
    "param_0 = (0.9, 0.2)\n",
    "param_1 = (0.95, 0.25)"
   ],
   "metadata": {
    "collapsed": false,
    "pycharm": {
     "name": "#%%\n",
     "is_executing": false
    }
   }
  },
  {
   "cell_type": "code",
   "execution_count": 6,
   "outputs": [],
   "source": [
    "import numpy as np\n",
    "\n",
    "def laplase(x: float, a: float, b: float) -> float:\n",
    "    return np.exp(-np.abs(x-a)/b)/(2*b)"
   ],
   "metadata": {
    "collapsed": false,
    "pycharm": {
     "name": "#%%\n",
     "is_executing": false
    }
   }
  },
  {
   "cell_type": "code",
   "execution_count": 7,
   "outputs": [],
   "source": [
    "from typing import List\n",
    "\n",
    "bound_0 = np.log(beta/(1-alpha))\n",
    "bound_1 = np.log((1-beta)/alpha)\n",
    "\n",
    "def solve() -> str:\n",
    "    statistics = 0\n",
    "    for x in sample:\n",
    "        statistics += np.log(laplase(x, *param_1)/laplase(x, *param_0))\n",
    "        print(statistics)\n",
    "        if statistics <= bound_0:\n",
    "            return \"zero\"\n",
    "        elif statistics >= bound_1:\n",
    "            return \"first\"\n",
    "    return \"neither\""
   ],
   "metadata": {
    "collapsed": false,
    "pycharm": {
     "name": "#%%\n",
     "is_executing": false
    }
   }
  },
  {
   "cell_type": "code",
   "execution_count": 8,
   "outputs": [
    {
     "name": "stdout",
     "text": [
      "-0.09174364031420962\n",
      "-0.400823924628419\n",
      "-0.2385866289426291\n",
      "-0.2890112722568386\n",
      "-0.25334270157104855\n",
      "0.1482129931147418\n",
      "0.21450635680053184\n",
      "-0.08213512051367747\n",
      "-0.47910509182788685\n",
      "-0.7185412061420964\n",
      "-0.8842157964563059\n",
      "-1.2536960857705153\n",
      "-1.128017820084725\n",
      "-1.0483574173989345\n",
      "-1.3352224407131439\n",
      "-1.741107934027354\n"
     ],
     "output_type": "stream"
    },
    {
     "data": {
      "text/plain": "'neither'"
     },
     "metadata": {},
     "output_type": "execute_result",
     "execution_count": 8
    }
   ],
   "source": [
    "solve()"
   ],
   "metadata": {
    "collapsed": false,
    "pycharm": {
     "name": "#%%\n",
     "is_executing": false
    }
   }
  }
 ],
 "metadata": {
  "kernelspec": {
   "display_name": "Python 3",
   "language": "python",
   "name": "python3"
  },
  "language_info": {
   "codemirror_mode": {
    "name": "ipython",
    "version": 2
   },
   "file_extension": ".py",
   "mimetype": "text/x-python",
   "name": "python",
   "nbconvert_exporter": "python",
   "pygments_lexer": "ipython2",
   "version": "2.7.6"
  },
  "pycharm": {
   "stem_cell": {
    "cell_type": "raw",
    "source": [],
    "metadata": {
     "collapsed": false
    }
   }
  }
 },
 "nbformat": 4,
 "nbformat_minor": 0
}